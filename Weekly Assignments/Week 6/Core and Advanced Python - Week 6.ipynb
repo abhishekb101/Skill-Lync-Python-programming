{
 "cells": [
  {
   "cell_type": "markdown",
   "id": "clinical-playing",
   "metadata": {},
   "source": [
    "## Week 6 Challenge\n"
   ]
  },
  {
   "cell_type": "markdown",
   "id": "literary-obligation",
   "metadata": {},
   "source": [
    "### Importing necessary libraries"
   ]
  },
  {
   "cell_type": "code",
   "execution_count": 1,
   "id": "spanish-anthropology",
   "metadata": {},
   "outputs": [],
   "source": [
    "import math\n",
    "import os\n",
    "import sys\n",
    "import json"
   ]
  },
  {
   "cell_type": "markdown",
   "id": "ready-brooks",
   "metadata": {},
   "source": [
    "**Q1** - *Write a program that read contents of the file ‘messages’ one character at a time and prints each character that is read.*"
   ]
  },
  {
   "cell_type": "code",
   "execution_count": 6,
   "id": "published-airline",
   "metadata": {},
   "outputs": [
    {
     "name": "stdout",
     "output_type": "stream",
     "text": [
      "G\n",
      "o\n",
      "o\n",
      "d\n",
      " \n",
      "e\n",
      "v\n",
      "e\n",
      "n\n",
      "i\n",
      "n\n",
      "g\n",
      "\n",
      "\n",
      "H\n",
      "o\n",
      "p\n",
      "e\n",
      " \n",
      "y\n",
      "o\n",
      "u\n",
      " \n",
      "a\n",
      "r\n",
      "e\n",
      " \n",
      "d\n",
      "o\n",
      "i\n",
      "n\n",
      "g\n",
      " \n",
      "w\n",
      "e\n",
      "l\n",
      "l\n",
      "\n",
      "\n"
     ]
    }
   ],
   "source": [
    "#Reading the txt file as file -- Printing one char in one line\n",
    "with open('messages.txt', 'r') as file:\n",
    "    \n",
    "    #Iterating over each character in the entire string of file\n",
    "    for char in file.read():\n",
    "        print(char)"
   ]
  },
  {
   "cell_type": "markdown",
   "id": "respected-evidence",
   "metadata": {},
   "source": [
    "**Q2** - *Write a Python program that searches for a file, obtains its size and reports the size in bytes/ KB/ MB as appropriate*"
   ]
  },
  {
   "cell_type": "code",
   "execution_count": 3,
   "id": "hearing-pharmacology",
   "metadata": {},
   "outputs": [
    {
     "name": "stdout",
     "output_type": "stream",
     "text": [
      "Enter the file_path to obtain its file size: question9.py\n",
      "\n",
      "The size of the file \"question9.py\": 1.65 KB\n"
     ]
    }
   ],
   "source": [
    "def size(num):\n",
    "    \"\"\"\n",
    "    Given the file size in number of bytes it \n",
    "    converts it into B/ KB/ MB level for printing\n",
    "    \"\"\"\n",
    "    for x in ['bytes','KB','MB']:\n",
    "        #If the number is less than 1024 it means that it is in bytes only\n",
    "        if num < 1024:\n",
    "            return str(round(num, 2)) + ' ' + x\n",
    "        \n",
    "        #If not then the file is in KB or MB\n",
    "        else:\n",
    "            num /= 1024\n",
    "\n",
    "def file_size(file_path):\n",
    "    \"\"\"\n",
    "    Given the file_name the function calculates the file size in Bytes/KB/MB\n",
    "    \"\"\"\n",
    "\n",
    "    #Checking whether the file exists or not\n",
    "    assert os.path.isfile(file_path)\n",
    "        \n",
    "    #Obtaining file info using os.stat function\n",
    "    file_info = os.stat(file_path)\n",
    "        \n",
    "    #Accessing the file size in bytes using st.size \n",
    "    return size(file_info.st_size)\n",
    "    \n",
    "#Inputting the file from the user\n",
    "file_name = input('Enter the file_path to obtain its file size: ')\n",
    "\n",
    "#Getting the current working directory and obtaining the whole file path for function\n",
    "root = os.getcwd()\n",
    "file_path = os.path.join(root, file_name)\n",
    "\n",
    "if os.path.isfile(file_path):\n",
    "    print('\\nThe size of the file \"{}\": {}'.format(file_name, file_size(file_path)))\n",
    "else:\n",
    "    print(\"\\nCheck the file entered as it doesn't exist.\")"
   ]
  },
  {
   "cell_type": "markdown",
   "id": "inner-nelson",
   "metadata": {},
   "source": [
    "**Q3** - *Write a program to accept a filename from the user, create a file with that name(if it does not exist) and write some content into the file*"
   ]
  },
  {
   "cell_type": "code",
   "execution_count": 7,
   "id": "similar-begin",
   "metadata": {},
   "outputs": [
    {
     "name": "stdout",
     "output_type": "stream",
     "text": [
      "Enter a file to write content into: messages.txt\n",
      "\n",
      "The contents of the \"messages.txt\" file before writing:\n",
      "\n",
      "Good evening\n",
      "Hope you are doing well\n",
      "\n",
      "\n",
      "Displaying the content that has been written into messages.txt:\n",
      "\n",
      "Good evening\n",
      "Hope you are doing well\n",
      "This is a python course\n",
      "We are currently on Week 6\n",
      "\n"
     ]
    }
   ],
   "source": [
    "#Assuming that we don't want to overwrite the content on the file if it does actually exist\n",
    "#Using append mode we can handle both situations gracefully\n",
    "\n",
    "file_name = input('Enter a file to write content into: ')\n",
    "\n",
    "if os.path.isfile(file_name):\n",
    "    print('\\nThe contents of the \"{}\" file before writing:\\n'.format(file_name))\n",
    "    with open(file_name, 'r') as file1:\n",
    "        print(file1.read())\n",
    "\n",
    "#Appending new content to the file\n",
    "file = open(file_name, 'a')\n",
    "\n",
    "#Writing some content into the file and closing it\n",
    "file.write('This is a python course\\n')\n",
    "file.write('We are currently on Week 6\\n')\n",
    "file.close()\n",
    "\n",
    "#Checking to see if the content has been added or not\n",
    "print('\\nDisplaying the content that has been written into {}:\\n'.format(file_name))\n",
    "with open(file_name, 'r') as f:\n",
    "    print(f.read())"
   ]
  },
  {
   "cell_type": "markdown",
   "id": "hidden-natural",
   "metadata": {},
   "source": [
    "**Q4** - *Write a program to read a file and display its contents along with line numbers before each line*"
   ]
  },
  {
   "cell_type": "code",
   "execution_count": 8,
   "id": "reduced-washer",
   "metadata": {},
   "outputs": [
    {
     "name": "stdout",
     "output_type": "stream",
     "text": [
      "Enter a file to display its contents: messages.txt\n",
      "\n",
      "\n",
      "0: Good evening\n",
      "1: Hope you are doing well\n",
      "2: This is a python course\n",
      "3: We are currently on Week 6\n"
     ]
    }
   ],
   "source": [
    "#Assuming the user enters the file to read and display content\n",
    "file_name = input('Enter a file to display its contents: ')\n",
    "print('\\n')\n",
    "\n",
    "#Checking if the file exists or not\n",
    "if os.path.isfile(file_name):\n",
    "    \n",
    "    #Reading the file\n",
    "    with open(file_name, 'r') as file:\n",
    "        \n",
    "        #Storing each line as an element of the list data -- Easy iteration and printing\n",
    "        data = file.readlines()\n",
    "        \n",
    "        #Enumerating over the entries in the data list\n",
    "        for idx, st in enumerate(data):\n",
    "            \n",
    "            #Printing in a specified format\n",
    "            print(str(idx), st, sep=': ', end='')\n",
    "        \n",
    "else:\n",
    "    print(\"Kindly check the filename entered as it doesn't exist.\")"
   ]
  },
  {
   "cell_type": "markdown",
   "id": "thorough-penalty",
   "metadata": {},
   "source": [
    "**Q5** - *Write a program to copy the contents of one file into another*"
   ]
  },
  {
   "cell_type": "code",
   "execution_count": 9,
   "id": "reverse-consent",
   "metadata": {},
   "outputs": [
    {
     "name": "stdout",
     "output_type": "stream",
     "text": [
      "Enter the source file name: welcome1.txt\n",
      "Enter the destination file name for transfer: welcome.txt\n",
      "\n",
      "The contents of the \"welcome1.txt\" file:\n",
      "\n",
      "Good morning\n",
      "This is a Python course.\n",
      "We are currently on week 6.\n",
      "\n",
      "The contents of the \"welcome.txt\" file before copying:\n",
      "\n",
      "Good evening\n",
      "Hope you are doing well.\n",
      "\n",
      "The contents of the \"welcome.txt\" file after copying:\n",
      "\n",
      "Good morning\n",
      "This is a Python course.\n",
      "We are currently on week 6.\n"
     ]
    }
   ],
   "source": [
    "#Assuming a destination file is present and the content is overwritten with file transfer\n",
    "\n",
    "def copy_data(src, dst):\n",
    "    \"\"\"\n",
    "    Copies all the data from the source (src) file\n",
    "    to the destination (dst) file\n",
    "    \"\"\"\n",
    "    #Checking whether the source file exists or not\n",
    "    assert os.path.isfile(src)\n",
    "    \n",
    "    #Defining the access modes and the filenames for the transfer\n",
    "    f1 = open(src, 'r')\n",
    "    f2 = open(dst, 'w')\n",
    "    \n",
    "    #Reading all the contents in a single string\n",
    "    data = f1.read()\n",
    "    \n",
    "    for char in data:\n",
    "        f2.write(char)\n",
    "    \n",
    "    #Closing both the files\n",
    "    f1.close()\n",
    "    f2.close()\n",
    "\n",
    "src = input('Enter the source file name: ')\n",
    "dst = input('Enter the destination file name for transfer: ')\n",
    "\n",
    "#Validating the implementation by showing file status before and after copying\n",
    "print('\\nThe contents of the \"{}\" file:\\n'.format(src))\n",
    "with open(src, 'r') as file1:\n",
    "    print(file1.read())\n",
    "\n",
    "\n",
    "print('\\nThe contents of the \"{}\" file before copying:\\n'.format(dst))\n",
    "with open(dst, 'r') as file2:\n",
    "    print(file2.read())\n",
    "    \n",
    "#The contents of the src file have been copied to the dst file  \n",
    "copy_data(src, dst)\n",
    "\n",
    "print('\\nThe contents of the \"{}\" file after copying:\\n'.format(dst))\n",
    "with open(dst, 'r') as file3:\n",
    "    print(file3.read())"
   ]
  },
  {
   "cell_type": "markdown",
   "id": "described-optimum",
   "metadata": {},
   "source": [
    "**Q6** - *Write a program to append the contents of one file into another*"
   ]
  },
  {
   "cell_type": "code",
   "execution_count": 10,
   "id": "numerous-petite",
   "metadata": {},
   "outputs": [
    {
     "name": "stdout",
     "output_type": "stream",
     "text": [
      "Enter the source file name: welcome2.txt\n",
      "Enter the destination file name for appending: welcome.txt\n",
      "\n",
      "The contents of the source file: \"welcome2.txt\"\n",
      "\n",
      "Today is a hot sunny day in Mumbai.\n",
      "Don't forget to wear sunscreen.\n",
      "\n",
      "\n",
      "The contents of the destionation file \"welcome.txt\" before appending operation:\n",
      "\n",
      "Good morning\n",
      "This is a Python course.\n",
      "We are currently on week 6.\n",
      "\n",
      "The contents of the destionation file \"welcome.txt\" after appending operation:\n",
      "\n",
      "Good morning\n",
      "This is a Python course.\n",
      "We are currently on week 6.Today is a hot sunny day in Mumbai.\n",
      "Don't forget to wear sunscreen.\n",
      "\n"
     ]
    }
   ],
   "source": [
    "def append_data(src, dst):\n",
    "    \"\"\"\n",
    "    Copies all the data from the source (src) file and\n",
    "    appends it into the destination (dst) file\n",
    "    \"\"\"\n",
    "    #Checking whether the source file exists or not\n",
    "    assert os.path.isfile(src)\n",
    "    \n",
    "    #Defining the access modes and the filenames for the transfer\n",
    "    f1 = open(src, 'r')\n",
    "    f2 = open(dst, 'a')\n",
    "    \n",
    "    while True:\n",
    "        #Reading one character at a time from source file\n",
    "        data = f1.read(1)\n",
    "        \n",
    "        #If no data found \n",
    "        if data == \"\":\n",
    "            break\n",
    "        \n",
    "        f2.write(data)\n",
    "\n",
    "    #Closing both the files\n",
    "    f1.close()\n",
    "    f2.close()\n",
    "\n",
    "src = input('Enter the source file name: ')\n",
    "dst = input('Enter the destination file name for appending: ')\n",
    "\n",
    "#Validating the implementation by showing file status before and after copying\n",
    "print('\\nThe contents of the source file: \"{}\"\\n'.format(src))\n",
    "with open(src, 'r') as file1:\n",
    "    print(file1.read())\n",
    "\n",
    "#Printing before status only if the destionation file already exists\n",
    "if os.path.isfile(dst):\n",
    "    print('\\nThe contents of the destionation file \"{}\" before appending operation:\\n'.format(dst))\n",
    "    with open(dst, 'r') as file2:\n",
    "        print(file2.read())\n",
    "    \n",
    "#The contents of the src file have been copied to the dst file  \n",
    "append_data(src, dst)\n",
    "\n",
    "print('\\nThe contents of the destionation file \"{}\" after appending operation:\\n'.format(dst))\n",
    "with open(dst, 'r') as file3:\n",
    "    print(file3.read())"
   ]
  },
  {
   "cell_type": "markdown",
   "id": "metropolitan-democrat",
   "metadata": {},
   "source": [
    "**Q7** - *Suppose a file contains student records, with each record containing name and age of student. Write a program to read these records and display them in sorted order by name*"
   ]
  },
  {
   "cell_type": "code",
   "execution_count": 11,
   "id": "guided-arthur",
   "metadata": {},
   "outputs": [
    {
     "name": "stdout",
     "output_type": "stream",
     "text": [
      "The student records are as follows:\n",
      "\n",
      "Student name: Abhishek Bhattacharyya    Age:  24\n",
      "Student name: Karim Khoja               Age:  26\n",
      "Student name: Ronak Patel               Age:  23\n",
      "Student name: Ronak Patel               Age:  25\n",
      "Student name: Sagarika Sriram           Age:  24\n",
      "Student name: Smarina Sriram            Age:  21\n"
     ]
    }
   ],
   "source": [
    "#Assuming students recorded are stored as a list of tuples in the file_name students.txt\n",
    "#This also allows for entries where students name can be the same\n",
    "#All ties in name are sorted via ascending order in age\n",
    "\n",
    "#Writing content to a new file to show the overall flow of serialisation and deserialisation\n",
    "file = open('students.txt', 'w')\n",
    "\n",
    "#Creating a student dict containing records of students name and age\n",
    "student = [('Abhishek Bhattacharyya', 24),\n",
    "           ('Smarina Sriram', 21),\n",
    "           ('Sagarika Sriram', 24),\n",
    "           ('Ronak Patel', 25),\n",
    "           ('Karim Khoja', 26),\n",
    "           ('Ronak Patel', 23)]\n",
    "\n",
    "#Writing the records into the file above\n",
    "json.dump(student, file, skipkeys=True)\n",
    "file.close()\n",
    "\n",
    "#Creating a function for the same\n",
    "def display_records(file_name):\n",
    "    #Reading the data from the file above and displaying the records in a sorted order by name\n",
    "    with open(file_name, 'r') as f:\n",
    "\n",
    "        #Sorting the data in ascending order of name followed by age in case of any ties\n",
    "        data = sorted(json.load(f), key = lambda x: (x[0], x[1]))\n",
    "\n",
    "        #Iterating over the records to display them in proper manner\n",
    "        for record in data:\n",
    "            print('Student name: {0:25} Age: {1:3}'.format(record[0], record[1]))\n",
    "            \n",
    "#Running the function to display the results\n",
    "print('The student records are as follows:\\n')\n",
    "display_records('students.txt')"
   ]
  },
  {
   "cell_type": "markdown",
   "id": "impressive-rocket",
   "metadata": {},
   "source": [
    "**Q8** - *Suppose there are three modules m1.py, m2.py and m3.py containing functions f1(), f2() and f3() respectively. Write a program to use these functions*"
   ]
  },
  {
   "cell_type": "code",
   "execution_count": 12,
   "id": "certain-notebook",
   "metadata": {},
   "outputs": [
    {
     "name": "stdout",
     "output_type": "stream",
     "text": [
      "Enter the first number: 5\n",
      "Enter the second number: 6\n",
      "\n",
      "The result of addition between two numbers 5.0 and 6.0: 11.0\n",
      "\n",
      "The result of subtraction between two numbers 5.0 and 6.0: -1.0\n",
      "\n",
      "The result of multiplication between two numbers 5.0 and 6.0: 30.00\n"
     ]
    }
   ],
   "source": [
    "#Importing all modules\n",
    "import m1, m2, m3\n",
    "\n",
    "#Entering the inputs required for running the three modules\n",
    "x = float(input('Enter the first number: '))\n",
    "y = float(input('Enter the second number: '))\n",
    "\n",
    "print('\\nThe result of addition between two numbers {} and {}: {}'.format(x, y, m1.f1(x, y)))\n",
    "print('\\nThe result of subtraction between two numbers {} and {}: {}'.format(x, y, m2.f2(x, y)))\n",
    "print('\\nThe result of multiplication between two numbers {} and {}: {:.2f}'.format(x, y, m3.f3(x, y)))"
   ]
  },
  {
   "cell_type": "markdown",
   "id": "stretch-manchester",
   "metadata": {},
   "source": [
    "**Q9** - *Write a program containing functions fun1(), fun2() and fun3() and some statements. Add suitable code to the program such that you can use it as a module or a normal program*"
   ]
  },
  {
   "cell_type": "code",
   "execution_count": 13,
   "id": "motivated-idaho",
   "metadata": {},
   "outputs": [
    {
     "name": "stdout",
     "output_type": "stream",
     "text": [
      "Enter a string for understanding its properties: Top spot\n",
      "\n",
      "The entered string 'Top spot' is a palindrome\n",
      "\n",
      "The number of unique characters in the entered string \"Top spot\": 6\n",
      "\n",
      "The length of the string \"Top spot\": 8\n"
     ]
    }
   ],
   "source": [
    "import question9 as q9\n",
    "\n",
    "#Inputting a string from the user\n",
    "st = input('Enter a string for understanding its properties: ')\n",
    "\n",
    "#Running the three functions in the module question9.py\n",
    "q9.fun1(st)\n",
    "q9.fun2(st)\n",
    "q9.fun3(st)"
   ]
  },
  {
   "cell_type": "markdown",
   "id": "cloudy-nirvana",
   "metadata": {},
   "source": [
    "**Q10** - *Suppose a module called mod.py contains functions f1(), f2() and f3(). Write three forms of import statements to use these functions in your program*"
   ]
  },
  {
   "cell_type": "code",
   "execution_count": 16,
   "id": "changed-israeli",
   "metadata": {},
   "outputs": [
    {
     "name": "stdout",
     "output_type": "stream",
     "text": [
      "Enter the first number: 3.6\n",
      "Enter the second number: 5.1\n",
      "\n",
      "The result of addition between two numbers 3.6 and 5.1: 8.70\n",
      "\n",
      "The result of subtraction between two numbers 3.6 and 5.1: -1.50\n",
      "\n",
      "The result of multiplication between two numbers 3.6 and 5.1: 18.36\n"
     ]
    }
   ],
   "source": [
    "#The first form of importing to use functions -- Importing functions directly for use\n",
    "from mod import f1, f2, f3\n",
    "\n",
    "#The second form of importing to use functions -- Importing functions as an alias\n",
    "from mod import f1 as mf1\n",
    "from mod import f2 as mf2\n",
    "from mod import f3 as mf3\n",
    "\n",
    "#The third form of importing to use functions\n",
    "from mod import *\n",
    "\n",
    "#Fourth form of importing module and then directly using functions with alias\n",
    "import mod as m \n",
    "\n",
    "#Entering the inputs required for running the three modules using the import forms\n",
    "x = float(input('Enter the first number: '))\n",
    "y = float(input('Enter the second number: '))\n",
    "\n",
    "print('\\nThe result of addition between two numbers {} and {}: {:.2f}'.format(x, y, f1(x, y)))\n",
    "print('\\nThe result of subtraction between two numbers {} and {}: {:.2f}'.format(x, y, mf2(x, y)))\n",
    "print('\\nThe result of multiplication between two numbers {} and {}: {:.2f}'.format(x, y, m.f3(x, y)))"
   ]
  }
 ],
 "metadata": {
  "kernelspec": {
   "display_name": "Python 3",
   "language": "python",
   "name": "python3"
  },
  "language_info": {
   "codemirror_mode": {
    "name": "ipython",
    "version": 3
   },
   "file_extension": ".py",
   "mimetype": "text/x-python",
   "name": "python",
   "nbconvert_exporter": "python",
   "pygments_lexer": "ipython3",
   "version": "3.8.5"
  }
 },
 "nbformat": 4,
 "nbformat_minor": 5
}
