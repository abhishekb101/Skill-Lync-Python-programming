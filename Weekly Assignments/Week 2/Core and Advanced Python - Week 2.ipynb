{
 "cells": [
  {
   "cell_type": "markdown",
   "id": "superb-bradley",
   "metadata": {},
   "source": [
    "## Week 2 Challenge"
   ]
  },
  {
   "cell_type": "markdown",
   "id": "great-tower",
   "metadata": {},
   "source": [
    "### Importing necessary libraries"
   ]
  },
  {
   "cell_type": "code",
   "execution_count": 1,
   "id": "extreme-mattress",
   "metadata": {},
   "outputs": [],
   "source": [
    "import math\n",
    "import sys"
   ]
  },
  {
   "cell_type": "markdown",
   "id": "recent-december",
   "metadata": {},
   "source": [
    "**Q1** - *Demonstrate how to create simple and multi-line strings, and check whether a string can change after its creation.*"
   ]
  },
  {
   "cell_type": "code",
   "execution_count": 2,
   "id": "attached-subsection",
   "metadata": {},
   "outputs": [
    {
     "name": "stdout",
     "output_type": "stream",
     "text": [
      "Abhishek\n",
      "Hello, Abhishek\n",
      "\n",
      "Hello Sam,\n",
      "What are you doing today?\n",
      "\n"
     ]
    },
    {
     "ename": "TypeError",
     "evalue": "'str' object does not support item assignment",
     "output_type": "error",
     "traceback": [
      "\u001b[0;31m---------------------------------------------------------------------------\u001b[0m",
      "\u001b[0;31mTypeError\u001b[0m                                 Traceback (most recent call last)",
      "\u001b[0;32m<ipython-input-2-844ea102de7d>\u001b[0m in \u001b[0;36m<module>\u001b[0;34m\u001b[0m\n\u001b[1;32m     10\u001b[0m \u001b[0;34m\u001b[0m\u001b[0m\n\u001b[1;32m     11\u001b[0m \u001b[0;31m#Showing that string datatypes are immutable\u001b[0m\u001b[0;34m\u001b[0m\u001b[0;34m\u001b[0m\u001b[0;34m\u001b[0m\u001b[0m\n\u001b[0;32m---> 12\u001b[0;31m \u001b[0ms2\u001b[0m\u001b[0;34m[\u001b[0m\u001b[0;36m7\u001b[0m\u001b[0;34m]\u001b[0m \u001b[0;34m=\u001b[0m \u001b[0;34m'D'\u001b[0m\u001b[0;34m\u001b[0m\u001b[0;34m\u001b[0m\u001b[0m\n\u001b[0m",
      "\u001b[0;31mTypeError\u001b[0m: 'str' object does not support item assignment"
     ]
    }
   ],
   "source": [
    "s1 = 'Abhishek'\n",
    "s2 = \"Hello, Abhishek\"\n",
    "s3 = '''\n",
    "Hello Sam,\n",
    "What are you doing today?\n",
    "'''\n",
    "print(s1)\n",
    "print(s2)\n",
    "print(s3)\n",
    "\n",
    "#Showing that string datatypes are immutable\n",
    "s2[7] = 'D'"
   ]
  },
  {
   "cell_type": "markdown",
   "id": "attended-soccer",
   "metadata": {},
   "source": [
    "**Q2** - * For a given string ‘Hello World!’, extract the following:*\n",
    "\n",
    "- H W\n",
    "- o o\n",
    "- llorld\n",
    "- !dlroW olleH\n",
    "- World!\n",
    "- Hello"
   ]
  },
  {
   "cell_type": "code",
   "execution_count": 3,
   "id": "according-channels",
   "metadata": {},
   "outputs": [
    {
     "name": "stdout",
     "output_type": "stream",
     "text": [
      "H W\n",
      "o o\n",
      "llorld\n",
      "!dlroW olleH\n",
      "World!\n",
      "Hello\n"
     ]
    }
   ],
   "source": [
    "#Obtaining solutions by only using string slicing & concatenation\n",
    "#Alternative approaches include using split and extracting text from the sub_strings\n",
    "\n",
    "st = 'Hello World!'\n",
    "\n",
    "#Extracting the first element of both words\n",
    "print(st[0] + st[st.find(' ')] + st[6])\n",
    "\n",
    "#Printing the two 'o's\n",
    "print(st[4] + st[st.find(' ')] + st[7])\n",
    "\n",
    "#Concatenating two sub_strings with last 3 characters in each\n",
    "print(st[2:5] + st[-4:-1])\n",
    "\n",
    "#Getting elements in reverse\n",
    "print(st[::-1])\n",
    "\n",
    "#Printing all characters in string from 'W'\n",
    "print(st[6:])\n",
    "\n",
    "#Printing the first word\n",
    "print(st[:5])"
   ]
  },
  {
   "cell_type": "markdown",
   "id": "appointed-sandwich",
   "metadata": {},
   "source": [
    "**Q3** - *For the following strings, determine which contain only alphabets, only digits, alphanumeric, which are in lowercase, and which are in uppercase. Also check whether str3 begins or ends with the word “Now”.*\n",
    "\n",
    "- Str1 = ‘Welcome’\n",
    "- Str2 = ‘Hello World!’\n",
    "- Str3 = ‘Now is the best time ever! ‘\n",
    "- Str4 = ‘500017’\n",
    "- Str5 = ‘IPhone 6’"
   ]
  },
  {
   "cell_type": "code",
   "execution_count": 4,
   "id": "strange-background",
   "metadata": {},
   "outputs": [
    {
     "name": "stdout",
     "output_type": "stream",
     "text": [
      "Test string:  Welcome\n",
      "**********\n",
      "String contains only alphabets\n",
      "String is neither uppercase or lowercase\n",
      "\n",
      "\n",
      "Test string:  Hello World!\n",
      "**********\n",
      "Check string as it might contain special characters or space\n",
      "String is neither uppercase or lowercase\n",
      "\n",
      "\n",
      "Test string:  Now is the best time ever!\n",
      "**********\n",
      "Check string as it might contain special characters or space\n",
      "String is neither uppercase or lowercase\n",
      "\n",
      "\n",
      "Test string:  500017\n",
      "**********\n",
      "String contains only digits\n",
      "String is neither uppercase or lowercase\n",
      "\n",
      "\n",
      "Test string:  IPhone 6\n",
      "**********\n",
      "Check string as it might contain special characters or space\n",
      "String is neither uppercase or lowercase\n",
      "\n",
      "\n",
      "Str3 starts with 'Now'\n"
     ]
    }
   ],
   "source": [
    "def string_type(st):\n",
    "    '''\n",
    "    Takes a input string as argument and \n",
    "    evaluates whether it contains only alphabets, digits, alphanumeric\n",
    "    and lowercase/ uppercase\n",
    "    '''\n",
    "    if st.isalpha():\n",
    "        print(\"String contains only alphabets\")\n",
    "    elif st.isdigit():\n",
    "        print(\"String contains only digits\")\n",
    "    elif st.isalnum():\n",
    "        print(\"String is alphanumeric\")\n",
    "    else:\n",
    "        print('Check string as it might contain special characters or space')\n",
    "        \n",
    "    #Checking uppercase and lowecase\n",
    "    if st.islower():\n",
    "        print(\"String is lowercase\")\n",
    "    elif st.isupper():\n",
    "        print(\"String is uppercase\")\n",
    "    else:\n",
    "        print(\"String is neither uppercase or lowercase\")\n",
    "\n",
    "#Aggregating all test strings in a list to iterate over the function        \n",
    "ls = ['Welcome', 'Hello World!', 'Now is the best time ever!',\n",
    "      '500017', 'IPhone 6']\n",
    "\n",
    "for s in ls:\n",
    "    print('Test string: ', s)\n",
    "    print('*' * 10)\n",
    "    string_type(s)\n",
    "    print('\\n')\n",
    "    \n",
    "#Checking if str3 begins or ends with a 'Now'\n",
    "if ls[2].startswith('Now'):\n",
    "    print(\"Str3 starts with 'Now'\")\n",
    "elif ls[2].endwith('Now'):\n",
    "    print(\"Str3 end with 'Now'\")\n",
    "else:\n",
    "    print(\"Str3 neither starts nor ends with 'Now'\")"
   ]
  },
  {
   "cell_type": "markdown",
   "id": "demographic-tension",
   "metadata": {},
   "source": [
    "**Q4** - *Accept a sentence from the user. Convert the case of the input into title case.*"
   ]
  },
  {
   "cell_type": "code",
   "execution_count": 5,
   "id": "eight-wilson",
   "metadata": {},
   "outputs": [
    {
     "name": "stdout",
     "output_type": "stream",
     "text": [
      "Enter an input sentence: how are you doing\n",
      "Input sentence in title case: How Are You Doing\n"
     ]
    }
   ],
   "source": [
    "sent = input('Enter an input sentence: ')\n",
    "sent_title_case = sent.title()\n",
    "print('Input sentence in title case: {}'.format(sent_title_case))"
   ]
  },
  {
   "cell_type": "markdown",
   "id": "lesbian-cutting",
   "metadata": {},
   "source": [
    "**Q5** - *Write a program that reads an integer from the user. Then your program should display a message indicating whether the integer is even or odd.*"
   ]
  },
  {
   "cell_type": "code",
   "execution_count": 6,
   "id": "declared-place",
   "metadata": {},
   "outputs": [
    {
     "name": "stdout",
     "output_type": "stream",
     "text": [
      "Enter an integer: 6\n",
      "Integer is even\n"
     ]
    }
   ],
   "source": [
    "#Making sure no float values are taken by the program\n",
    "\n",
    "try:\n",
    "    num = int(input('Enter an integer: '))\n",
    "    #Checking whether integer is even or odd -- using remainder\n",
    "    if num % 2 == 0:\n",
    "        print('Integer is even')\n",
    "    else:\n",
    "        print('Integer is odd')\n",
    "except:\n",
    "    print('Kindly check value entered')"
   ]
  },
  {
   "cell_type": "markdown",
   "id": "subtle-studio",
   "metadata": {},
   "source": [
    "**Q6** - *Create a program that reads a letter of the alphabet from the user. If the user enters a, e, i, o or u then your program should display a message indicating that the entered letter is a vowel. Otherwise, the program should display a message that the entered letter is a consonant*"
   ]
  },
  {
   "cell_type": "code",
   "execution_count": 7,
   "id": "alike-investing",
   "metadata": {},
   "outputs": [
    {
     "name": "stdout",
     "output_type": "stream",
     "text": [
      "Enter an alphabet: t\n",
      "Entered letter is a consonant\n"
     ]
    }
   ],
   "source": [
    "#Limiting the input to only alphabets\n",
    "\n",
    "try:\n",
    "    char = input('Enter an alphabet: ')\n",
    "    assert len(char) == 1\n",
    "    if (char == 'a') or (char == 'e') or (char == 'i') \\\n",
    "    or (char == 'o') or (char == 'u'):\n",
    "        print('Entered letter is a vowel')\n",
    "    else:\n",
    "        print('Entered letter is a consonant')\n",
    "except:\n",
    "    print('Kindly check character entered')"
   ]
  },
  {
   "cell_type": "markdown",
   "id": "bulgarian-pension",
   "metadata": {},
   "source": [
    "**Q7** - *The length of a month varies from 28 to 31 days. Create a program that reads the name of a month from the user as a string. Then your program should display the number of days in that month. Display “28 or 29 days” for February so that leap years is addressed.*"
   ]
  },
  {
   "cell_type": "code",
   "execution_count": 8,
   "id": "forbidden-parade",
   "metadata": {},
   "outputs": [
    {
     "name": "stdout",
     "output_type": "stream",
     "text": [
      "Enter a month: March\n",
      "March has 31 days\n"
     ]
    }
   ],
   "source": [
    "#Converting input into standard title case format and checking only valid months are entered\n",
    "\n",
    "month_ls = ['January', 'February', 'March', 'April',\n",
    "           'May', 'June', 'July', 'August', 'September',\n",
    "           'October', 'November', 'December']\n",
    "\n",
    "try:\n",
    "    month = input('Enter a month: ').title()\n",
    "    assert month in month_ls\n",
    "    \n",
    "    if (month == 'January') or (month == 'March') or (month == 'May') \\\n",
    "    or (month == 'July') or (month == 'August') or (month == 'October') or (month == 'December'):\n",
    "        print('{} has 31 days'.format(month))\n",
    "    elif month == 'February':\n",
    "        print('{} has 28 or 29 days'.format(month))\n",
    "    else:\n",
    "        print('{} has 30 days'.format(month))\n",
    "except:\n",
    "    print('Enter string is not a valid month')"
   ]
  },
  {
   "cell_type": "markdown",
   "id": "joint-title",
   "metadata": {},
   "source": [
    "**Q8** - *A triangle can be classified based on the lengths of its sides as equilateral, isosceles or scalene. All 3 sides of an equilateral triangle have the same length. An isosceles triangle has two sides that are the same length, and a third side that is a different length. If all of the sides have different lengths then the triangle is scalene. Write a program that reads the lengths of 3 sides of a triangle from the user. Display a message indicating the type of the triangle.*"
   ]
  },
  {
   "cell_type": "code",
   "execution_count": 9,
   "id": "double-prediction",
   "metadata": {},
   "outputs": [
    {
     "name": "stdout",
     "output_type": "stream",
     "text": [
      "Enter the three sides of a triangle in csv form: 10,15,15\n",
      "The input sides form an Isosceles triangle\n"
     ]
    }
   ],
   "source": [
    "#Reading the sides of a triangle in a single line -- input expected in csv format\n",
    "#Assuming entered values form a valid triangle -- Length of any two sides is greater than third\n",
    "#If statements run on priority and as soon as a condition is satisfied it comes out of loop\n",
    "\n",
    "s1, s2, s3 = list(map(float, input('Enter the three sides of a triangle in csv form: ').split(',')))\n",
    "\n",
    "#Checking all thres sides are equal or not \n",
    "if (s1 == s2) and (s2 == s3):\n",
    "    print('The input sides form an Equilateral triangle')\n",
    "\n",
    "#Checking if any of the two sides are equal or not\n",
    "elif (s1 == s2) or (s1 == s3) or (s2 == s3):\n",
    "    print('The input sides form an Isosceles triangle')\n",
    "    \n",
    "else:\n",
    "    print('The input sides form a Scalene triangle')"
   ]
  },
  {
   "cell_type": "markdown",
   "id": "younger-jefferson",
   "metadata": {},
   "source": [
    "**Q9** - *The rules for determining whether or not a year is a leap year follow:*\n",
    "\n",
    "- Any year that is divisible by 400 is a leap year.\n",
    "- Of the remaining years, any year that is divisible by 100 is not a leap year.\n",
    "- Of the remaining years, any year that is divisible by 4 is a leap year.\n",
    "- All other years are not leap years.\n",
    "\n",
    "Write a program that reads a year from the user and displays a message indicating whether or not it is a leap year."
   ]
  },
  {
   "cell_type": "code",
   "execution_count": 10,
   "id": "convenient-discretion",
   "metadata": {},
   "outputs": [
    {
     "name": "stdout",
     "output_type": "stream",
     "text": [
      "Enter a year: 1800\n",
      "Input 1800 Not a leap year\n"
     ]
    }
   ],
   "source": [
    "def isleap(year):\n",
    "    \"\"\"\n",
    "    Takes an year as input and provides a boolean True or False\n",
    "    output based on whether it is a leap year or not\n",
    "    \"\"\"\n",
    "    #Keeping a variable as a flag as many years are not leap year. Normal flag value is False\n",
    "    leap = False\n",
    "    #Checking if year is divisible by 400\n",
    "    if year % 400 == 0:\n",
    "        leap = True\n",
    "    else:\n",
    "        #Of the rem years - they will be leap year when they are divisble by 4 but not divisible by 100\n",
    "        if (year % 100 != 0) and (year % 4 == 0):\n",
    "            leap = True\n",
    "    return leap\n",
    "\n",
    "year = int(input('Enter a year: '))\n",
    "\n",
    "#Conditional statement to display output message\n",
    "if isleap(year):\n",
    "    print('Input {} is a leap year'.format(year))\n",
    "else:\n",
    "    print('Input {} Not a leap year'.format(year))"
   ]
  },
  {
   "cell_type": "markdown",
   "id": "comparable-tactics",
   "metadata": {},
   "source": [
    "**Q10** - *Write a program that computes the real roots of a quadratic function. Your program should begin by prompting the user for the values of a, b and c. Then it should display a message indicating the number of real roots, along with the values of the real roots (if any).*"
   ]
  },
  {
   "cell_type": "code",
   "execution_count": 11,
   "id": "steady-insight",
   "metadata": {},
   "outputs": [
    {
     "name": "stdout",
     "output_type": "stream",
     "text": [
      "Enter the three sides of a triangle in csv form: 1,-3,-1\n",
      "Number of real roots: 2\n",
      "Value of first real root: -0.3\n",
      "Value of second real root: 3.3\n"
     ]
    }
   ],
   "source": [
    "#Reading the coefficients of the quadratic equation in a single line -- input expected in csv format\n",
    "\n",
    "a, b, c = list(map(float, input('Enter the three coefficients of the quadratic equation in csv form: ').split(','))) \n",
    "\n",
    "try:\n",
    "    #Real roots exist\n",
    "    tmp = math.sqrt((b**2 - (4 * a * c)))\n",
    "    if tmp >= 0:\n",
    "        #Obtaining real roots of a quadratic equation using sridharacharya formula\n",
    "        r1, r2 = (-b - tmp)/(2*a), (-b + tmp)/(2*a)\n",
    "    \n",
    "    #Testing a case where both roots can be same\n",
    "    if tmp > 0:\n",
    "        print('Number of real roots: 2')\n",
    "        print('Value of first real root: {}'.format(round(r1,2)))\n",
    "        print('Value of second real root: {}'.format(round(r2,2)))\n",
    "    else:\n",
    "        print('Number of real roots: 1')\n",
    "        print('Value of real root: {}'.format(round(r1,2)))\n",
    "except:\n",
    "    print('Given quadratic equation has no real roots')                                                                                  "
   ]
  }
 ],
 "metadata": {
  "kernelspec": {
   "display_name": "Python 3",
   "language": "python",
   "name": "python3"
  },
  "language_info": {
   "codemirror_mode": {
    "name": "ipython",
    "version": 3
   },
   "file_extension": ".py",
   "mimetype": "text/x-python",
   "name": "python",
   "nbconvert_exporter": "python",
   "pygments_lexer": "ipython3",
   "version": "3.8.5"
  }
 },
 "nbformat": 4,
 "nbformat_minor": 5
}
