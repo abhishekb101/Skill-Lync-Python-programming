{
 "cells": [
  {
   "cell_type": "markdown",
   "id": "upset-russia",
   "metadata": {},
   "source": [
    "## Week 1 Challenge"
   ]
  },
  {
   "cell_type": "markdown",
   "id": "laughing-sword",
   "metadata": {},
   "source": [
    "### Importing necessary libraries"
   ]
  },
  {
   "cell_type": "code",
   "execution_count": 1,
   "id": "civil-signature",
   "metadata": {},
   "outputs": [],
   "source": [
    "import math\n",
    "import sys"
   ]
  },
  {
   "cell_type": "markdown",
   "id": "competent-dictionary",
   "metadata": {},
   "source": [
    "**Q1** - *Create a program that displays your name and complete mailing address formatted in the manner that you would usually see it on the outside of an envelope. Your program does not need to read any input from the user.*"
   ]
  },
  {
   "cell_type": "code",
   "execution_count": 2,
   "id": "coastal-baker",
   "metadata": {},
   "outputs": [
    {
     "name": "stdout",
     "output_type": "stream",
     "text": [
      "Abhishek Bhattacharyya\n",
      "A-101, Rainbow, CHS, Raheja Vihar,\n",
      "Powai, Mumbai, Maharashtra\n",
      "Pincode - 400072\n"
     ]
    }
   ],
   "source": [
    "print('''Abhishek Bhattacharyya\n",
    "A-101, Rainbow, CHS, Raheja Vihar,\n",
    "Powai, Mumbai, Maharashtra\n",
    "Pincode - 400072''')"
   ]
  },
  {
   "cell_type": "markdown",
   "id": "indoor-costs",
   "metadata": {},
   "source": [
    "**Q2** - *Write a program that asks the user to enter his or her name. The program should respond with a message that says hello to the user, using his or her name.*"
   ]
  },
  {
   "cell_type": "code",
   "execution_count": 3,
   "id": "swiss-blend",
   "metadata": {},
   "outputs": [
    {
     "name": "stdout",
     "output_type": "stream",
     "text": [
      "Enter your name: Abhishek Bhattacharyya\n",
      "\n",
      "Hello, Abhishek Bhattacharyya!\n"
     ]
    }
   ],
   "source": [
    "name = input('Enter your name: ')\n",
    "print('\\nHello, {}!'.format(name))"
   ]
  },
  {
   "cell_type": "markdown",
   "id": "hybrid-strand",
   "metadata": {},
   "source": [
    "**Q3** - *Write a program that accepts radius (datatype : float) of a circle from the user. Calculate and display the area and circumference of the circle*"
   ]
  },
  {
   "cell_type": "code",
   "execution_count": 4,
   "id": "talented-phoenix",
   "metadata": {},
   "outputs": [
    {
     "name": "stdout",
     "output_type": "stream",
     "text": [
      "Enter the circle radius: 5.2\n",
      "\n",
      "The area of the circle: 84.95\n",
      "The circumference of the circle: 32.67\n"
     ]
    }
   ],
   "source": [
    "r = float(input('Enter the circle radius: '))\n",
    "area = math.pi * (r **2)\n",
    "circ = 2 * math.pi * r\n",
    "print('\\nThe area of the circle: {}'.format(round(area, 2)))\n",
    "print('The circumference of the circle: {}'.format(round(circ, 2)))"
   ]
  },
  {
   "cell_type": "markdown",
   "id": "every-arrow",
   "metadata": {},
   "source": [
    "**Q4** - *Write a program that accepts length and breadth (both float) of a rectangle from the user. Calculate and display the area and perimeter of the rectangle*"
   ]
  },
  {
   "cell_type": "code",
   "execution_count": 5,
   "id": "wireless-contributor",
   "metadata": {},
   "outputs": [
    {
     "name": "stdout",
     "output_type": "stream",
     "text": [
      "Enter the length and breadth of rectangle in csv format: 10,12\n",
      "\n",
      "The area of the rectangle: 120.0\n",
      "The perimeter of the rectangle: 44.0\n"
     ]
    }
   ],
   "source": [
    "#Getting values of both in one input statement\n",
    "l, b = list(map(float, input('Enter the length and breadth of rectangle in csv format: ').split(',')))\n",
    "area = l * b\n",
    "perimeter = 2 * (l+b)\n",
    "print('\\nThe area of the rectangle: {}'.format(round(area, 2)))\n",
    "print('The perimeter of the rectangle: {}'.format(round(perimeter, 2)))"
   ]
  },
  {
   "cell_type": "markdown",
   "id": "signed-missouri",
   "metadata": {},
   "source": [
    "**Q5** - *Write a program to accept the side (datatype : float) of a square from the user. Calculate and display the area and perimeter of the square*"
   ]
  },
  {
   "cell_type": "code",
   "execution_count": 6,
   "id": "diagnostic-usage",
   "metadata": {},
   "outputs": [
    {
     "name": "stdout",
     "output_type": "stream",
     "text": [
      "Enter the side of a square: 5.6\n",
      "\n",
      "The area of the square: 31.36\n",
      "The perimeter of the square: 22.4\n"
     ]
    }
   ],
   "source": [
    "s = float(input('Enter the side of a square: '))\n",
    "area = s ** 2\n",
    "perimeter = 4 * s\n",
    "print('\\nThe area of the square: {}'.format(round(area, 2)))\n",
    "print('The perimeter of the square: {}'.format(round(perimeter, 2)))"
   ]
  },
  {
   "cell_type": "markdown",
   "id": "going-solid",
   "metadata": {},
   "source": [
    "**Q6** - *Write a program to accept the temperature (datatype : float) in Fahrenheit and convert it into Centigrade. Modify the program to accept the temperature in Centigrade and convert it into Fahrenheit*"
   ]
  },
  {
   "cell_type": "code",
   "execution_count": 7,
   "id": "patent-guarantee",
   "metadata": {},
   "outputs": [
    {
     "name": "stdout",
     "output_type": "stream",
     "text": [
      "Enter the temperature in Fahrenheit: 32.6\n",
      "The temperature in centrigrade: 0.33333333333333415\n",
      "\n",
      "\n",
      "Enter the temperature in Centigrade: 0\n",
      "The temperature in Fahrenheit: 32.0\n"
     ]
    }
   ],
   "source": [
    "temp_F = float(input('Enter the temperature in Fahrenheit: '))\n",
    "temp_C = (temp_F - 32) * (5/9)\n",
    "print('The temperature in centrigrade: {}'.format(temp_C))\n",
    "\n",
    "print('\\n')\n",
    "\n",
    "temp_c = float(input('Enter the temperature in Centigrade: '))\n",
    "temp_f = ((9/5) * temp_c) + 32\n",
    "print('The temperature in Fahrenheit: {}'.format(temp_f))"
   ]
  },
  {
   "cell_type": "markdown",
   "id": "ultimate-brief",
   "metadata": {},
   "source": [
    "**Q7** - *Write a program to accept two complex numbers. Perform addition, subtraction and multiplication of these numbers an display the results to the user.*"
   ]
  },
  {
   "cell_type": "code",
   "execution_count": 8,
   "id": "mobile-candle",
   "metadata": {},
   "outputs": [
    {
     "name": "stdout",
     "output_type": "stream",
     "text": [
      "Enter the real & imaginary value of the first complex num: 5 10\n",
      "Enter the real & imaginary value of the second complex num: 4 6\n",
      "\n",
      "The result of addition: (9+16j)\n",
      "The result of subtraction: (1+4j)\n",
      "The result of multiplication: (-40+70j)\n"
     ]
    }
   ],
   "source": [
    "# Accepting values of one complex number one at a time separated by a space\n",
    "# Value of j^2 = -1\n",
    "re1, im1 = map(float, (input('Enter the real & imaginary value of the first complex num: ').split()))\n",
    "re2, im2 = map(float, (input('Enter the real & imaginary value of the second complex num: ').split()))\n",
    "c1 = complex(re1, im1)\n",
    "c2 = complex(re2, im2)\n",
    "\n",
    "c_add = c1 + c2\n",
    "c_sub = c1 - c2\n",
    "c_mul = c1 * c2\n",
    "\n",
    "print('\\nThe result of addition: {}'.format(c_add))\n",
    "print('The result of subtraction: {}'.format(c_sub))\n",
    "print('The result of multiplication: {}'.format(c_mul))"
   ]
  },
  {
   "cell_type": "markdown",
   "id": "liked-shelf",
   "metadata": {},
   "source": [
    "**Q8** - *Write a program to accept the name and basic salary (datatype : float) of an employee. Calculate the dearness allowance as 40 % of basic and house rent allowance as 20 % of basic. Display the gross salary to the user. (Hint: gross salary = basic salary + dearness allowance + house rent allowance)*"
   ]
  },
  {
   "cell_type": "code",
   "execution_count": 9,
   "id": "silver-divide",
   "metadata": {},
   "outputs": [
    {
     "name": "stdout",
     "output_type": "stream",
     "text": [
      "Enter employee Name: Abhishek\n",
      "Enter employee basic salary: 60000\n",
      "\n",
      "Gross salary of Abhishek: 96000.0\n"
     ]
    }
   ],
   "source": [
    "name = input('Enter employee Name: ')\n",
    "salary = float(input('Enter employee basic salary: '))\n",
    "\n",
    "da = 0.4 * salary       #Dearness allowance\n",
    "hra = 0.2 * salary      #House rent allowance  \n",
    "gross_salary = salary + da + hra\n",
    "print('\\nGross salary of {}: {}'.format(name, gross_salary))"
   ]
  },
  {
   "cell_type": "markdown",
   "id": "mediterranean-criminal",
   "metadata": {},
   "source": [
    "**Q9** - *Write a program that reads a positive integer, n, from the user and then displays the sum of all of the integers from 1 to n. The sum of the first n positive integers can be computed using the formula: sum = (n)(n + 1)/ 2*"
   ]
  },
  {
   "cell_type": "code",
   "execution_count": 10,
   "id": "transparent-triumph",
   "metadata": {},
   "outputs": [
    {
     "name": "stdout",
     "output_type": "stream",
     "text": [
      "Enter a positive integer: 10\n",
      "\n",
      "The sum of first 10 positive integers: 55\n"
     ]
    }
   ],
   "source": [
    "try:\n",
    "    num = int(input('Enter a positive integer: '))\n",
    "    \n",
    "    #To check that the number entered is a positive integer or not\n",
    "    assert num > 0\n",
    "    s = num * (num+1)/2\n",
    "    print('\\nThe sum of first {} positive integers: {}'.format(num, int(s)))\n",
    "except:\n",
    "    print('Check number entered')"
   ]
  },
  {
   "cell_type": "markdown",
   "id": "matched-visitor",
   "metadata": {},
   "source": [
    "**Q10** - *Create a program that reads two integers, a and b, from the user. Your program should compute and display:*\n",
    "\n",
    "- The sum of a and b\n",
    "- The difference when b is subtracted from a\n",
    "- The product of a and b\n",
    "- The quotient when a is divided by b\n",
    "- The remainder when a is divided by b\n",
    "- The result of a^b \n"
   ]
  },
  {
   "cell_type": "code",
   "execution_count": 11,
   "id": "mathematical-flashing",
   "metadata": {},
   "outputs": [
    {
     "name": "stdout",
     "output_type": "stream",
     "text": [
      "Enter the first number: 5\n",
      "Enter the second number: 10\n",
      "\n",
      "The sum of a and b: 15\n",
      "The difference when b is subtracted from a: -5\n",
      "The product of a and b: 50\n",
      "The quotient when a is divided by b: 0\n",
      "The remainder when a is divided by b: 5\n",
      "The result of a raised to power of b: 9765625\n"
     ]
    }
   ],
   "source": [
    "a = int(input('Enter the first number: '))\n",
    "b = int(input('Enter the second number: '))\n",
    "\n",
    "print('\\nThe sum of a and b: {}'.format(a + b))\n",
    "print('The difference when b is subtracted from a: {}'.format(a - b))\n",
    "print('The product of a and b: {}'.format(a * b))\n",
    "print('The quotient when a is divided by b: {}'.format(a // b))\n",
    "print('The remainder when a is divided by b: {}'.format(a % b))\n",
    "print('The result of a raised to power of b: {}'.format(a ** b))"
   ]
  }
 ],
 "metadata": {
  "kernelspec": {
   "display_name": "Python 3",
   "language": "python",
   "name": "python3"
  },
  "language_info": {
   "codemirror_mode": {
    "name": "ipython",
    "version": 3
   },
   "file_extension": ".py",
   "mimetype": "text/x-python",
   "name": "python",
   "nbconvert_exporter": "python",
   "pygments_lexer": "ipython3",
   "version": "3.8.5"
  }
 },
 "nbformat": 4,
 "nbformat_minor": 5
}
