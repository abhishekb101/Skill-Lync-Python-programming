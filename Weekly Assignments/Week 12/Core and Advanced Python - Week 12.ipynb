{
 "cells": [
  {
   "cell_type": "markdown",
   "id": "reliable-blame",
   "metadata": {},
   "source": [
    "## Week 12 Challenge"
   ]
  },
  {
   "cell_type": "markdown",
   "id": "warming-sucking",
   "metadata": {},
   "source": [
    "### Importing necessary libraries"
   ]
  },
  {
   "cell_type": "code",
   "execution_count": 1,
   "id": "naughty-manufacturer",
   "metadata": {},
   "outputs": [],
   "source": [
    "import sqlite3"
   ]
  },
  {
   "cell_type": "markdown",
   "id": "boring-hometown",
   "metadata": {},
   "source": [
    "**Q1** - *Create a database called temp_db. Open a cursor to this newly created database.*"
   ]
  },
  {
   "cell_type": "code",
   "execution_count": 2,
   "id": "younger-excuse",
   "metadata": {},
   "outputs": [
    {
     "name": "stdout",
     "output_type": "stream",
     "text": [
      "Created the database successfully!\n"
     ]
    }
   ],
   "source": [
    "#Creating a function to create a datbase\n",
    "\n",
    "def create_db(db_name):\n",
    "    \"\"\"\n",
    "    Creating a database in the current directory\n",
    "    \"\"\"\n",
    "    #Connecting to a database - If it does not exist a new one is created\n",
    "    con = sqlite3.connect(db_name)\n",
    "    \n",
    "    #Creating a cursor object to execute commands\n",
    "    cursorObj = con.cursor()\n",
    "    \n",
    "#Running the function and creating a database\n",
    "create_db('temp_db.db')\n",
    "\n",
    "print('Created the database successfully!')"
   ]
  },
  {
   "cell_type": "markdown",
   "id": "cardiovascular-rhythm",
   "metadata": {},
   "source": [
    "**Q2** - *In the database temp_db created in Q.No.1, create a table called emp with the attributes empno, ename, salary and deptno*"
   ]
  },
  {
   "cell_type": "code",
   "execution_count": 3,
   "id": "differential-abraham",
   "metadata": {},
   "outputs": [
    {
     "name": "stdout",
     "output_type": "stream",
     "text": [
      "Created the table with the right attributes !!\n"
     ]
    }
   ],
   "source": [
    "#Creating a function to create a table in temp_db database\n",
    "\n",
    "def create_table(db_name):\n",
    "    \"\"\"\n",
    "    Creating a table 'emp' with the particular fields mentioned above \n",
    "    inside temp_db database\n",
    "    \"\"\"\n",
    "    #Connecting with the database and creating a cursor object\n",
    "    con = sqlite3.connect(db_name)\n",
    "    cursorObj = con.cursor()\n",
    "    \n",
    "    #Executing the CREATE TABLE command on the cursor object\n",
    "    cursorObj.execute('CREATE TABLE IF NOT EXISTS emp(empno INTEGER, ename TEXT, salary REAL, deptno INTEGER)')\n",
    "    \n",
    "    #Commiting the changes and closing the connection\n",
    "    con.commit()\n",
    "    con.close()\n",
    "    \n",
    "#Running the function to create the table emp\n",
    "create_table('temp_db.db')\n",
    "\n",
    "print('Created the table with the right attributes !!')"
   ]
  },
  {
   "cell_type": "markdown",
   "id": "curious-learning",
   "metadata": {},
   "source": [
    "**Q3** - *In the emp table created in Q.No. 2, insert any five records.*"
   ]
  },
  {
   "cell_type": "code",
   "execution_count": 4,
   "id": "found-shape",
   "metadata": {},
   "outputs": [
    {
     "name": "stdout",
     "output_type": "stream",
     "text": [
      "All records have been successfully inserted..\n"
     ]
    }
   ],
   "source": [
    "#Creating a function to insert values into the emp table\n",
    "\n",
    "def insert_emp(empno, ename, sal, deptno):\n",
    "    \"\"\"\n",
    "    Inserting values into the emp table in temp_db database using placeholders\n",
    "    \"\"\"\n",
    "    #Connecting with the database and creating a cursor object\n",
    "    con = sqlite3.connect('temp_db.db')\n",
    "    cursorObj = con.cursor()\n",
    "    \n",
    "    #Executing the command to insert values in table\n",
    "    cursorObj.execute('INSERT INTO emp values(?, ?, ?, ?)', (empno, ename, sal, deptno))\n",
    "    \n",
    "    #Commiting the changes and closing the connection\n",
    "    con.commit()\n",
    "    con.close()\n",
    "    \n",
    "#Creating a list of tuples of records to insert into table 'emp'\n",
    "records = [(1, 'Karim', 40000, 10), (2, 'Shardul', 10000, 10), \n",
    "           (3, 'Sagarika', 22000, 20), (4, 'Smarina', 35000, 30), (5, 'Manish', 24000, 30)]\n",
    "\n",
    "#Iterating over the records \n",
    "for ele in records:\n",
    "    insert_emp(ele[0], ele[1], ele[2], ele[3])\n",
    "    \n",
    "print('All records have been successfully inserted..')"
   ]
  },
  {
   "cell_type": "markdown",
   "id": "according-rainbow",
   "metadata": {},
   "source": [
    "**Q4** - *From the emp table, display all the records.*"
   ]
  },
  {
   "cell_type": "code",
   "execution_count": 5,
   "id": "intense-taxation",
   "metadata": {},
   "outputs": [
    {
     "name": "stdout",
     "output_type": "stream",
     "text": [
      "empno  ename   salary  deptno                                            \n",
      "------------------------------\n"
     ]
    },
    {
     "data": {
      "text/plain": [
       "[(1, 'Karim', 40000.0, 10),\n",
       " (2, 'Shardul', 10000.0, 10),\n",
       " (3, 'Sagarika', 22000.0, 20),\n",
       " (4, 'Smarina', 35000.0, 30),\n",
       " (5, 'Manish', 24000.0, 30)]"
      ]
     },
     "execution_count": 5,
     "metadata": {},
     "output_type": "execute_result"
    }
   ],
   "source": [
    "#Creating a function to display all records in the table\n",
    "\n",
    "def display_records(db_name):\n",
    "    \"\"\"\n",
    "    Fetching all the records in the table 'emp'\n",
    "    \"\"\"\n",
    "    #Connecting with the database and creating a cursor object\n",
    "    con = sqlite3.connect(db_name)\n",
    "    cursorObj = con.cursor()\n",
    "    \n",
    "    #Executing the command to display all the records\n",
    "    cursorObj.execute('SELECT * \\\n",
    "                       FROM emp')\n",
    "    \n",
    "    #Fetching all the records in a list \n",
    "    result = cursorObj.fetchall()\n",
    "    \n",
    "    #Closing the connection\n",
    "    con.close()\n",
    "    \n",
    "    #Returning the records\n",
    "    return result\n",
    "\n",
    "#Displaying records\n",
    "print('{0:7}{1:8}{2:8}{3:50}'.format('empno', 'ename', 'salary', 'deptno'))\n",
    "print('--'* 15)\n",
    "display_records('temp_db.db')"
   ]
  },
  {
   "cell_type": "markdown",
   "id": "brilliant-tissue",
   "metadata": {},
   "source": [
    "**Q5** - *From the emp table, display the records of only those employees whose salary is greater than 15000 and who belong to deptno 10*"
   ]
  },
  {
   "cell_type": "code",
   "execution_count": 6,
   "id": "documented-speech",
   "metadata": {},
   "outputs": [
    {
     "name": "stdout",
     "output_type": "stream",
     "text": [
      "empno  ename   salary  deptno                                            \n",
      "------------------------------\n",
      "(1, 'Karim', 40000.0, 10)\n"
     ]
    }
   ],
   "source": [
    "#Creating a function to display the records of those employees\n",
    "#whose salary is greater than 15000 and they belong to deptno 10\n",
    "\n",
    "def view_q5(db_name, s, d):\n",
    "    \"\"\"\n",
    "    Displaying records of those employees who sal > 15000 and deptno = 10 \n",
    "    \"\"\"\n",
    "    #Connecting with the database and creating a cursor object\n",
    "    con = sqlite3.connect(db_name)\n",
    "    cursorObj = con.cursor()\n",
    "    \n",
    "    #Executing the command to display all the records based on the above condition\n",
    "    cursorObj.execute('SELECT * \\\n",
    "                       FROM emp \\\n",
    "                       WHERE salary > ? AND deptno = ?', (s, d))\n",
    "    \n",
    "    #Fetching all the records in a list \n",
    "    result = cursorObj.fetchall()\n",
    "    \n",
    "    #Closing the connection\n",
    "    con.close()\n",
    "    \n",
    "    #Returning the records\n",
    "    return result\n",
    "\n",
    "#Displaying records\n",
    "print('{0:7}{1:8}{2:8}{3:50}'.format('empno', 'ename', 'salary', 'deptno'))\n",
    "print('--'* 15)\n",
    "\n",
    "#Obtaining the records\n",
    "output = view_q5('temp_db.db', 15000, 10)\n",
    "\n",
    "#Iterating over the result\n",
    "for record in output:\n",
    "    print(record)"
   ]
  },
  {
   "cell_type": "markdown",
   "id": "twelve-thanksgiving",
   "metadata": {},
   "source": [
    "**Q6** - *From the emp table, display the records of only those employees whose salary lies between 20000 and 25000 and who do not belong to the deptno 10*"
   ]
  },
  {
   "cell_type": "code",
   "execution_count": 7,
   "id": "artistic-trial",
   "metadata": {},
   "outputs": [
    {
     "name": "stdout",
     "output_type": "stream",
     "text": [
      "empno  ename   salary  deptno                                            \n",
      "------------------------------\n",
      "(3, 'Sagarika', 22000.0, 20)\n",
      "(5, 'Manish', 24000.0, 30)\n"
     ]
    }
   ],
   "source": [
    "#Creating a function to display the records of those employees\n",
    "#whose salary is between 20000 and 25000 and also they don't belong to deptno 10\n",
    "#Assuming sal >= 20K and sal <= 25K\n",
    "\n",
    "def view_q6(db_name, low_lim, up_lim, d):\n",
    "    \"\"\"\n",
    "    Displaying records of those employees who sal between (15000, 20000) and deptno != 10 \n",
    "    \"\"\"\n",
    "    #Connecting with the database and creating a cursor object\n",
    "    con = sqlite3.connect(db_name)\n",
    "    cursorObj = con.cursor()\n",
    "    \n",
    "    #Executing the command to display all the records based on the above condition\n",
    "    cursorObj.execute('SELECT * \\\n",
    "                       FROM emp \\\n",
    "                       WHERE salary >= ? \\\n",
    "                       AND salary <= ? \\\n",
    "                       AND deptno != ?', (low_lim, up_lim, d))\n",
    "    \n",
    "    #Fetching all the records in a list \n",
    "    result = cursorObj.fetchall()\n",
    "    \n",
    "    #Closing the connection\n",
    "    con.close()\n",
    "    \n",
    "    #Returning the records\n",
    "    return result\n",
    "\n",
    "#Displaying records\n",
    "print('{0:7}{1:8}{2:8}{3:50}'.format('empno', 'ename', 'salary', 'deptno'))\n",
    "print('--'* 15)\n",
    "\n",
    "#Obtaining the records\n",
    "output = view_q6('temp_db.db', 20000, 25000, 10)\n",
    "\n",
    "#Iterating over the result\n",
    "for record in output:\n",
    "    print(record)"
   ]
  },
  {
   "cell_type": "markdown",
   "id": "facial-trash",
   "metadata": {},
   "source": [
    "**Q7** - *From the emp table, display the records of only those employees whose name begins with M.*"
   ]
  },
  {
   "cell_type": "code",
   "execution_count": 8,
   "id": "small-clone",
   "metadata": {},
   "outputs": [
    {
     "name": "stdout",
     "output_type": "stream",
     "text": [
      "empno  ename   salary  deptno                                            \n",
      "------------------------------\n",
      "(5, 'Manish', 24000.0, 30)\n"
     ]
    }
   ],
   "source": [
    "#Creating a function to display the records of those employees whose name begins with 'M'\n",
    "\n",
    "def view_q7(db_name):\n",
    "    \"\"\"\n",
    "    Displaying records of those employees whose name starts with 'M' \n",
    "    \"\"\"\n",
    "    #Connecting with the database and creating a cursor object\n",
    "    con = sqlite3.connect(db_name)\n",
    "    cursorObj = con.cursor()\n",
    "    \n",
    "    #Executing the command to display all the records based on the above condition\n",
    "    cursorObj.execute('SELECT * \\\n",
    "                       FROM emp \\\n",
    "                       WHERE ename LIKE \"M%\"')\n",
    "    \n",
    "    #Fetching all the records in a list \n",
    "    result = cursorObj.fetchall()\n",
    "    \n",
    "    #Closing the connection\n",
    "    con.close()\n",
    "    \n",
    "    #Returning the records\n",
    "    return result\n",
    "\n",
    "#Displaying records\n",
    "print('{0:7}{1:8}{2:8}{3:50}'.format('empno', 'ename', 'salary', 'deptno'))\n",
    "print('--'* 15)\n",
    "\n",
    "#Obtaining the records\n",
    "output = view_q7('temp_db.db')\n",
    "\n",
    "#Iterating over the result\n",
    "for record in output:\n",
    "    print(record)"
   ]
  },
  {
   "cell_type": "markdown",
   "id": "trying-spirituality",
   "metadata": {},
   "source": [
    "**Q8** - *In the emp table, delete the records of those employees who belong to deptno 30*"
   ]
  },
  {
   "cell_type": "code",
   "execution_count": 9,
   "id": "convinced-likelihood",
   "metadata": {},
   "outputs": [
    {
     "name": "stdout",
     "output_type": "stream",
     "text": [
      "\u001b[1mBefore deleting...\n",
      "\u001b[0m\n",
      "empno  ename   salary  deptno                                            \n",
      "------------------------------\n",
      "(1, 'Karim', 40000.0, 10)\n",
      "(2, 'Shardul', 10000.0, 10)\n",
      "(3, 'Sagarika', 22000.0, 20)\n",
      "(4, 'Smarina', 35000.0, 30)\n",
      "(5, 'Manish', 24000.0, 30)\n",
      "\u001b[1m\n",
      "After deleting...\n",
      "\u001b[0m\n",
      "empno  ename   salary  deptno                                            \n",
      "------------------------------\n",
      "(1, 'Karim', 40000.0, 10)\n",
      "(2, 'Shardul', 10000.0, 10)\n",
      "(3, 'Sagarika', 22000.0, 20)\n"
     ]
    }
   ],
   "source": [
    "#Creating a function to delete the records of those employees whose belong to deptno '30'\n",
    "\n",
    "def delete(db_name, dep):\n",
    "    \"\"\"\n",
    "    Deleting records of those employees whose deptno = 30 from table 'emp'\n",
    "    \"\"\"\n",
    "    #Connecting with the database and creating a cursor object\n",
    "    con = sqlite3.connect(db_name)\n",
    "    cursorObj = con.cursor()\n",
    "    \n",
    "    #Executing the command to delete records according to above condition\n",
    "    cursorObj.execute('DELETE FROM emp WHERE deptno = ?', (dep,))\n",
    "    \n",
    "    #Commiting the changes and closing the connection\n",
    "    con.commit()\n",
    "    con.close()\n",
    "    \n",
    "\n",
    "#Displaying records before and after deletion\n",
    "print('\\033[1m' + 'Before deleting...\\n' + '\\033[0m')\n",
    "print('{0:7}{1:8}{2:8}{3:50}'.format('empno', 'ename', 'salary', 'deptno'))\n",
    "print('--'* 15)\n",
    "              \n",
    "#Obtaining the earlier records\n",
    "output = display_records('temp_db.db')\n",
    "\n",
    "#Iterating over earlier records\n",
    "for record in output:\n",
    "    print(record)\n",
    "    \n",
    "print('\\033[1m' + '\\nAfter deleting...\\n' + '\\033[0m')    \n",
    "print('{0:7}{1:8}{2:8}{3:50}'.format('empno', 'ename', 'salary', 'deptno'))\n",
    "print('--'* 15)\n",
    "\n",
    "#Running the delete function\n",
    "delete('temp_db.db', 30)\n",
    "\n",
    "#Obtaining the updated records\n",
    "output2 = display_records('temp_db.db')\n",
    "\n",
    "#Iterating over the current records\n",
    "for record in output2:\n",
    "    print(record)"
   ]
  },
  {
   "cell_type": "markdown",
   "id": "occupied-bowling",
   "metadata": {},
   "source": [
    "**Q9** - *In the emp table, update the salary of an employee by 10 % by accepting the empno from the user.*"
   ]
  },
  {
   "cell_type": "code",
   "execution_count": 10,
   "id": "thrown-effects",
   "metadata": {},
   "outputs": [
    {
     "name": "stdout",
     "output_type": "stream",
     "text": [
      "\u001b[1mBefore updation...\n",
      "\u001b[0m\n",
      "empno  ename   salary  deptno                                            \n",
      "------------------------------\n",
      "(1, 'Karim', 40000.0, 10)\n",
      "(2, 'Shardul', 10000.0, 10)\n",
      "(3, 'Sagarika', 22000.0, 20)\n",
      "\n",
      "Enter an employee no from the current records to update salary: 3\n",
      "\u001b[1m\n",
      "After updation...\n",
      "\u001b[0m\n",
      "empno  ename   salary  deptno                                            \n",
      "------------------------------\n",
      "(1, 'Karim', 40000.0, 10)\n",
      "(2, 'Shardul', 10000.0, 10)\n",
      "(3, 'Sagarika', 24200.0, 20)\n"
     ]
    }
   ],
   "source": [
    "#Creating a function to update the records of an employee by 10% by user input of empno\n",
    "\n",
    "def update(db_name, updated_sal, employee_no):\n",
    "    \"\"\"\n",
    "    Updating records of an employee based on empno parameter \n",
    "    \"\"\"\n",
    "    #Connecting with the database and creating a cursor object\n",
    "    con = sqlite3.connect(db_name)\n",
    "    cursorObj = con.cursor()\n",
    "    \n",
    "    #Executing the command to delete records according to above condition\n",
    "    cursorObj.execute('UPDATE emp SET salary = ? WHERE empno = ?', (updated_sal, employee_no))\n",
    "    \n",
    "    #Commiting the changes and closing the connection\n",
    "    con.commit()\n",
    "    con.close()\n",
    "    \n",
    "\n",
    "#Displaying records before and after deletion\n",
    "print('\\033[1m' + 'Before updation...\\n' + '\\033[0m')\n",
    "print('{0:7}{1:8}{2:8}{3:50}'.format('empno', 'ename', 'salary', 'deptno'))\n",
    "print('--'* 15)\n",
    "              \n",
    "#Obtaining the earlier records\n",
    "output = display_records('temp_db.db')\n",
    "\n",
    "#Iterating over earlier records\n",
    "for record in output:\n",
    "    print(record)\n",
    "     \n",
    "try: \n",
    "    #Taking the user input on empno for salary updation\n",
    "    emp_num = int(input('\\nEnter an employee no from the current records to update salary: '))\n",
    "    \n",
    "except:\n",
    "    print('Check employee num entered..')\n",
    "\n",
    "print('\\033[1m' + '\\nAfter updation...\\n' + '\\033[0m')  \n",
    "print('{0:7}{1:8}{2:8}{3:50}'.format('empno', 'ename', 'salary', 'deptno'))\n",
    "print('--'* 15)\n",
    "\n",
    "#Obtaining the respective salary of the employee for updation\n",
    "for record in output:\n",
    "    \n",
    "    #When the empno equals the respective employee num in the database records\n",
    "    if record[0] == emp_num:\n",
    "        salary = record[2]\n",
    "\n",
    "#Running the update function -- Updating the value by 10% and rounding it to 2 decimal places\n",
    "update('temp_db.db', round(salary * 1.1, 2), emp_num)\n",
    "\n",
    "#Obtaining the updated records\n",
    "output2 = display_records('temp_db.db')\n",
    "\n",
    "#Iterating over the current records\n",
    "for record in output2:\n",
    "    print(record)"
   ]
  },
  {
   "cell_type": "markdown",
   "id": "worthy-combat",
   "metadata": {},
   "source": [
    "**Q10** - *Delete the emp table.*"
   ]
  },
  {
   "cell_type": "code",
   "execution_count": 11,
   "id": "stopped-finder",
   "metadata": {},
   "outputs": [
    {
     "name": "stdout",
     "output_type": "stream",
     "text": [
      "The table \"emp\" has been successfully deleted !!\n"
     ]
    }
   ],
   "source": [
    "#Creating a function to delete the entire emp table\n",
    "\n",
    "def delete_table(db_name):\n",
    "    \"\"\"\n",
    "    Deleting the 'emp' table completely\n",
    "    \"\"\"\n",
    "    #Connecting with the database and creating a cursor object\n",
    "    con = sqlite3.connect(db_name)\n",
    "    cursorObj = con.cursor()\n",
    "    \n",
    "    #Executing the command to delete records according to above condition\n",
    "    cursorObj.execute('DROP TABLE emp')\n",
    "    \n",
    "    #Commiting the changes and closing the connection\n",
    "    con.commit()\n",
    "    con.close()\n",
    "\n",
    "#Running the above function to delete 'emp' from the db\n",
    "delete_table('temp_db.db')\n",
    "    \n",
    "print('The table \"emp\" has been successfully deleted !!')"
   ]
  },
  {
   "cell_type": "code",
   "execution_count": 12,
   "id": "frequent-abraham",
   "metadata": {},
   "outputs": [
    {
     "ename": "OperationalError",
     "evalue": "no such table: emp",
     "output_type": "error",
     "traceback": [
      "\u001b[0;31m---------------------------------------------------------------------------\u001b[0m",
      "\u001b[0;31mOperationalError\u001b[0m                          Traceback (most recent call last)",
      "\u001b[0;32m<ipython-input-12-d49ba3380539>\u001b[0m in \u001b[0;36m<module>\u001b[0;34m\u001b[0m\n\u001b[0;32m----> 1\u001b[0;31m \u001b[0mdisplay_records\u001b[0m\u001b[0;34m(\u001b[0m\u001b[0;34m'temp_db.db'\u001b[0m\u001b[0;34m)\u001b[0m\u001b[0;34m\u001b[0m\u001b[0;34m\u001b[0m\u001b[0m\n\u001b[0m",
      "\u001b[0;32m<ipython-input-5-cdb4e9e218bf>\u001b[0m in \u001b[0;36mdisplay_records\u001b[0;34m(db_name)\u001b[0m\n\u001b[1;32m     10\u001b[0m \u001b[0;34m\u001b[0m\u001b[0m\n\u001b[1;32m     11\u001b[0m     \u001b[0;31m#Executing the command to display all the records\u001b[0m\u001b[0;34m\u001b[0m\u001b[0;34m\u001b[0m\u001b[0;34m\u001b[0m\u001b[0m\n\u001b[0;32m---> 12\u001b[0;31m     cursorObj.execute('SELECT * \\\n\u001b[0m\u001b[1;32m     13\u001b[0m                        FROM emp')\n\u001b[1;32m     14\u001b[0m \u001b[0;34m\u001b[0m\u001b[0m\n",
      "\u001b[0;31mOperationalError\u001b[0m: no such table: emp"
     ]
    }
   ],
   "source": [
    "display_records('temp_db.db')"
   ]
  },
  {
   "cell_type": "code",
   "execution_count": null,
   "id": "beginning-lighter",
   "metadata": {},
   "outputs": [],
   "source": []
  }
 ],
 "metadata": {
  "kernelspec": {
   "display_name": "Python 3",
   "language": "python",
   "name": "python3"
  },
  "language_info": {
   "codemirror_mode": {
    "name": "ipython",
    "version": 3
   },
   "file_extension": ".py",
   "mimetype": "text/x-python",
   "name": "python",
   "nbconvert_exporter": "python",
   "pygments_lexer": "ipython3",
   "version": "3.8.5"
  }
 },
 "nbformat": 4,
 "nbformat_minor": 5
}
