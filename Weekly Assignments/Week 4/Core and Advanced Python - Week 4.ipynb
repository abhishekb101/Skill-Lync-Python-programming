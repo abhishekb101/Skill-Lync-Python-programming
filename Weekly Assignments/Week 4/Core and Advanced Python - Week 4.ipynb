{
 "cells": [
  {
   "cell_type": "markdown",
   "id": "imported-marble",
   "metadata": {},
   "source": [
    "## Week 4 Challenge"
   ]
  },
  {
   "cell_type": "markdown",
   "id": "amino-integer",
   "metadata": {},
   "source": [
    "### Importing necessary libraries"
   ]
  },
  {
   "cell_type": "code",
   "execution_count": 1,
   "id": "australian-carol",
   "metadata": {},
   "outputs": [],
   "source": [
    "import math\n",
    "import sys\n",
    "from collections import Counter \n",
    "from functools import reduce"
   ]
  },
  {
   "cell_type": "markdown",
   "id": "industrial-thunder",
   "metadata": {},
   "source": [
    "**Q1** - *A set contains names which begin either with A or with B. Write a program to separate the names into two sets, one containing names beginning with A and the other containing names beginning with B*"
   ]
  },
  {
   "cell_type": "code",
   "execution_count": 2,
   "id": "acceptable-dietary",
   "metadata": {},
   "outputs": [
    {
     "name": "stdout",
     "output_type": "stream",
     "text": [
      "The elements starting with 'A' in the original set:\n",
      " {'Apple', 'Actor'}\n",
      "\n",
      "The elements starting with 'B' in the original set:\n",
      " {'Boy', 'Ball', 'Banana'}\n"
     ]
    }
   ],
   "source": [
    "#Case sensitivity is important as its mentioned clearly in the question \n",
    "#Elements present in sample set are exhaustive with elements starting with either 'A' or 'B' and not others\n",
    "\n",
    "#Creating a dummy set to test\n",
    "sample = {'Actor', 'Apple', 'Banana', 'Boy','Ball'}\n",
    "\n",
    "def set_seperator(sample):\n",
    "    \"\"\"\n",
    "    Taking an input as a set with elements starting with A or B (assumed exhaustive)\n",
    "    and separating it into two sets starting with A and B\n",
    "    \"\"\"\n",
    "    \n",
    "    #Creating two sets to store values\n",
    "    setA = set()\n",
    "    setB = set()\n",
    "    \n",
    "    #Iterating over the elements in \n",
    "    for word in sample:\n",
    "        \n",
    "        #If word starts with 'A' then adding it to setA\n",
    "        if word.startswith('A'):\n",
    "            setA.add(word)\n",
    "        else:\n",
    "            setB.add(word)\n",
    "            \n",
    "    #Displaying the results        \n",
    "    print(\"The elements starting with 'A' in the original set:\\n {}\".format(setA))\n",
    "    print(\"\\nThe elements starting with 'B' in the original set:\\n {}\".format(setB))\n",
    "\n",
    "#Running the function to display the results    \n",
    "set_seperator(sample)"
   ]
  },
  {
   "cell_type": "markdown",
   "id": "periodic-burst",
   "metadata": {},
   "source": [
    "**Q2** - *Create a list of tuples. Each tuple should contain an item and its price in float. Write a program to print each item and its price in a proper format*"
   ]
  },
  {
   "cell_type": "code",
   "execution_count": 3,
   "id": "aware-lemon",
   "metadata": {},
   "outputs": [
    {
     "name": "stdout",
     "output_type": "stream",
     "text": [
      "Apple costs Rs 20.5 in the supermarket closest to me.\n",
      "Banana costs Rs 30.5 in the supermarket closest to me.\n",
      "Litchi costs Rs 40.25 in the supermarket closest to me.\n",
      "Mango costs Rs 60.25 in the supermarket closest to me.\n"
     ]
    }
   ],
   "source": [
    "#Creating a dummy list of tuples to iterate over with item and cost\n",
    "shop_cart = [('Apple',20.5), ('Banana',30.5), ('Litchi',40.25), ('Mango',60.25)]\n",
    "\n",
    "#Iterating over the elements using a for loop and printing each\n",
    "for item, cost in shop_cart:\n",
    "    print('{} costs Rs {} in the supermarket closest to me.'.format(item, cost))"
   ]
  },
  {
   "cell_type": "markdown",
   "id": "tribal-alcohol",
   "metadata": {},
   "source": [
    "**Q3** - *Write a program that reads integers from the user and stores them in a list. Your program should continue reading values until the user enters 0. Then it should display all of the values entered by the user (except for the 0) in order from smallest to largest, with one value appearing on each line. Use either the sort method or the sorted function to sort the list.*"
   ]
  },
  {
   "cell_type": "code",
   "execution_count": 14,
   "id": "little-limitation",
   "metadata": {},
   "outputs": [
    {
     "name": "stdout",
     "output_type": "stream",
     "text": [
      "Enter an integer to store in list: 5\n",
      "Enter an integer to store in list: 10\n",
      "Enter an integer to store in list: 15\n",
      "Enter an integer to store in list: 16\n",
      "Enter an integer to store in list: 4\n",
      "Enter an integer to store in list: 7\n",
      "Enter an integer to store in list: 0\n",
      "\n",
      "The sorted integer list:\n",
      "4\n",
      "5\n",
      "7\n",
      "10\n",
      "15\n",
      "16\n"
     ]
    }
   ],
   "source": [
    "#Assuming 0 is entered by user or else the loop will keep running infinitely \n",
    "\n",
    "#Creating a list to store the multiple integers\n",
    "int_ls = []\n",
    "\n",
    "#Breaking the loop whenever 0 is entered by the user\n",
    "while True:\n",
    "    num = int(input('Enter an integer to store in list: '))\n",
    "    \n",
    "    if num == 0:\n",
    "        break\n",
    "        \n",
    "    #Appending the integer value into the list if any value apart from 0 is entered\n",
    "    int_ls.append(num)\n",
    "\n",
    "#Sorting the sliced list omitting the zero entered at last idx position     \n",
    "updated_ls = sorted(int_ls, reverse = False)\n",
    "\n",
    "print('\\nThe sorted integer list:')\n",
    "\n",
    "#Iterating over the sorted list and printing each value in one line\n",
    "for n in updated_ls:\n",
    "    print(n)"
   ]
  },
  {
   "cell_type": "markdown",
   "id": "decimal-arthritis",
   "metadata": {},
   "source": [
    "**Q4** - *Write a program to read a list of numbers from the user and remove the two largest and two smallest values from it. Display the list with the values removed, followed by the original list. Your program should generate an appropriate error message if the user enters less than 5 values.*"
   ]
  },
  {
   "cell_type": "code",
   "execution_count": 6,
   "id": "upset-confusion",
   "metadata": {},
   "outputs": [
    {
     "name": "stdout",
     "output_type": "stream",
     "text": [
      "Enter a list of numbers: 3 3 7 6 7 8 8 9 9\n",
      "\n",
      "The list after removal of values:\n",
      "[7.0, 7.0]\n",
      "\n",
      "The original list (sorted) :\n",
      "[3.0, 3.0, 6.0, 7.0, 7.0, 8.0, 8.0, 9.0, 9.0]\n"
     ]
    }
   ],
   "source": [
    "#Assuming user has entered list of numbers in one line in a space seperated format\n",
    "#Inputs provided by user can have duplicate entries but have largest, second_largest,\n",
    "#second_smallest and smallest values present or else error message is displayed\n",
    "\n",
    "def second_largest(arr):\n",
    "    \"\"\"\n",
    "    Returns the second largest element in the list \n",
    "    \"\"\"\n",
    "    if len(set(arr)) == 1:\n",
    "        print('The given input by user does not have more than 1 distinct element provided.')\n",
    "    else:\n",
    "        #Converting the list into a set to remove duplicate values and sorting them in descending order\n",
    "        sorted_arr = sorted(set(arr), reverse=True)\n",
    "        #Printing the second largest number\n",
    "        return sorted_arr[1]\n",
    "\n",
    "def second_smallest(arr):\n",
    "    \"\"\"\n",
    "    Returns the second smallest element in the list \n",
    "    \"\"\"\n",
    "    if len(set(arr)) == 1:\n",
    "        print('The given input by user does not have more than 1 distinct element provided.')\n",
    "    else:\n",
    "        #Converting the list into a set to remove duplicate values and sorting them in ascending order\n",
    "        sorted_arr = sorted(set(arr), reverse=False)\n",
    "        #Printing the second largest number\n",
    "    return sorted_arr[1]\n",
    "\n",
    "#Allowing float values to also be entered\n",
    "ls = list(map(float, input('Enter a list of numbers: ').split()))\n",
    "\n",
    "#Condition to check smaller lists entry by user\n",
    "if len(ls) < 5:\n",
    "    print('The list entered contains less than 5 values. Try again!')\n",
    "    \n",
    "else:    \n",
    "    #Obtaining the values of the smallest, smallest2, largest2, largest in an input array \n",
    "    val_ls = [min(ls), max(ls), second_smallest(ls), second_largest(ls)]\n",
    "    \n",
    "    #Getting the elements remaining in the list after removal of extreme values\n",
    "    ls_afterrem = [ele for ele in ls if ele not in val_ls]\n",
    "    \n",
    "    #Displaying the results\n",
    "    print('\\nThe list after removal of values:\\n{}'.format(ls_afterrem))\n",
    "    ls.sort()\n",
    "    print('\\nThe original list (sorted) :\\n{}'.format(ls))"
   ]
  },
  {
   "cell_type": "markdown",
   "id": "fancy-forty",
   "metadata": {},
   "source": [
    "**Q5** - *In this exercise, you will create a program that reads words from the user until the user enters a blank line. After the user enters a blank line your program should display each word entered by the user exactly once.*"
   ]
  },
  {
   "cell_type": "code",
   "execution_count": 7,
   "id": "pointed-basement",
   "metadata": {},
   "outputs": [
    {
     "name": "stdout",
     "output_type": "stream",
     "text": [
      "Enter a word: cat\n",
      "Enter a word: dog\n",
      "Enter a word: Dog\n",
      "Enter a word: Cat\n",
      "Enter a word: Panda\n",
      "Enter a word: \n",
      "\n",
      "The unique words entered by the user:\n",
      "cat\n",
      "dog\n",
      "panda\n"
     ]
    }
   ],
   "source": [
    "#As the output wants each word printed once & not necessarily in order - Unordered collections like dict can be used\n",
    "#It has O(1) query time. Hence would be faster in implementation over other types and handles duplicates gracefully\n",
    "\n",
    "output_dict = {}\n",
    "\n",
    "#Blank line in python includes -- ' ', '\\n'\n",
    "\n",
    "#Iterating until the user enters a blank line as input\n",
    "while True:\n",
    "    #To handle case sensitivity of words and any number of spaces in the entry by user\n",
    "    inp = input('Enter a word: ').lower().strip()\n",
    "\n",
    "    #Terminating the loop if blank line is entered -- \\\\n used as thats the way the dict stores it in python\n",
    "    if inp == '\\\\n' or len(inp) == 0:\n",
    "        break\n",
    "        \n",
    "    else:    \n",
    "        #Checking to see if the entry \n",
    "        if inp in output_dict:\n",
    "            output_dict[inp] += 1\n",
    "        else:\n",
    "            output_dict[inp] = 1\n",
    "\n",
    "print('\\nThe unique words entered by the user:')\n",
    "\n",
    "#Iterating over the keys of the output dict -- words entered by user \n",
    "for word in output_dict:\n",
    "    print(word)"
   ]
  },
  {
   "cell_type": "markdown",
   "id": "activated-creativity",
   "metadata": {},
   "source": [
    "**Q6** - *Write a program that reads numbers from the user until a 0 is entered. Your program should display the average of all of the values entered by the user. Then the program should display all of the below average values, followed by all of the average values (if any), followed by all of the above average values. An appropriate label should be displayed before each list of values.*"
   ]
  },
  {
   "cell_type": "code",
   "execution_count": 8,
   "id": "floppy-victorian",
   "metadata": {},
   "outputs": [
    {
     "name": "stdout",
     "output_type": "stream",
     "text": [
      "Enter a number to add to the list: 5\n",
      "Enter a number to add to the list: 10\n",
      "Enter a number to add to the list: 15\n",
      "Enter a number to add to the list: 20 \n",
      "Enter a number to add to the list: 1000\n",
      "Enter a number to add to the list: 480\n",
      "Enter a number to add to the list: 0\n",
      "\n",
      "The average value of the resulting list:\n",
      " 255.0\n",
      "\n",
      "The below average values of the resulting list:\n",
      " [5.0, 10.0, 15.0, 20.0]\n",
      "\n",
      "The average values of the resulting list:\n",
      " []\n",
      "\n",
      "The above average values of the resulting list:\n",
      " [1000.0, 480.0]\n"
     ]
    }
   ],
   "source": [
    "#Assuming numbers are entered one at a time by the user and first entry 0 is void as all results will be empty\n",
    "\n",
    "try:\n",
    "    #Creating a list to store the entries from the user\n",
    "    result_ls = []\n",
    "\n",
    "    while True:\n",
    "        num = float(input('Enter a number to add to the list: '))\n",
    "        #Condition to exit the loop\n",
    "        if num == 0:\n",
    "            break\n",
    "\n",
    "        #Appending the number into the list\n",
    "        result_ls.append(num)\n",
    "\n",
    "    #Using reduce to calculate the sum of the list     \n",
    "    avg = reduce(lambda x,y : x+y, result_ls)/len(result_ls)\n",
    "    \n",
    "    #Displaying the average value\n",
    "    print('\\nThe average value of the resulting list:\\n {}'.format(avg))\n",
    "    \n",
    "    #Displaying the filtered list -- below average values strictly\n",
    "    below_avg = [num for num in result_ls if num < avg]\n",
    "    print('\\nThe below average values of the resulting list:\\n {}'.format(below_avg))\n",
    "\n",
    "    #Displaying the filtered list -- average values \n",
    "    avg_ls = [num for num in result_ls if num == avg]\n",
    "    print('\\nThe average values of the resulting list:\\n {}'.format(avg_ls))    \n",
    "\n",
    "    #Displaying the filtered list -- above average values strictly\n",
    "    above_avg = [num for num in result_ls if num > avg]\n",
    "    print('\\nThe above average values of the resulting list:\\n {}'.format(above_avg))\n",
    "\n",
    "except:\n",
    "    print('\\nZero was entered as the first value by the user. Provide input again for apt results')"
   ]
  },
  {
   "cell_type": "markdown",
   "id": "juvenile-special",
   "metadata": {},
   "source": [
    "**Q7** - *Create a program that determines and displays the number of unique characters in a string entered by the user. For example, Hello World! has 9 unique characters while zzz has only one unique character. Use a dictionary to solve this problem.*"
   ]
  },
  {
   "cell_type": "code",
   "execution_count": 9,
   "id": "sweet-banana",
   "metadata": {},
   "outputs": [
    {
     "name": "stdout",
     "output_type": "stream",
     "text": [
      "Enter a string: Hello World!\n",
      "The number of unique characters in the input string: 9\n"
     ]
    }
   ],
   "source": [
    "#Inputting a string to display unique characters\n",
    "st = input('Enter a string: ')\n",
    "\n",
    "#Creating an empty disk to store counts of unique characters\n",
    "unique_dict = {}\n",
    "\n",
    "#Iterating over the characters of the string\n",
    "for char in st:\n",
    "    \n",
    "    #If character is already in dict -- we will add 1\n",
    "    if char in unique_dict:\n",
    "        unique_dict[char] += 1\n",
    "    else:\n",
    "        #If character is not found in dict we will add it to the list with count 1\n",
    "        unique_dict[char] = 1\n",
    "\n",
    "#Displaying the number of unique characters found in the input string        \n",
    "print('The number of unique characters in the input string: {}'.format(len(unique_dict)))"
   ]
  },
  {
   "cell_type": "markdown",
   "id": "anonymous-occasion",
   "metadata": {},
   "source": [
    "**Q8** - *Two words are anagrams if they contain all of the same letters, but in a different order. For example, “evil” and “live” are anagrams because each contains one e, one i, one l, and one v. Create a program that reads two strings from the user, determines whether or not they are anagrams, and reports the result.*"
   ]
  },
  {
   "cell_type": "code",
   "execution_count": 10,
   "id": "ordered-weight",
   "metadata": {},
   "outputs": [
    {
     "name": "stdout",
     "output_type": "stream",
     "text": [
      "Enter the first string: Astronomer\n",
      "Enter the second string: Moon starer\n",
      "The two strings 'Astronomer' and 'Moon starer' are anagrams\n"
     ]
    }
   ],
   "source": [
    "#Inputting the two strings to check whether they are anagrams or not\n",
    "#Also making the program insenstive to upper/ lower case and spaces -- Making all inputs lowercase\n",
    "st1 = input('Enter the first string: ')\n",
    "st2 = input('Enter the second string: ')\n",
    "st1_lower = st1.lower().replace(' ','')\n",
    "st2_lower = st2.lower().replace(' ', '')\n",
    "\n",
    "#Condensed way to create dicts of counts of each unique character in input string using Counter\n",
    "#Counter objects take an iterable character as input\n",
    "dict1 = Counter(st1_lower)\n",
    "dict2 = Counter(st2_lower)\n",
    "\n",
    "#Iterating over the keys present in the first dict \n",
    "for char in dict1:\n",
    "    \n",
    "    #Condition to check if the exact number of a character are present in both for anagrmism\n",
    "    if dict1[char] != dict2[char]:\n",
    "        print(\"The two strings '{}' and '{}' are not anagrams\".format(st1, st2))\n",
    "        break\n",
    "else:\n",
    "    #If all entries run successfully the two strings are anagrams\n",
    "    print(\"The two strings '{}' and '{}' are anagrams\".format(st1, st2))"
   ]
  },
  {
   "cell_type": "markdown",
   "id": "unsigned-reward",
   "metadata": {},
   "source": [
    "**Q9** - *An integer, n, is said to be perfect when the sum of all of the proper divisors of n is equal to n. For example, 28 is a perfect number because its proper divisors are 1, 2, 4, 7 and 14, and 1 + 2 + 4 + 7 + 14 = 28. Write a program that determines whether or not a positive integer is perfect. Your program will accept a number from the user. If that number is a perfect number then your program will display true. Otherwise it will display false.*"
   ]
  },
  {
   "cell_type": "code",
   "execution_count": 11,
   "id": "double-paint",
   "metadata": {},
   "outputs": [
    {
     "name": "stdout",
     "output_type": "stream",
     "text": [
      "Enter a positive integer: 496\n"
     ]
    },
    {
     "data": {
      "text/plain": [
       "True"
      ]
     },
     "execution_count": 11,
     "metadata": {},
     "output_type": "execute_result"
    }
   ],
   "source": [
    "def proper_divisors(num):\n",
    "    \"\"\"\n",
    "    Given a number as input it returns the list of proper divisors of the \n",
    "    same excluding the num itself\n",
    "    \"\"\"\n",
    "    #To store proper divisors\n",
    "    result = []\n",
    "    \n",
    "    #Iterating over the range of 1 to num-1 to find proper divisors\n",
    "    for d in range(1, num):\n",
    "        \n",
    "        #Checking if the value d is a proper divisor or not\n",
    "        if num % d == 0:\n",
    "            \n",
    "            #Appending to the list if it is proper divisor\n",
    "            result.append(d)\n",
    "    return result        \n",
    "    \n",
    "def check_perfectnum(num):\n",
    "    \"\"\"\n",
    "    Given a number it will return True when a number is perfect or otherwise False\n",
    "    \"\"\"\n",
    "    #Checking to see if the number equals the sum of its proper divisors (excluding the number itself)\n",
    "    if num == sum(proper_divisors(num)):\n",
    "        return True\n",
    "    else:\n",
    "        return False\n",
    "    \n",
    "#Inputting the number by the user\n",
    "num = int(input('Enter a positive integer: '))\n",
    "check_perfectnum(num)"
   ]
  },
  {
   "cell_type": "markdown",
   "id": "essential-edition",
   "metadata": {},
   "source": [
    "**Q10** - *Write a program that finds all of the keys in a dictionary that map to a specific value. The program will take the value to search for as its input. It will display a (possibly empty) list of keys from the dictionary that map to the provided value.*"
   ]
  },
  {
   "cell_type": "code",
   "execution_count": 12,
   "id": "julian-theta",
   "metadata": {},
   "outputs": [
    {
     "name": "stdout",
     "output_type": "stream",
     "text": [
      "Enter a value: Cat\n",
      "\n",
      "The resulting list of keys that map to 'Cat' in the sample dictionary:\n",
      "[1, 6]\n",
      "\n",
      "Enter a value: Dog\n",
      "\n",
      "The resulting list of keys that map to 'Dog' in the sample dictionary:\n",
      "[2, 4]\n",
      "\n",
      "Enter a value: Rhino\n",
      "\n",
      "The resulting list of keys that map to 'Rhino' in the sample dictionary:\n",
      "[]\n",
      "\n"
     ]
    }
   ],
   "source": [
    "#Creating a dummy dict to test out the logic and display results\n",
    "sample = {1: 'Cat',\n",
    "          2: 'Dog',\n",
    "          3: 'Pizza',\n",
    "          4: 'Dog',\n",
    "          5: 'Human',\n",
    "          6: 'Cat'}\n",
    "\n",
    "def dict_search(sample_dict, value):\n",
    "    \"\"\"\n",
    "    Takes the dictionary and value as input and returns the list of keys that map to that value\n",
    "    \"\"\"\n",
    "    #Using dict comprehension to returns keys that map to the value\n",
    "    return [k for k, v in sample_dict.items() if v == value]\n",
    "\n",
    "#Testing logic with three values\n",
    "for _ in range(3):\n",
    "    \n",
    "    #Taking an input value from the user\n",
    "    value = input('Enter a value: ')\n",
    "    print(\"\\nThe resulting list of keys that map to '{}' in the sample dictionary:\\n{}\\n\".format(value, dict_search(sample, value)))"
   ]
  },
  {
   "cell_type": "code",
   "execution_count": null,
   "id": "apart-christopher",
   "metadata": {},
   "outputs": [],
   "source": []
  }
 ],
 "metadata": {
  "kernelspec": {
   "display_name": "Python 3",
   "language": "python",
   "name": "python3"
  },
  "language_info": {
   "codemirror_mode": {
    "name": "ipython",
    "version": 3
   },
   "file_extension": ".py",
   "mimetype": "text/x-python",
   "name": "python",
   "nbconvert_exporter": "python",
   "pygments_lexer": "ipython3",
   "version": "3.8.5"
  }
 },
 "nbformat": 4,
 "nbformat_minor": 5
}
