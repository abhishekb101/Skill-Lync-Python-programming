{
 "cells": [
  {
   "cell_type": "markdown",
   "id": "retired-illustration",
   "metadata": {},
   "source": [
    "## Week 10 Challenge"
   ]
  },
  {
   "cell_type": "markdown",
   "id": "subtle-symphony",
   "metadata": {},
   "source": [
    "### Importing necessary libraries"
   ]
  },
  {
   "cell_type": "code",
   "execution_count": 1,
   "id": "animal-jordan",
   "metadata": {},
   "outputs": [],
   "source": [
    "import numpy as np"
   ]
  },
  {
   "cell_type": "markdown",
   "id": "organic-boating",
   "metadata": {},
   "source": [
    "**Q1** - *Create two numpy arrays. The first array, called arr1 should be of one dimension and consist of six elements of float type. The second array, called arr2 should be of two dimensions and each sub-array should consist of 5 elements of string type. Display these two numpy arrays.*"
   ]
  },
  {
   "cell_type": "code",
   "execution_count": 2,
   "id": "incorporate-navigator",
   "metadata": {},
   "outputs": [
    {
     "name": "stdout",
     "output_type": "stream",
     "text": [
      "The one dimensional array: \n",
      "[0. 1. 2. 3. 4. 5.]\n",
      "\n",
      "The two dimensional array: \n",
      "[['ac' 'b' 'c' 'd' 'e']\n",
      " ['f' 'g' 'h' 'i' 'j']]\n"
     ]
    }
   ],
   "source": [
    "#Creating a one dimensional numpy array\n",
    "arr1 = np.array([i for i in range(6)], dtype = 'float')\n",
    "\n",
    "#Creating a two dimensional array with string elements -- Unicode\n",
    "arr2 = np.array([['ac', 'b', 'c', 'd', 'e'], ['f', 'g', 'h', 'i','j']], dtype = 'U')\n",
    "\n",
    "#Printing the two arrays\n",
    "print('The one dimensional array: \\n{}'.format(arr1))\n",
    "print('\\nThe two dimensional array: \\n{}'.format(arr2))"
   ]
  },
  {
   "cell_type": "markdown",
   "id": "studied-folks",
   "metadata": {},
   "source": [
    "**Q2** - *For the arrays arr1 and arr2 created in Q.No.1, display the following properties: data type and dimensions. Reshape arr1 into a two dimensional array of 2 rows and three columns, and display the reshaped array. Similarly, reshape arr2 into a single dimensional array and display the reshaped array.*"
   ]
  },
  {
   "cell_type": "code",
   "execution_count": 3,
   "id": "sticky-hawaii",
   "metadata": {},
   "outputs": [
    {
     "name": "stdout",
     "output_type": "stream",
     "text": [
      "The data type of arr1: float64\n",
      "The dimensions of arr1: (6,)\n",
      "\n",
      "***************\n",
      "\n",
      "The data type of arr2: <U2\n",
      "The dimensions of arr2: (2, 5)\n",
      "\n",
      "\n",
      "***************\n",
      "\n",
      "The reshaped arr1: \n",
      "[[0. 1. 2.]\n",
      " [3. 4. 5.]]\n",
      "\n",
      "The reshaped arr2: \n",
      "['ac' 'b' 'c' 'd' 'e' 'f' 'g' 'h' 'i' 'j']\n"
     ]
    }
   ],
   "source": [
    "#Displaying the properties of the two arrays created above\n",
    "print('The data type of arr1: {}'.format(arr1.dtype))\n",
    "print('The dimensions of arr1: {}'.format(arr1.shape))\n",
    "\n",
    "print('\\n' + '*' * 15 + '\\n')\n",
    "print('The data type of arr2: {}'.format(arr2.dtype))\n",
    "print('The dimensions of arr2: {}\\n'.format(arr2.shape))\n",
    "\n",
    "print('\\n' + '*' * 15 + '\\n')\n",
    "print('The reshaped arr1: \\n{}'.format(arr1.reshape(2,3)))\n",
    "print('\\nThe reshaped arr2: \\n{}'.format(arr2.reshape(-1)))"
   ]
  },
  {
   "cell_type": "markdown",
   "id": "indonesian-catalyst",
   "metadata": {},
   "source": [
    "**Q3** - *Create a two dimensional array called arr3, of 3 rows and 4 columns which is initialized to zeroes. Create another single dimensional array called arr4, with 6 elements and which is initialized to ones. The type of arr4 is int.*"
   ]
  },
  {
   "cell_type": "code",
   "execution_count": 4,
   "id": "requested-strike",
   "metadata": {},
   "outputs": [
    {
     "name": "stdout",
     "output_type": "stream",
     "text": [
      "Two dimensional arr3 initialized with zeros: \n",
      "[[0. 0. 0. 0.]\n",
      " [0. 0. 0. 0.]\n",
      " [0. 0. 0. 0.]]\n",
      "\n",
      "One dimensional arr4 initialized with ones: \n",
      "[1 1 1 1 1 1]\n"
     ]
    }
   ],
   "source": [
    "#Creating a numpy zeros array (3,4) in size -- float type by default\n",
    "\n",
    "arr3 = np.zeros((3,4))\n",
    "print('Two dimensional arr3 initialized with zeros: \\n{}'.format(arr3))\n",
    "\n",
    "#Creating a numpy ones array 6 elements in size -- int type\n",
    "\n",
    "arr4 = np.ones((6,), dtype = 'int')\n",
    "print('\\nOne dimensional arr4 initialized with ones: \\n{}'.format(arr4))"
   ]
  },
  {
   "cell_type": "markdown",
   "id": "streaming-anthropology",
   "metadata": {},
   "source": [
    "**Q4** - *Create a list called list1 with the elements 10,20,30,40,50. Now, create a numpy array called arr5 from list1, using the method asarray. The data type of arr5 is float. Similarly, create another array called arr6, from list1, using the method fromiter, whose data type is int. Display arr5 and arr6.*"
   ]
  },
  {
   "cell_type": "code",
   "execution_count": 5,
   "id": "changed-witness",
   "metadata": {},
   "outputs": [
    {
     "name": "stdout",
     "output_type": "stream",
     "text": [
      "arr5 created from list1: \n",
      "[10. 20. 30. 40. 50.]\n",
      "\n",
      "arr6 created using fromiter method: \n",
      "[10 20 30 40 50]\n"
     ]
    }
   ],
   "source": [
    "#Creating a numpy array from list\n",
    "\n",
    "list1 = [num for num in range(10,60,10)]\n",
    "arr5 = np.asarray(list1, dtype = 'float')\n",
    "print('arr5 created from list1: \\n{}'.format(arr5))\n",
    "\n",
    "#Creating a numpy array from an iterable object list1 -- Displaying all values in list1\n",
    "arr6 = np.fromiter(list1, dtype = 'int', count= -1) \n",
    "print('\\narr6 created using fromiter method: \\n{}'.format(arr6))"
   ]
  },
  {
   "cell_type": "markdown",
   "id": "accurate-corporation",
   "metadata": {},
   "source": [
    "**Q5** - *Create a numpy array called arr7 using the method arange. The starting value of this array is 12 and ending value is 99, with a step size of 3. Use the linspace method to create another array called arr8, where the starting value is 12 and ending value is 99 and which contains 50 evenly spaced elements.*"
   ]
  },
  {
   "cell_type": "code",
   "execution_count": 6,
   "id": "constitutional-entrepreneur",
   "metadata": {},
   "outputs": [
    {
     "name": "stdout",
     "output_type": "stream",
     "text": [
      "Creating numpy array using arange method: \n",
      "[12 15 18 21 24 27 30 33 36 39 42 45 48 51 54 57 60 63 66 69 72 75 78 81\n",
      " 84 87 90 93 96 99]\n",
      "\n",
      "Creating numpy array using linspace method: \n",
      "[12.         13.7755102  15.55102041 17.32653061 19.10204082 20.87755102\n",
      " 22.65306122 24.42857143 26.20408163 27.97959184 29.75510204 31.53061224\n",
      " 33.30612245 35.08163265 36.85714286 38.63265306 40.40816327 42.18367347\n",
      " 43.95918367 45.73469388 47.51020408 49.28571429 51.06122449 52.83673469\n",
      " 54.6122449  56.3877551  58.16326531 59.93877551 61.71428571 63.48979592\n",
      " 65.26530612 67.04081633 68.81632653 70.59183673 72.36734694 74.14285714\n",
      " 75.91836735 77.69387755 79.46938776 81.24489796 83.02040816 84.79591837\n",
      " 86.57142857 88.34693878 90.12244898 91.89795918 93.67346939 95.44897959\n",
      " 97.2244898  99.        ]\n"
     ]
    }
   ],
   "source": [
    "#Creating a numpy array using arange method\n",
    "\n",
    "arr7 = np.arange(12, 100, 3)\n",
    "print('Creating numpy array using arange method: \\n{}'.format(arr7))\n",
    "\n",
    "#Using the linspace method to create a numpy array\n",
    "arr8 = np.linspace(12, 99, 50)\n",
    "print('\\nCreating numpy array using linspace method: \\n{}'.format(arr8))"
   ]
  },
  {
   "cell_type": "markdown",
   "id": "naval-small",
   "metadata": {},
   "source": [
    "**Q6** - *In the array arr2 defined in Q.No. 1, what is the output of the following statements: print(arr2), print(arr2[0:1]), print(arr2[1][3]), print (arr2[1])*"
   ]
  },
  {
   "cell_type": "code",
   "execution_count": 7,
   "id": "fatal-values",
   "metadata": {},
   "outputs": [
    {
     "name": "stdout",
     "output_type": "stream",
     "text": [
      "Printing arr2: \n",
      "[['ac' 'b' 'c' 'd' 'e']\n",
      " ['f' 'g' 'h' 'i' 'j']]\n",
      "\n",
      "Printing the first row of arr2: \n",
      "[['ac' 'b' 'c' 'd' 'e']]\n",
      "\n",
      "Printing the fourth element in the second row of arr2: \n",
      "i\n",
      "\n",
      "Printing the second row of arr2: \n",
      "['f' 'g' 'h' 'i' 'j']\n"
     ]
    }
   ],
   "source": [
    "#Printing results of arr2\n",
    "\n",
    "print('Printing arr2: \\n{}'.format(arr2))\n",
    "print('\\nPrinting the first row of arr2: \\n{}'.format(arr2[0:1]))\n",
    "print('\\nPrinting the fourth element in the second row of arr2: \\n{}'.format(arr2[1][3]))\n",
    "print('\\nPrinting the second row of arr2: \\n{}'.format(arr2[1]))"
   ]
  },
  {
   "cell_type": "markdown",
   "id": "exotic-captain",
   "metadata": {},
   "source": [
    "**Q7** - *Create a two dimensional array called arr9 with the following elements: [101, 322, 768], [233, 124, 390], [534, 122, 216]. From arr9, create an array called arr10 which contains the elements 101, 322, 390, 122 using advanced integer indexing. Create another array called arr11 which contains elements of first and second rows, and second and third columns using slicing operations.*"
   ]
  },
  {
   "cell_type": "code",
   "execution_count": 8,
   "id": "million-comparative",
   "metadata": {},
   "outputs": [
    {
     "name": "stdout",
     "output_type": "stream",
     "text": [
      "Printing arr9: \n",
      "[[101 322 768]\n",
      " [233 124 390]\n",
      " [534 122 216]]\n",
      "\n",
      "Obtaining arr10 using integer indexing: \n",
      "[101 322 390 122]\n",
      "\n",
      "Obtaining arr11 using slicing operations: \n",
      "[[322 768]\n",
      " [124 390]]\n"
     ]
    }
   ],
   "source": [
    "arr9 = np.array([[101, 322, 768], [233, 124, 390], [534, 122, 216]])\n",
    "print('Printing arr9: \\n{}'.format(arr9))\n",
    "\n",
    "#Using integer indexing methods to create arr10\n",
    "arr10 = arr9[[0, 0, 1, 2], [0, 1, 2, 1]] \n",
    "print('\\nObtaining arr10 using integer indexing: \\n{}'.format(arr10))\n",
    "\n",
    "#Creating arr11 using slicing operations\n",
    "arr11 = arr9[:2, 1:]\n",
    "print('\\nObtaining arr11 using slicing operations: \\n{}'.format(arr11))"
   ]
  },
  {
   "cell_type": "markdown",
   "id": "printable-hometown",
   "metadata": {},
   "source": [
    "**Q8** - *From array arr9 created in Q.No. 7, find all elements greater than 200 using boolean indexing, find all non-NaN elements, and find all non-float elements. Find the result of adding arrays arr9 and another array of 3 elements, using the concept of broadcasting.*"
   ]
  },
  {
   "cell_type": "code",
   "execution_count": 10,
   "id": "productive-excuse",
   "metadata": {},
   "outputs": [
    {
     "name": "stdout",
     "output_type": "stream",
     "text": [
      "All elements in arr9 greater than 200: \n",
      "[322 768 233 390 534 216]\n",
      "\n",
      "All elements in arr9 that are non-NaN elements: \n",
      "[101 322 768 233 124 390 534 122 216]\n",
      "\n",
      "All elements in arr9 that are non-float elements: \n",
      "[[[101 322 768]\n",
      "  [233 124 390]\n",
      "  [534 122 216]]]\n",
      "\n",
      "********************\n",
      "\n",
      "Printing arr9 for reference: \n",
      "[[101 322 768]\n",
      " [233 124 390]\n",
      " [534 122 216]]\n",
      "\n",
      "Printing test_arr for reference: \n",
      "[10 20 30]\n",
      "\n",
      "The resulting of addition using broadcasting: \n",
      "[[111 342 798]\n",
      " [243 144 420]\n",
      " [544 142 246]]\n"
     ]
    }
   ],
   "source": [
    "#Using boolean indexing\n",
    "bool_arr1 = arr9[arr9 > 200]\n",
    "print('All elements in arr9 greater than 200: \\n{}'.format(bool_arr1))\n",
    "\n",
    "#Finding all non-NaN elements\n",
    "bool_arr2 = arr9[~np.isnan(arr9)]\n",
    "print('\\nAll elements in arr9 that are non-NaN elements: \\n{}'.format(bool_arr2))\n",
    "\n",
    "#Finding all non-float datatype elements\n",
    "bool_arr3 = arr9[arr9.dtype != 'float']\n",
    "print('\\nAll elements in arr9 that are non-float elements: \\n{}'.format(bool_arr3))\n",
    "\n",
    "#Depicting the concept of broadcasting\n",
    "#Creating an array of 3 elements\n",
    "\n",
    "test_arr = np.array([num for num in range(10, 40, 10)])\n",
    "\n",
    "print('\\n' + '*' * 20 + '\\n')\n",
    "print('Printing arr9 for reference: \\n{}'.format(arr9))\n",
    "print('\\nPrinting test_arr for reference: \\n{}'.format(test_arr))\n",
    "print('\\nThe resulting of addition using broadcasting: \\n{}'.format(arr9 + test_arr))"
   ]
  },
  {
   "cell_type": "markdown",
   "id": "fossil-subsection",
   "metadata": {},
   "source": [
    "**Q9** - *For the array arr9, find its transpose. Find the result of joining the arrays arr1 and arr4 along axis 0.*"
   ]
  },
  {
   "cell_type": "code",
   "execution_count": 12,
   "id": "declared-december",
   "metadata": {},
   "outputs": [
    {
     "name": "stdout",
     "output_type": "stream",
     "text": [
      "The transpose of arr9: \n",
      "[[101 233 534]\n",
      " [322 124 122]\n",
      " [768 390 216]]\n",
      "\n",
      "Printing arr1 for reference: \n",
      "[0. 1. 2. 3. 4. 5.]\n",
      "\n",
      "Printing arr4 for reference: \n",
      "[1 1 1 1 1 1]\n",
      "\n",
      "The result of concatenation along axis 0 when both arrays are 1D: \n",
      "[0. 1. 2. 3. 4. 5. 1. 1. 1. 1. 1. 1.]\n",
      "\n",
      "The result of concatenation along axis 0 using reshape: \n",
      "[[0. 1. 2. 3. 4. 5.]\n",
      " [1. 1. 1. 1. 1. 1.]]\n"
     ]
    }
   ],
   "source": [
    "#Finding the transpose of arr9\n",
    "print('The transpose of arr9: \\n{}'.format(arr9.T))\n",
    "\n",
    "#Using concatenation to join two arrays along axis 0\n",
    "print('\\nPrinting arr1 for reference: \\n{}'.format(arr1))\n",
    "print('\\nPrinting arr4 for reference: \\n{}'.format(arr4))\n",
    "\n",
    "#Concatenating the two 1D arrays along axis 0 -- in shape (size)\n",
    "concat_arr1 = np.concatenate((arr1, arr4), axis = 0)\n",
    "print('\\nThe result of concatenation along axis 0 when both arrays are 1D: \\n{}'.format(concat_arr1))\n",
    "\n",
    "#Concatenating the two 1D arrays by reshaping them to be 2D row vectors of form -- (1, size)\n",
    "concat_arr2 = np.concatenate((arr1.reshape(1, -1), arr4.reshape(1, -1)), axis = 0)\n",
    "print('\\nThe result of concatenation along axis 0 using reshape: \\n{}'.format(concat_arr2))"
   ]
  },
  {
   "cell_type": "markdown",
   "id": "boxed-burst",
   "metadata": {},
   "source": [
    "**Q10** - *Using any two 2-dimensional arrays, demonstrate the working of the methods, hstack, vstack, hsplit and vsplit.*"
   ]
  },
  {
   "cell_type": "code",
   "execution_count": 13,
   "id": "bottom-waterproof",
   "metadata": {},
   "outputs": [
    {
     "name": "stdout",
     "output_type": "stream",
     "text": [
      "The first test array: \n",
      "[[ 0  1  2  3]\n",
      " [ 4  5  6  7]\n",
      " [ 8  9 10 11]\n",
      " [12 13 14 15]]\n",
      "\n",
      "The second test array: \n",
      "[[16 17 18 19]\n",
      " [20 21 22 23]\n",
      " [24 25 26 27]\n",
      " [28 29 30 31]]\n",
      "\n",
      "***************\n",
      "\n",
      "The two arrays stacked horizontally: \n",
      "[[ 0  1  2  3 16 17 18 19]\n",
      " [ 4  5  6  7 20 21 22 23]\n",
      " [ 8  9 10 11 24 25 26 27]\n",
      " [12 13 14 15 28 29 30 31]]\n",
      "\n",
      "The two arrays stacked vertically: \n",
      "[[ 0  1  2  3]\n",
      " [ 4  5  6  7]\n",
      " [ 8  9 10 11]\n",
      " [12 13 14 15]\n",
      " [16 17 18 19]\n",
      " [20 21 22 23]\n",
      " [24 25 26 27]\n",
      " [28 29 30 31]]\n",
      "\n",
      "Splitting the hstack array into 4 sub arrays: \n",
      "[array([[ 0,  1],\n",
      "       [ 4,  5],\n",
      "       [ 8,  9],\n",
      "       [12, 13]]), array([[ 2,  3],\n",
      "       [ 6,  7],\n",
      "       [10, 11],\n",
      "       [14, 15]]), array([[16, 17],\n",
      "       [20, 21],\n",
      "       [24, 25],\n",
      "       [28, 29]]), array([[18, 19],\n",
      "       [22, 23],\n",
      "       [26, 27],\n",
      "       [30, 31]])]\n",
      "\n",
      "Splitting the vstack array into 2 sub arrays: \n",
      "[array([[ 0,  1,  2,  3],\n",
      "       [ 4,  5,  6,  7],\n",
      "       [ 8,  9, 10, 11],\n",
      "       [12, 13, 14, 15]]), array([[16, 17, 18, 19],\n",
      "       [20, 21, 22, 23],\n",
      "       [24, 25, 26, 27],\n",
      "       [28, 29, 30, 31]])]\n"
     ]
    }
   ],
   "source": [
    "#Creating two 2D test arrays for demonstrating the above methods\n",
    "test_arr1 = np.arange(16).reshape((4,4))\n",
    "test_arr2 = np.arange(16,32).reshape((4,4))\n",
    "print('The first test array: \\n{}'.format(test_arr1))\n",
    "print('\\nThe second test array: \\n{}'.format(test_arr2))\n",
    "\n",
    "print('\\n' + '*' * 15 + '\\n') \n",
    "\n",
    "#Hstack method\n",
    "arr_hstack = np.hstack((test_arr1, test_arr2))\n",
    "print('The two arrays stacked horizontally: \\n{}'.format(arr_hstack))\n",
    "\n",
    "#Vstack method\n",
    "arr_vstack = np.vstack((test_arr1, test_arr2))\n",
    "print('\\nThe two arrays stacked vertically: \\n{}'.format(arr_vstack))\n",
    "\n",
    "#hsplit method -- Splitting arr_hstack into 4 sub arrays\n",
    "print('\\nSplitting the hstack array into 4 sub arrays: \\n{}'.format(np.hsplit(arr_hstack, 4)))\n",
    "\n",
    "#vsplit method -- Splitting arr_vstack into 2 sub arrays\n",
    "print('\\nSplitting the vstack array into 2 sub arrays: \\n{}'.format(np.vsplit(arr_vstack, 2)))"
   ]
  }
 ],
 "metadata": {
  "kernelspec": {
   "display_name": "Python 3",
   "language": "python",
   "name": "python3"
  },
  "language_info": {
   "codemirror_mode": {
    "name": "ipython",
    "version": 3
   },
   "file_extension": ".py",
   "mimetype": "text/x-python",
   "name": "python",
   "nbconvert_exporter": "python",
   "pygments_lexer": "ipython3",
   "version": "3.8.5"
  }
 },
 "nbformat": 4,
 "nbformat_minor": 5
}
