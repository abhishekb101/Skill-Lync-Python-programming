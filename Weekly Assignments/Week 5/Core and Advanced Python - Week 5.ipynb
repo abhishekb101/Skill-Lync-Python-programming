{
 "cells": [
  {
   "cell_type": "markdown",
   "id": "alternate-integrity",
   "metadata": {},
   "source": [
    "## Week 5 Challenge"
   ]
  },
  {
   "cell_type": "markdown",
   "id": "smart-repository",
   "metadata": {},
   "source": [
    "### Importing necessary libraries"
   ]
  },
  {
   "cell_type": "code",
   "execution_count": 1,
   "id": "general-duncan",
   "metadata": {},
   "outputs": [],
   "source": [
    "import math\n",
    "import sys\n",
    "from functools import reduce"
   ]
  },
  {
   "cell_type": "markdown",
   "id": "identical-latter",
   "metadata": {},
   "source": [
    "**Q1** - *Write a function that takes the lengths of the two shorter sides of a right triangle as its parameters. Return the hypotenuse of the triangle, computed using Pythagorean theorem, as the function’s result.*"
   ]
  },
  {
   "cell_type": "code",
   "execution_count": 2,
   "id": "focal-latvia",
   "metadata": {},
   "outputs": [
    {
     "name": "stdout",
     "output_type": "stream",
     "text": [
      "Enter the first side of the right angled triangle: 3\n",
      "Enter the second side of the right angled triangle: 4\n",
      "\n",
      "The hypotenuse of the right angled triangle with sides 3.0 and 4.0: 5.0\n"
     ]
    }
   ],
   "source": [
    "def hypotenuse(a, b):\n",
    "    \"\"\"\n",
    "    Takes two sides of the right triangle a & b as input \n",
    "    to compute the hypotenus \n",
    "    \"\"\"\n",
    "    return math.sqrt(math.pow(a,2) + math.pow(b,2))\n",
    "\n",
    "#Displaying results with sample call\n",
    "a = float(input('Enter the first side of the right angled triangle: '))\n",
    "b = float(input('Enter the second side of the right angled triangle: '))\n",
    "print('\\nThe hypotenuse of the right angled triangle with sides {} and {}: {}'.format(a, b, hypotenuse(a, b)))"
   ]
  },
  {
   "cell_type": "markdown",
   "id": "superior-addiction",
   "metadata": {},
   "source": [
    "**Q2** - *An online retailer provides express shipping for many of its items at a rate of $10.95 for the first item, and $2.95 for each subsequent item. Write a function that takes the number of items in the order as its only parameter. Return the shipping charge for the order as the function’s result. Include a main program that reads the number of items purchased from the user and displays the shipping charge.* "
   ]
  },
  {
   "cell_type": "code",
   "execution_count": 3,
   "id": "israeli-personal",
   "metadata": {},
   "outputs": [
    {
     "name": "stdout",
     "output_type": "stream",
     "text": [
      "The number of items bought by the customer: 5\n",
      "The total shipping charge levied on the customer: $22.75\n"
     ]
    }
   ],
   "source": [
    "def shipping_charge(num_items):\n",
    "    \"\"\"\n",
    "    Takes the number of items to ship as input and returns\n",
    "    the total shipping charge to be paid by user\n",
    "    \"\"\"\n",
    "    #Handling base case when no item has been placed by customer\n",
    "    if num_items == 0:\n",
    "        return 0\n",
    "    \n",
    "    else:\n",
    "        #As its levied when a customer orders\n",
    "        base_charge = 10.95\n",
    "\n",
    "        #For every subsequent item $2.95 is levied\n",
    "        surplus_charge = 2.95 * (num_items - 1)\n",
    "        \n",
    "        #Giving charges rounded upto 2 decimal places\n",
    "        return base_charge + surplus_charge\n",
    "\n",
    "num_items = int(input('The number of items bought by the customer: '))\n",
    "print('The total shipping charge levied on the customer: ${:.2f}'.format(shipping_charge(num_items)))"
   ]
  },
  {
   "cell_type": "markdown",
   "id": "north-incident",
   "metadata": {},
   "source": [
    "**Q3** - *Write a function that takes three numbers as parameters, and returns the median value of those parameters as its result. Include a main program that reads three values from the user and displays their median.*"
   ]
  },
  {
   "cell_type": "code",
   "execution_count": 4,
   "id": "knowing-reflection",
   "metadata": {},
   "outputs": [
    {
     "name": "stdout",
     "output_type": "stream",
     "text": [
      "Enter the first number: 3\n",
      "Enter the second number: 2\n",
      "Enter the third number: 50\n",
      "\n",
      "The median of the three inputs: 3.00\n"
     ]
    }
   ],
   "source": [
    "def median(num1, num2, num3):\n",
    "    \"\"\"\n",
    "    Takes three numbers as input and returns the median value\n",
    "    \"\"\"\n",
    "    #Storing three parameters in a list\n",
    "    ls = [num1, num2, num3]\n",
    "    \n",
    "    #Inplace sorting of the list in ascending order\n",
    "    ls.sort()\n",
    "    \n",
    "    #Returning the middle element as the median - 50th percentile\n",
    "    return ls[1]\n",
    "\n",
    "num1 = float(input('Enter the first number: '))\n",
    "num2 = float(input('Enter the second number: '))\n",
    "num3 = float(input('Enter the third number: '))\n",
    "print('\\nThe median of the three inputs: {:.2f}'.format(median(num1, num2, num3)))"
   ]
  },
  {
   "cell_type": "markdown",
   "id": "perfect-petersburg",
   "metadata": {},
   "source": [
    "**Q4** - *Write a function that determines whether or not three lengths can form a triangle. The function will take 3 parameters and return a Boolean result. In addition, write a program that reads 3 lengths from the user and demonstrates the behavior of this function. In general, if any one length is greater than or equal to the sum of the other two then the lengths cannot be used to form a triangle. Otherwise they can form a triangle.*"
   ]
  },
  {
   "cell_type": "code",
   "execution_count": 5,
   "id": "offensive-afghanistan",
   "metadata": {},
   "outputs": [
    {
     "name": "stdout",
     "output_type": "stream",
     "text": [
      "Enter the length of the first side of the triangle: 18\n",
      "Enter the length of the second side of the triangle: 11\n",
      "Enter the length of the third side of the triangle: 9\n",
      "\n",
      "It is a valid triangle\n"
     ]
    }
   ],
   "source": [
    "def check_triangle(a, b, c):\n",
    "    \"\"\"\n",
    "    Returning a boolean result of whether the three variables \n",
    "    provided can result in a valid triangle\n",
    "    \"\"\"\n",
    "    #For a valid triangle the length of any one side should be lesser than the sum of the other two\n",
    "    if (a < b + c) and (b < a + c) and (c < a + b):\n",
    "        return True\n",
    "    else:\n",
    "        return False\n",
    "    \n",
    "a = float(input('Enter the length of the first side of the triangle: '))\n",
    "b = float(input('Enter the length of the second side of the triangle: '))\n",
    "c = float(input('Enter the length of the third side of the triangle: '))\n",
    "\n",
    "#For displaying results\n",
    "if check_triangle(a, b, c):\n",
    "    print('\\nIt is a valid triangle')\n",
    "else:\n",
    "    print('\\nIt is not a valid triangle')"
   ]
  },
  {
   "cell_type": "markdown",
   "id": "informed-leeds",
   "metadata": {},
   "source": [
    "**Q5** - *In this exercise you will write a function named isInteger that determines whether or not the characters in a string represent a valid integer. When determining if a string represents an integer you should ignore any leading or trailing white space. Once this white space is ignored, a string represents an integer if its length is at least 1 and it only contains digits, or if its first character is either + or - and the first character is followed by one or more characters, all of which are digits. Write a main program that reads a string from the user and reports whether or not it represents an integer.*"
   ]
  },
  {
   "cell_type": "code",
   "execution_count": 7,
   "id": "critical-charleston",
   "metadata": {},
   "outputs": [
    {
     "name": "stdout",
     "output_type": "stream",
     "text": [
      "Enter a string to check if it is a valid integer or not: +1238\n",
      "\n",
      "The entered string '+1238' is a valid integer.\n"
     ]
    }
   ],
   "source": [
    "def is_integer(st):\n",
    "    \"\"\"\n",
    "    Takes a string as input and returns a boolean output\n",
    "    based on whether it is a valid integer or not\n",
    "    \"\"\"\n",
    "    #Creating a flag to store the boolean output throughout the logic\n",
    "    flag = False\n",
    "\n",
    "    #Removing the leading and trailing white spaces if any from the string along with +ve or -ve characters\n",
    "    cleaned_st = st.strip()\n",
    "    \n",
    "    #Creating temporary variables to handle more than one + and - characters along with +- or -+ entries in string\n",
    "    tmp1 = cleaned_st.count('+')\n",
    "    tmp2 = cleaned_st.count('-')\n",
    "    tmp3 = cleaned_st.count('+') + cleaned_st.count('-') \n",
    "    \n",
    "    #Handling a scenario where multiple ++ and -- are entered at the beginning. \n",
    "    #Only either one + or - is allowed at start\n",
    "    if (tmp1 <= 1) and (tmp2 <= 1) and (tmp3 <=1):\n",
    "        \n",
    "        #Handling scenario where one + or - character is present in string\n",
    "        processed_st = cleaned_st.replace('+','').replace('-','')\n",
    "    \n",
    "        #Valid integer only when atleast 1 digit is present in the processed string \n",
    "        if len(processed_st) > 0 and processed_st.isdigit():\n",
    "            flag = True\n",
    "            \n",
    "    return flag\n",
    "    \n",
    "#Inputting a string to check the function        \n",
    "digit_st = input('Enter a string to check if it is a valid integer or not: ')\n",
    "\n",
    "#Displaying results\n",
    "if is_integer(digit_st):\n",
    "    print(\"\\nThe entered string '{}' is a valid integer.\".format(digit_st))\n",
    "else:\n",
    "    print(\"\\nThe entered string '{}' is not a valid integer.\".format(digit_st))    "
   ]
  },
  {
   "cell_type": "markdown",
   "id": "according-briefing",
   "metadata": {},
   "source": [
    "**Q6** - *In this exercise you will create a function named nextPrime that finds and returns the first prime number larger than some integer, n. The value of n will be passed to the function as its only parameter. Include a main program that reads an integer from the user and displays the first prime number larger than the entered value.*"
   ]
  },
  {
   "cell_type": "code",
   "execution_count": 8,
   "id": "turkish-consumer",
   "metadata": {},
   "outputs": [
    {
     "name": "stdout",
     "output_type": "stream",
     "text": [
      "Enter a number: 23\n",
      "\n",
      "The first prime number larger than the above integer: 29\n"
     ]
    }
   ],
   "source": [
    "def isprime(num):\n",
    "    \"\"\"\n",
    "    Takes a number as input and returns a boolean output on\n",
    "    whether it is prime or not\n",
    "    \"\"\"\n",
    "    #Creating a temporary flag to output as prime or not\n",
    "    flag = True\n",
    "    \n",
    "    #Iterating over the possible divisors 2 to num-1 \n",
    "    for i in range(2, num):\n",
    "        \n",
    "        #If the value i is a divisor -- Means number is not a prime number and we can exit the loop\n",
    "        if num % i == 0:\n",
    "            flag = False\n",
    "            break\n",
    "            \n",
    "    return flag\n",
    "\n",
    "def nextPrime(num):\n",
    "    \"\"\"\n",
    "    Takes a number as input and returns the first prime number\n",
    "    larger than the input to the user \n",
    "    \"\"\"\n",
    "    #Creating a temporary variable to iterate over the loop\n",
    "    tmp = num + 1   \n",
    "    \n",
    "    while True:\n",
    "        #If the temp variable is a prime number then break the loop and display it as output\n",
    "        if isprime(tmp):\n",
    "            break\n",
    "            \n",
    "        #Increment the temp variable by 1 in case it is not a prime number    \n",
    "        else:\n",
    "            tmp += 1    \n",
    "    return tmp   \n",
    "\n",
    "num = int(input('Enter a number: '))\n",
    "\n",
    "print('\\nThe first prime number larger than the above integer: {}'.format(nextPrime(num)))"
   ]
  },
  {
   "cell_type": "markdown",
   "id": "bibliographic-greenhouse",
   "metadata": {},
   "source": [
    "**Q7** - *In this exercise you will write a function that determines whether or not a password is good. We will define a good password to be a one that is at least 8 characters long and contains at least one uppercase letter, at least one lowercase letter, and at least one number. Your function should return true if the password passed to it as its only parameter is good. Otherwise it should return false. Include a main program that reads a password from the user and reports whether or not it is good.*"
   ]
  },
  {
   "cell_type": "code",
   "execution_count": 9,
   "id": "voluntary-basic",
   "metadata": {},
   "outputs": [
    {
     "name": "stdout",
     "output_type": "stream",
     "text": [
      "Enter a password: Abhishek1234\n",
      "The entered password 'Abhishek1234' is a good one as it satisfies all conditions.\n"
     ]
    }
   ],
   "source": [
    "def password_check(st):\n",
    "    \"\"\"\n",
    "    Takes an input password as string and returns a boolean \n",
    "    output on whether it is good or not\n",
    "    \"\"\"\n",
    "    #Checking all the four conditions for a password to be good\n",
    "    #length should be atleast 8 and string should have atleast one number, lowercase and uppercase character\n",
    "    if len(st) >= 8 and any(ele.isupper() for ele in st) and \\\n",
    "    any(ele.islower() for ele in st) and any(ele.isdigit() for ele in st):\n",
    "        return True\n",
    "    else:\n",
    "        return False\n",
    "    \n",
    "password = input('Enter a password: ')\n",
    "\n",
    "#Running the function to display the results\n",
    "if password_check(password):\n",
    "    print(\"The entered password '{}' is a good one as it satisfies all conditions.\".format(password))\n",
    "else:\n",
    "    print(\"The entered password '{}' is not a good one.\".format(password))"
   ]
  },
  {
   "cell_type": "markdown",
   "id": "removable-birmingham",
   "metadata": {},
   "source": [
    "**Q8** - *Write a program that reads values from the user until a blank line is entered. Display the total of all of the values entered by the user (or 0.0 if the first value entered is a blank line). Complete this task using recursion. Your program may not use any loops. The body of your recursive function will need to read one value from the user, and then determine whether or not to make a recursive call. Your function does not need to take any parameters, but it will need to return a numeric result.*"
   ]
  },
  {
   "cell_type": "code",
   "execution_count": 10,
   "id": "exempt-rubber",
   "metadata": {},
   "outputs": [
    {
     "name": "stdout",
     "output_type": "stream",
     "text": [
      "Enter a value: 5\n",
      "Enter a value: 10\n",
      "Enter a value: 3\n",
      "Enter a value: 8\n",
      "Enter a value: \n",
      "\n",
      "The total of the values entered by the user: 26.0\n"
     ]
    }
   ],
   "source": [
    "def recursive_total():\n",
    "    \"\"\"\n",
    "    Uses recursion to calculate the total of all values entered by user\n",
    "    until a blank line is encountered\n",
    "    \"\"\"\n",
    "    #Creating a variable to store the output\n",
    "    num = input('Enter a value: ')\n",
    "    \n",
    "    #Termination condition for the recusive solution -- Blank line encountered as \\\\n or any number of spaces\n",
    "    if len(num.strip()) == 0 or num == '\\\\n': \n",
    "        return 0.0\n",
    "    else:\n",
    "        #Recursive call to increment the recursive function value with the input num\n",
    "        total = float(num) + recursive_total()\n",
    "        \n",
    "    return total\n",
    "\n",
    "print('\\nThe total of the values entered by the user: {}'.format(recursive_total()))"
   ]
  },
  {
   "cell_type": "markdown",
   "id": "plain-ordinance",
   "metadata": {},
   "source": [
    "**Q9** - *In this exercise you will write a recursive function that determines whether or not a string is a palindrome. The empty string is a palindrome, as is any string containing only one character. Any longer string is a palindrome if its first and last characters match, and if the string formed by removing the first and last characters is also a palindrome. Write a main program that reads a string from the user. Use your recursive function to determine whether or not the string is a palindrome. Then display an appropriate message for the user.*"
   ]
  },
  {
   "cell_type": "code",
   "execution_count": 11,
   "id": "rational-accreditation",
   "metadata": {},
   "outputs": [
    {
     "name": "stdout",
     "output_type": "stream",
     "text": [
      "Enter a word/ sentence to check whether it is a palindrome or not: Racecar\n",
      "\n",
      "Entered string 'Racecar' is a palindrome.\n"
     ]
    }
   ],
   "source": [
    "def recursive_palindrome_check(st):\n",
    "    \"\"\"\n",
    "    Takes a preprocessed string as input and checks whether it is a  \n",
    "    palindrome or not using recursive formulation\n",
    "    \"\"\"    \n",
    "    #Creating a temporaray flag to output results\n",
    "    flag = False\n",
    "    \n",
    "    #Handling the boundary condition where string is empty or contains only one element\n",
    "    if len(st) <= 1:\n",
    "        flag = True\n",
    "    \n",
    "    else:\n",
    "        #Checking whether the first and last characters match and the subset is also a palindrome w/o considering\n",
    "        #the first and last characters\n",
    "        \n",
    "        if st[0] == st[-1] and recursive_palindrome_check(st[1:-1]) == True:\n",
    "            flag =  True\n",
    "            \n",
    "    return flag\n",
    "\n",
    "input_string = input('Enter a word/ sentence to check whether it is a palindrome or not: ')\n",
    "\n",
    "def preprocessed_string(st):\n",
    "    \"\"\"\n",
    "    Removes some punctuation marks from the input string\n",
    "    \"\"\"\n",
    "    #Selecting these from the keyboard\n",
    "    punc = '!@#$%^&*+=-_:[]{}()\\/|\"\";,.?' \n",
    "    \n",
    "    #Removing the leading and trailing spaces along with converting to lower case\n",
    "    st_lower = st.strip().lower()\n",
    "    \n",
    "    #Creating a string to eliminate the punc characters\n",
    "    clean = ''\n",
    "    \n",
    "    #Iterating over the characters in original string and checking whether they are a punctuation or not\n",
    "    for char in st_lower:\n",
    "        if char not in punc:\n",
    "            clean += char\n",
    "            \n",
    "    return clean\n",
    "    \n",
    "#Preprocessing the string to make it work with various sentences also and most of the punctuations marks\n",
    "cleaned_string = preprocessed_string(input_string)\n",
    "\n",
    "if recursive_palindrome_check(cleaned_string):\n",
    "    print(\"\\nEntered string '{}' is a palindrome.\".format(input_string))\n",
    "else:\n",
    "    print(\"\\nEntered string '{}' is not a palindrome.\".format(input_string))"
   ]
  },
  {
   "cell_type": "markdown",
   "id": "indirect-destruction",
   "metadata": {},
   "source": [
    "**Q10** - *Write a function that takes a list of strings as its only parameter. Your function should return a string that contains all of the items in the list formatted in the manner described previously as its only result. While the examples shown previously only include lists containing four elements or less, your function should behave correctly for lists of any length. Include a main program that reads several items from the user, formats them by calling your function, and then displays the result returned by the function. Consider the following four lists:*\n",
    "\n",
    "- apples\n",
    "- apples and oranges\n",
    "- apples, oranges and bananas\n",
    "- apples, oranges, bananas and lemons"
   ]
  },
  {
   "cell_type": "code",
   "execution_count": 12,
   "id": "proof-craft",
   "metadata": {},
   "outputs": [
    {
     "name": "stdout",
     "output_type": "stream",
     "text": [
      "Enter multiple items to print in apt format: Apples oranges lemons strawberries bananas\n",
      "\n",
      "The items present in the list: \n",
      "apples, oranges, lemons, strawberries and bananas\n"
     ]
    }
   ],
   "source": [
    "#Assuming inputs are provided by the user in one line in a space seperated format\n",
    "\n",
    "def item_string(ls_strings):\n",
    "    \"\"\"\n",
    "    Given a list of strings as input the function returns a single\n",
    "    string containing all items in the above format\n",
    "    \"\"\"\n",
    "    #Preprocessing the input strings -- to display results only in lowercase\n",
    "    cleaned_ls_strings = list(map(lambda st: st.lower(), ls_strings))\n",
    "    \n",
    "    #If the list consists of only string return the same\n",
    "    if len(cleaned_ls_strings) == 1:\n",
    "        return cleaned_ls_strings[0]\n",
    "    \n",
    "    else:\n",
    "        #Joining total - 1 strings using comma and concatenating it with the last element in the list\n",
    "        return ', '.join(cleaned_ls_strings[:-1]) + ' and ' + cleaned_ls_strings[-1]\n",
    "\n",
    "ls = input('Enter multiple items to print in apt format: ').split()\n",
    "print('\\nThe items present in the list: \\n{}'.format(item_string(ls)))"
   ]
  }
 ],
 "metadata": {
  "kernelspec": {
   "display_name": "Python 3",
   "language": "python",
   "name": "python3"
  },
  "language_info": {
   "codemirror_mode": {
    "name": "ipython",
    "version": 3
   },
   "file_extension": ".py",
   "mimetype": "text/x-python",
   "name": "python",
   "nbconvert_exporter": "python",
   "pygments_lexer": "ipython3",
   "version": "3.8.5"
  }
 },
 "nbformat": 4,
 "nbformat_minor": 5
}
