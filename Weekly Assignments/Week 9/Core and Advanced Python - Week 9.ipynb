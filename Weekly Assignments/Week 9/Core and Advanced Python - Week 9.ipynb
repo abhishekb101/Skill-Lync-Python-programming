{
 "cells": [
  {
   "cell_type": "markdown",
   "id": "widespread-press",
   "metadata": {},
   "source": [
    "## Week 9 Challenge"
   ]
  },
  {
   "cell_type": "markdown",
   "id": "intelligent-stadium",
   "metadata": {},
   "source": [
    "### Importing necessary libraries"
   ]
  },
  {
   "cell_type": "code",
   "execution_count": 1,
   "id": "significant-tamil",
   "metadata": {},
   "outputs": [],
   "source": [
    "import pandas as pd\n",
    "import sys\n",
    "import matplotlib.pyplot as plt"
   ]
  },
  {
   "cell_type": "markdown",
   "id": "liable-seeking",
   "metadata": {},
   "source": [
    "**Q1** - *Create a data frame called DataFrame1. It should contain data about five employees. Each employee data consists of employee number, name, salary, department number and designation.*"
   ]
  },
  {
   "cell_type": "code",
   "execution_count": 2,
   "id": "surrounded-ecuador",
   "metadata": {},
   "outputs": [
    {
     "data": {
      "text/html": [
       "<div>\n",
       "<style scoped>\n",
       "    .dataframe tbody tr th:only-of-type {\n",
       "        vertical-align: middle;\n",
       "    }\n",
       "\n",
       "    .dataframe tbody tr th {\n",
       "        vertical-align: top;\n",
       "    }\n",
       "\n",
       "    .dataframe thead th {\n",
       "        text-align: right;\n",
       "    }\n",
       "</style>\n",
       "<table border=\"1\" class=\"dataframe\">\n",
       "  <thead>\n",
       "    <tr style=\"text-align: right;\">\n",
       "      <th></th>\n",
       "      <th>0</th>\n",
       "      <th>1</th>\n",
       "      <th>2</th>\n",
       "      <th>3</th>\n",
       "      <th>4</th>\n",
       "    </tr>\n",
       "  </thead>\n",
       "  <tbody>\n",
       "    <tr>\n",
       "      <th>0</th>\n",
       "      <td>100</td>\n",
       "      <td>Shardul</td>\n",
       "      <td>60000</td>\n",
       "      <td>1000</td>\n",
       "      <td>Senior Engineer</td>\n",
       "    </tr>\n",
       "    <tr>\n",
       "      <th>1</th>\n",
       "      <td>101</td>\n",
       "      <td>Sagarika</td>\n",
       "      <td>80000</td>\n",
       "      <td>1000</td>\n",
       "      <td>Senior Engineer</td>\n",
       "    </tr>\n",
       "    <tr>\n",
       "      <th>2</th>\n",
       "      <td>102</td>\n",
       "      <td>Smarina</td>\n",
       "      <td>75000</td>\n",
       "      <td>1001</td>\n",
       "      <td>Consultant</td>\n",
       "    </tr>\n",
       "    <tr>\n",
       "      <th>3</th>\n",
       "      <td>103</td>\n",
       "      <td>Karim</td>\n",
       "      <td>85000</td>\n",
       "      <td>1001</td>\n",
       "      <td>Supply chain Manager</td>\n",
       "    </tr>\n",
       "    <tr>\n",
       "      <th>4</th>\n",
       "      <td>104</td>\n",
       "      <td>Roshnee</td>\n",
       "      <td>70000</td>\n",
       "      <td>1001</td>\n",
       "      <td>Finance Manager</td>\n",
       "    </tr>\n",
       "  </tbody>\n",
       "</table>\n",
       "</div>"
      ],
      "text/plain": [
       "     0         1      2     3                     4\n",
       "0  100   Shardul  60000  1000       Senior Engineer\n",
       "1  101  Sagarika  80000  1000       Senior Engineer\n",
       "2  102   Smarina  75000  1001            Consultant\n",
       "3  103     Karim  85000  1001  Supply chain Manager\n",
       "4  104   Roshnee  70000  1001       Finance Manager"
      ]
     },
     "execution_count": 2,
     "metadata": {},
     "output_type": "execute_result"
    }
   ],
   "source": [
    "#Creating data to form a DataFrame -- List of lists\n",
    "data = [[100, 'Shardul', 60000, 1000, 'Senior Engineer'],\n",
    "        [101, 'Sagarika', 80000, 1000, 'Senior Engineer'],\n",
    "        [102, 'Smarina', 75000, 1001, 'Consultant'],\n",
    "        [103, 'Karim', 85000, 1001, 'Supply chain Manager'],\n",
    "        [104, 'Roshnee', 70000, 1001, 'Finance Manager']]\n",
    "\n",
    "#Creating a pandas dataframe from dict -- Adding apt. columns names done in next question\n",
    "DataFrame1 = pd.DataFrame(data)\n",
    "DataFrame1"
   ]
  },
  {
   "cell_type": "markdown",
   "id": "amateur-choir",
   "metadata": {},
   "source": [
    "**Q2** - *In the DataFrame1 defined in Q.No. 1, add appropriate column names to the columns. Find the mean of the salary in the DataFrame1.*"
   ]
  },
  {
   "cell_type": "code",
   "execution_count": 3,
   "id": "annoying-hours",
   "metadata": {},
   "outputs": [
    {
     "name": "stdout",
     "output_type": "stream",
     "text": [
      "The mean of salary in the dataframe: $ 74000.00\n"
     ]
    },
    {
     "data": {
      "text/html": [
       "<div>\n",
       "<style scoped>\n",
       "    .dataframe tbody tr th:only-of-type {\n",
       "        vertical-align: middle;\n",
       "    }\n",
       "\n",
       "    .dataframe tbody tr th {\n",
       "        vertical-align: top;\n",
       "    }\n",
       "\n",
       "    .dataframe thead th {\n",
       "        text-align: right;\n",
       "    }\n",
       "</style>\n",
       "<table border=\"1\" class=\"dataframe\">\n",
       "  <thead>\n",
       "    <tr style=\"text-align: right;\">\n",
       "      <th></th>\n",
       "      <th>Emp_num</th>\n",
       "      <th>Name</th>\n",
       "      <th>Salary (in $)</th>\n",
       "      <th>Dept_num</th>\n",
       "      <th>Designation</th>\n",
       "    </tr>\n",
       "  </thead>\n",
       "  <tbody>\n",
       "    <tr>\n",
       "      <th>0</th>\n",
       "      <td>100</td>\n",
       "      <td>Shardul</td>\n",
       "      <td>60000</td>\n",
       "      <td>1000</td>\n",
       "      <td>Senior Engineer</td>\n",
       "    </tr>\n",
       "    <tr>\n",
       "      <th>1</th>\n",
       "      <td>101</td>\n",
       "      <td>Sagarika</td>\n",
       "      <td>80000</td>\n",
       "      <td>1000</td>\n",
       "      <td>Senior Engineer</td>\n",
       "    </tr>\n",
       "    <tr>\n",
       "      <th>2</th>\n",
       "      <td>102</td>\n",
       "      <td>Smarina</td>\n",
       "      <td>75000</td>\n",
       "      <td>1001</td>\n",
       "      <td>Consultant</td>\n",
       "    </tr>\n",
       "    <tr>\n",
       "      <th>3</th>\n",
       "      <td>103</td>\n",
       "      <td>Karim</td>\n",
       "      <td>85000</td>\n",
       "      <td>1001</td>\n",
       "      <td>Supply chain Manager</td>\n",
       "    </tr>\n",
       "    <tr>\n",
       "      <th>4</th>\n",
       "      <td>104</td>\n",
       "      <td>Roshnee</td>\n",
       "      <td>70000</td>\n",
       "      <td>1001</td>\n",
       "      <td>Finance Manager</td>\n",
       "    </tr>\n",
       "  </tbody>\n",
       "</table>\n",
       "</div>"
      ],
      "text/plain": [
       "   Emp_num      Name  Salary (in $)  Dept_num           Designation\n",
       "0      100   Shardul          60000      1000       Senior Engineer\n",
       "1      101  Sagarika          80000      1000       Senior Engineer\n",
       "2      102   Smarina          75000      1001            Consultant\n",
       "3      103     Karim          85000      1001  Supply chain Manager\n",
       "4      104   Roshnee          70000      1001       Finance Manager"
      ]
     },
     "execution_count": 3,
     "metadata": {},
     "output_type": "execute_result"
    }
   ],
   "source": [
    "#Adding apt column names to DataFrame1\n",
    "DataFrame1.columns = ['Emp_num', 'Name', 'Salary (in $)', 'Dept_num', 'Designation']\n",
    "\n",
    "print('The mean of salary in the dataframe: $ {:.2f}'.format(DataFrame1['Salary (in $)'].mean()))\n",
    "\n",
    "#Showing the final dataframe1 with new columns\n",
    "DataFrame1"
   ]
  },
  {
   "cell_type": "markdown",
   "id": "mediterranean-disabled",
   "metadata": {},
   "source": [
    "**Q3** - *Create a dictionary called dept. In this dictionary, the columns are deptno, deptname and location. Create a data frame called DataFrame2 from the dictionary dept.*"
   ]
  },
  {
   "cell_type": "code",
   "execution_count": 4,
   "id": "killing-damages",
   "metadata": {},
   "outputs": [
    {
     "data": {
      "text/html": [
       "<div>\n",
       "<style scoped>\n",
       "    .dataframe tbody tr th:only-of-type {\n",
       "        vertical-align: middle;\n",
       "    }\n",
       "\n",
       "    .dataframe tbody tr th {\n",
       "        vertical-align: top;\n",
       "    }\n",
       "\n",
       "    .dataframe thead th {\n",
       "        text-align: right;\n",
       "    }\n",
       "</style>\n",
       "<table border=\"1\" class=\"dataframe\">\n",
       "  <thead>\n",
       "    <tr style=\"text-align: right;\">\n",
       "      <th></th>\n",
       "      <th>deptno</th>\n",
       "      <th>deptname</th>\n",
       "      <th>location</th>\n",
       "    </tr>\n",
       "  </thead>\n",
       "  <tbody>\n",
       "    <tr>\n",
       "      <th>0</th>\n",
       "      <td>100</td>\n",
       "      <td>Finance</td>\n",
       "      <td>United States</td>\n",
       "    </tr>\n",
       "    <tr>\n",
       "      <th>1</th>\n",
       "      <td>101</td>\n",
       "      <td>Business strategy</td>\n",
       "      <td>Germany</td>\n",
       "    </tr>\n",
       "    <tr>\n",
       "      <th>2</th>\n",
       "      <td>102</td>\n",
       "      <td>Manufacturing</td>\n",
       "      <td>India</td>\n",
       "    </tr>\n",
       "    <tr>\n",
       "      <th>3</th>\n",
       "      <td>105</td>\n",
       "      <td>Supply chain</td>\n",
       "      <td>China</td>\n",
       "    </tr>\n",
       "  </tbody>\n",
       "</table>\n",
       "</div>"
      ],
      "text/plain": [
       "   deptno           deptname       location\n",
       "0     100            Finance  United States\n",
       "1     101  Business strategy        Germany\n",
       "2     102      Manufacturing          India\n",
       "3     105       Supply chain          China"
      ]
     },
     "execution_count": 4,
     "metadata": {},
     "output_type": "execute_result"
    }
   ],
   "source": [
    "#Creating a dictionary to later enter as data into DataFrame -- Adding dummy data to it\n",
    "\n",
    "dept = {'deptno' : [100, 101, 102, 105],\n",
    "        'deptname' : ['Finance', 'Business strategy', 'Manufacturing', 'Supply chain'],\n",
    "        'location' : ['United States', 'Germany', 'India', 'China']}\n",
    "\n",
    "#Creating a dataframe using dept dict\n",
    "DataFrame2 = pd.DataFrame(dept)\n",
    "DataFrame2"
   ]
  },
  {
   "cell_type": "markdown",
   "id": "owned-delay",
   "metadata": {},
   "source": [
    "**Q4** - *Consider a sales.csv file with the following data:*\n",
    "- Dinesh,7800,6500,4590\n",
    "- Mahesh,8900,,3790\n",
    "- Ramesh,10800,2300,\n",
    "- Suresh,5600,6790,2300\n",
    "- Basha,7600,2300,2400\n",
    "\n",
    "*The data represents salesman name and sales in three regions: region1, region2 and region3. Load sles.csv into a data frame called DataFrame3. Give appropriate column names to the columns in DataFrame3. Display the contents of DataFrame3.*"
   ]
  },
  {
   "cell_type": "code",
   "execution_count": 5,
   "id": "atomic-label",
   "metadata": {},
   "outputs": [
    {
     "data": {
      "text/html": [
       "<div>\n",
       "<style scoped>\n",
       "    .dataframe tbody tr th:only-of-type {\n",
       "        vertical-align: middle;\n",
       "    }\n",
       "\n",
       "    .dataframe tbody tr th {\n",
       "        vertical-align: top;\n",
       "    }\n",
       "\n",
       "    .dataframe thead th {\n",
       "        text-align: right;\n",
       "    }\n",
       "</style>\n",
       "<table border=\"1\" class=\"dataframe\">\n",
       "  <thead>\n",
       "    <tr style=\"text-align: right;\">\n",
       "      <th></th>\n",
       "      <th>Salesman_name</th>\n",
       "      <th>Sales_region1</th>\n",
       "      <th>Sales_region2</th>\n",
       "      <th>Sales_region3</th>\n",
       "    </tr>\n",
       "  </thead>\n",
       "  <tbody>\n",
       "    <tr>\n",
       "      <th>0</th>\n",
       "      <td>Dinesh</td>\n",
       "      <td>7800</td>\n",
       "      <td>6500.0</td>\n",
       "      <td>4590.0</td>\n",
       "    </tr>\n",
       "    <tr>\n",
       "      <th>1</th>\n",
       "      <td>Mahesh</td>\n",
       "      <td>8900</td>\n",
       "      <td>NaN</td>\n",
       "      <td>3790.0</td>\n",
       "    </tr>\n",
       "    <tr>\n",
       "      <th>2</th>\n",
       "      <td>Ramesh</td>\n",
       "      <td>10800</td>\n",
       "      <td>2300.0</td>\n",
       "      <td>NaN</td>\n",
       "    </tr>\n",
       "    <tr>\n",
       "      <th>3</th>\n",
       "      <td>Suresh</td>\n",
       "      <td>5600</td>\n",
       "      <td>6790.0</td>\n",
       "      <td>2300.0</td>\n",
       "    </tr>\n",
       "    <tr>\n",
       "      <th>4</th>\n",
       "      <td>Basha</td>\n",
       "      <td>7600</td>\n",
       "      <td>2300.0</td>\n",
       "      <td>2400.0</td>\n",
       "    </tr>\n",
       "  </tbody>\n",
       "</table>\n",
       "</div>"
      ],
      "text/plain": [
       "  Salesman_name  Sales_region1  Sales_region2  Sales_region3\n",
       "0        Dinesh           7800         6500.0         4590.0\n",
       "1        Mahesh           8900            NaN         3790.0\n",
       "2        Ramesh          10800         2300.0            NaN\n",
       "3        Suresh           5600         6790.0         2300.0\n",
       "4         Basha           7600         2300.0         2400.0"
      ]
     },
     "execution_count": 5,
     "metadata": {},
     "output_type": "execute_result"
    }
   ],
   "source": [
    "#Loading data from a csv file into a pandas DataFrame\n",
    "\n",
    "DataFrame3 = pd.read_csv('sales.csv', sep = ',', header = None, \n",
    "                        names = ['Salesman_name', 'Sales_region1', 'Sales_region2', 'Sales_region3'])\n",
    "\n",
    "#Displaying the Dataframe\n",
    "DataFrame3"
   ]
  },
  {
   "cell_type": "markdown",
   "id": "assisted-manner",
   "metadata": {},
   "source": [
    "**Q5** - *In this exercise, demonstrate different methods of handling missing data in data frames. For reference, consider the DataFrame3 created in Q.No. 4. In DataFrame3, do the following: fill missing values with zeroes, fill missing values with the mean of their respective column, drop the rows containing missing values, drop the columns containing missing values.*"
   ]
  },
  {
   "cell_type": "code",
   "execution_count": 6,
   "id": "fossil-indie",
   "metadata": {},
   "outputs": [
    {
     "name": "stdout",
     "output_type": "stream",
     "text": [
      "\u001b[1mThe Original dataframe:\u001b[0m\n",
      "\n",
      "  Salesman_name  Sales_region1  Sales_region2  Sales_region3\n",
      "0        Dinesh           7800         6500.0         4590.0\n",
      "1        Mahesh           8900            NaN         3790.0\n",
      "2        Ramesh          10800         2300.0            NaN\n",
      "3        Suresh           5600         6790.0         2300.0\n",
      "4         Basha           7600         2300.0         2400.0\n",
      "\n",
      "\u001b[1mImputation handled by filling 0:\u001b[0m\n",
      "\n",
      "  Salesman_name  Sales_region1  Sales_region2  Sales_region3\n",
      "0        Dinesh           7800         6500.0         4590.0\n",
      "1        Mahesh           8900            0.0         3790.0\n",
      "2        Ramesh          10800         2300.0            0.0\n",
      "3        Suresh           5600         6790.0         2300.0\n",
      "4         Basha           7600         2300.0         2400.0\n",
      "\n",
      "\u001b[1mImputation handled by filling mean of respective columns:\u001b[0m\n",
      "\n",
      "  Salesman_name  Sales_region1  Sales_region2  Sales_region3\n",
      "0        Dinesh           7800         6500.0         4590.0\n",
      "1        Mahesh           8900         4472.5         3790.0\n",
      "2        Ramesh          10800         2300.0         3270.0\n",
      "3        Suresh           5600         6790.0         2300.0\n",
      "4         Basha           7600         2300.0         2400.0\n",
      "\n",
      "\u001b[1mDropping rows containing NaN values:\u001b[0m\n",
      "\n",
      "  Salesman_name  Sales_region1  Sales_region2  Sales_region3\n",
      "0        Dinesh           7800         6500.0         4590.0\n",
      "3        Suresh           5600         6790.0         2300.0\n",
      "4         Basha           7600         2300.0         2400.0\n",
      "\n",
      "\u001b[1mDropping columns containing NaN values:\u001b[0m\n",
      "\n",
      "  Salesman_name  Sales_region1\n",
      "0        Dinesh           7800\n",
      "1        Mahesh           8900\n",
      "2        Ramesh          10800\n",
      "3        Suresh           5600\n",
      "4         Basha           7600\n"
     ]
    }
   ],
   "source": [
    "#Demonstrating different methods of handling missing data in DataFrame3\n",
    "print('\\033[1m' + 'The Original dataframe:' + '\\033[0m' + '\\n')\n",
    "print(DataFrame3)\n",
    "\n",
    "#Filling missing values with zero\n",
    "df3_filled0 = DataFrame3.fillna(0)\n",
    "\n",
    "print('\\n' + '\\033[1m' + 'Imputation handled by filling 0:' + '\\033[0m' + '\\n')\n",
    "print(df3_filled0)\n",
    "\n",
    "#Filling missing values using mean of respective columns\n",
    "df_fillmean = DataFrame3.copy()\n",
    "\n",
    "df_fillmean['Sales_region2'].fillna(df_fillmean['Sales_region2'].mean(), inplace = True)\n",
    "df_fillmean['Sales_region3'].fillna(df_fillmean['Sales_region3'].mean(), inplace = True)\n",
    "\n",
    "print('\\n' + '\\033[1m' + 'Imputation handled by filling mean of respective columns:' + '\\033[0m' + '\\n')\n",
    "print(df_fillmean)\n",
    "\n",
    "\n",
    "#Dropping rows containing missing values\n",
    "df_droprow = DataFrame3.copy()\n",
    "df_droprow.dropna(axis = 0, inplace = True)\n",
    "\n",
    "print('\\n' + '\\033[1m' + 'Dropping rows containing NaN values:' + '\\033[0m' + '\\n')\n",
    "print(df_droprow)\n",
    "\n",
    "#Dropping columns containing missing values\n",
    "df_dropcol = DataFrame3.copy()\n",
    "df_dropcol.dropna(axis = 1, inplace = True)\n",
    "\n",
    "print('\\n' + '\\033[1m' + 'Dropping columns containing NaN values:' + '\\033[0m' + '\\n')\n",
    "print(df_dropcol)"
   ]
  },
  {
   "cell_type": "markdown",
   "id": "unlike-interim",
   "metadata": {},
   "source": [
    "**Q6** - *From DataFrame1 create a new data frame called DataFrame4. In DataFrame4, set the employee number as in-place index. Display data from 3rd row and 4th column using label-based, integer-based indexing and combination of label and integer indexing methods.*"
   ]
  },
  {
   "cell_type": "code",
   "execution_count": 7,
   "id": "classified-chain",
   "metadata": {},
   "outputs": [
    {
     "name": "stdout",
     "output_type": "stream",
     "text": [
      "\u001b[1mThe resulting dataframe by setting Emp_num as index:\u001b[0m\n",
      "\n",
      "             Name  Salary (in $)  Dept_num           Designation\n",
      "Emp_num                                                         \n",
      "100       Shardul          60000      1000       Senior Engineer\n",
      "101      Sagarika          80000      1000       Senior Engineer\n",
      "102       Smarina          75000      1001            Consultant\n",
      "103         Karim          85000      1001  Supply chain Manager\n",
      "104       Roshnee          70000      1001       Finance Manager\n",
      "\n",
      "\u001b[1mIndexing using .loc method:\u001b[0m\n",
      "\n",
      "Consultant\n",
      "\n",
      "\u001b[1mIndexing using .iloc method:\u001b[0m\n",
      "\n",
      "Consultant\n",
      "\n",
      "\u001b[1mIndexing using .iloc method (As .ix is no longer supported):\u001b[0m\n",
      "\n",
      "Current Python version: \n",
      "3.8.5 (default, Sep  4 2020, 02:22:02) \n",
      "[Clang 10.0.0 ]\n",
      "\n",
      "Consultant\n"
     ]
    }
   ],
   "source": [
    "#Creating a new DataFrame by setting the index of DF1 as Emp_num column\n",
    "DataFrame4 = DataFrame1.set_index('Emp_num')\n",
    "\n",
    "print('\\033[1m' + 'The resulting dataframe by setting Emp_num as index:' + '\\033[0m' + '\\n')\n",
    "print(DataFrame4)\n",
    "\n",
    "#Displaying results of different indexing methods  \n",
    "print('\\n' + '\\033[1m' + 'Indexing using .loc method:' + '\\033[0m' + '\\n')\n",
    "print(DataFrame4.loc[102, 'Designation'])\n",
    "\n",
    "print('\\n' + '\\033[1m' + 'Indexing using .iloc method:' + '\\033[0m' + '\\n')\n",
    "print(DataFrame4.iloc[2, 3])\n",
    "\n",
    "print('\\n' + '\\033[1m' + 'Indexing using .iloc method (As .ix is no longer supported):' + '\\033[0m' + '\\n')\n",
    "print('Current Python version: \\n{}\\n'.format(sys.version))\n",
    "\n",
    "#Using .iloc method as hybrid approach as .ix is no longer supported in Python v3.8 \n",
    "print(DataFrame4.iloc[2, 3])"
   ]
  },
  {
   "cell_type": "markdown",
   "id": "described-story",
   "metadata": {},
   "source": [
    "**Q7** - *In DataFrame3 created in Q.No. 5, find the salesmen whose sales are greater than 7000 in region1 but less than 3000 in region2*"
   ]
  },
  {
   "cell_type": "code",
   "execution_count": 8,
   "id": "compliant-optimization",
   "metadata": {},
   "outputs": [
    {
     "name": "stdout",
     "output_type": "stream",
     "text": [
      "\u001b[1mThe Original dataframe:\u001b[0m\n",
      "\n",
      "  Salesman_name  Sales_region1  Sales_region2  Sales_region3\n",
      "0        Dinesh           7800         6500.0         4590.0\n",
      "1        Mahesh           8900            NaN         3790.0\n",
      "2        Ramesh          10800         2300.0            NaN\n",
      "3        Suresh           5600         6790.0         2300.0\n",
      "4         Basha           7600         2300.0         2400.0\n",
      "\n",
      "\u001b[1mThe salesman who satisfy the boolean mask condition:\u001b[0m\n",
      "Ramesh\n",
      "Basha\n"
     ]
    }
   ],
   "source": [
    "#Assuming using the original DataFrame3 used in Q5 as the other methods all were implemented on a copy dataframe\n",
    "\n",
    "print('\\033[1m' + 'The Original dataframe:' + '\\033[0m' + '\\n')\n",
    "print(DataFrame3)\n",
    "\n",
    "#Finding the salesman whose Sales_region1 > 7000 and Sales_region2 < 3000 \n",
    "bool_mask = (DataFrame3['Sales_region1'] > 7000) & (DataFrame3['Sales_region2'] < 3000)\n",
    "\n",
    "#Filtering from the original DataFrame3 and printing the result\n",
    "result = '\\n'.join(DataFrame3[bool_mask]['Salesman_name'].values)\n",
    "print('\\n' + '\\033[1m' + 'The salesman who satisfy the boolean mask condition:' + '\\033[0m' + '\\n{}'.format(result))"
   ]
  },
  {
   "cell_type": "markdown",
   "id": "resistant-founder",
   "metadata": {},
   "source": [
    "**Q8** - *In DataFrame1 created in Q. No. 1, find the employees with the highest salary in each department. Use the group by clause and the max() function. Similarly, in DataFrame3 created in Q. No. 5, find the salesman with the highest amount of sales for each region.*"
   ]
  },
  {
   "cell_type": "code",
   "execution_count": 9,
   "id": "advance-three",
   "metadata": {},
   "outputs": [
    {
     "name": "stdout",
     "output_type": "stream",
     "text": [
      "\u001b[1mThe Original DataDrame1:\u001b[0m\n",
      "\n",
      "   Emp_num      Name  Salary (in $)  Dept_num           Designation\n",
      "0      100   Shardul          60000      1000       Senior Engineer\n",
      "1      101  Sagarika          80000      1000       Senior Engineer\n",
      "2      102   Smarina          75000      1001            Consultant\n",
      "3      103     Karim          85000      1001  Supply chain Manager\n",
      "4      104   Roshnee          70000      1001       Finance Manager\n",
      "\n",
      "\u001b[1mThe employees with highest salary in each dept:\u001b[0m\n",
      "\n",
      "The highest salary in dept 1000: ['Sagarika']\n",
      "The highest salary in dept 1001: ['Karim']\n",
      "\n",
      "***************\n",
      "\n",
      "\u001b[1mThe Original DataDrame3:\u001b[0m\n",
      "\n",
      "  Salesman_name  Sales_region1  Sales_region2  Sales_region3\n",
      "0        Dinesh           7800         6500.0         4590.0\n",
      "1        Mahesh           8900            NaN         3790.0\n",
      "2        Ramesh          10800         2300.0            NaN\n",
      "3        Suresh           5600         6790.0         2300.0\n",
      "4         Basha           7600         2300.0         2400.0\n",
      "\n",
      "\u001b[1mThe salesman with highest sales in each region:\u001b[0m\n",
      "\n",
      "The salesman with highest sales in region1: ['Ramesh']\n",
      "The salesman with highest sales in region2: ['Suresh']\n",
      "The salesman with highest sales in region3: ['Dinesh']\n"
     ]
    }
   ],
   "source": [
    "#Using the DataFrame1 with column names added already\n",
    "print('\\033[1m' + 'The Original DataDrame1:' + '\\033[0m' + '\\n')\n",
    "print(DataFrame1)\n",
    "\n",
    "#Finding employees with the highest salary in each department\n",
    "print('\\n' + '\\033[1m' + 'The employees with highest salary in each dept:' + '\\033[0m' + '\\n')\n",
    "\n",
    "#Creating a Dataframegroupby object\n",
    "group_obj1 = DataFrame1.groupby('Dept_num')\n",
    "\n",
    "#Storing final results with dept and name of highest earners in dict\n",
    "result1 = {}\n",
    "\n",
    "#Iterating over the df groupby object -- Also able to handle multiple employees with highest salary\n",
    "for dept, df in group_obj1:\n",
    "    \n",
    "    #Obtaining the highest salary from the filtered dataframe\n",
    "    max_salary = df['Salary (in $)'].max()\n",
    "    \n",
    "    #Obtaining the employees with highest salary using bool masking\n",
    "    out = df[df['Salary (in $)'] == max_salary]['Name'].values.tolist()\n",
    "    \n",
    "    #Storing the results in the dictionary\n",
    "    result1[dept] = out\n",
    "    \n",
    "#Iterating over the dict\n",
    "for dept, emp in result1.items():\n",
    "    print('The highest salary in dept {}: {}'.format(dept, emp))\n",
    "    \n",
    "print('\\n' + '*' * 15 + '\\n')\n",
    "\n",
    "#Using DataFrame3 and finding the salesman with highest sales in each region\n",
    "\n",
    "print('\\033[1m' + 'The Original DataDrame3:' + '\\033[0m' + '\\n')\n",
    "print(DataFrame3)\n",
    "\n",
    "print('\\n' + '\\033[1m' + 'The salesman with highest sales in each region:' + '\\033[0m' + '\\n')\n",
    "\n",
    "#Creating a list to directly iterate over and obtain results from the original DataFrame3\n",
    "region = ['region1', 'region2', 'region3']\n",
    "\n",
    "#Iterating over the above list and using filteration and indexing to obtain the salesman with highest sales in each\n",
    "for reg in region:\n",
    "    \n",
    "    #Obtaining the name of the salesman in the form of a list\n",
    "    out = DataFrame3[DataFrame3['Sales_'+reg] == DataFrame3['Sales_'+reg].max()]['Salesman_name'].values.tolist()\n",
    "    print('The salesman with highest sales in {}: {}'.format(reg, out))"
   ]
  },
  {
   "cell_type": "markdown",
   "id": "restricted-tenant",
   "metadata": {},
   "source": [
    "**Q9** - *In DataFrame1 created in Q. No. 1, add a new column called Address. In this new column, set the value as ‘Chennai’ for all the existing rows*"
   ]
  },
  {
   "cell_type": "code",
   "execution_count": 10,
   "id": "italian-buyer",
   "metadata": {},
   "outputs": [
    {
     "name": "stdout",
     "output_type": "stream",
     "text": [
      "\u001b[1mThe Original DataDrame1:\u001b[0m\n",
      "\n",
      "   Emp_num      Name  Salary (in $)  Dept_num           Designation\n",
      "0      100   Shardul          60000      1000       Senior Engineer\n",
      "1      101  Sagarika          80000      1000       Senior Engineer\n",
      "2      102   Smarina          75000      1001            Consultant\n",
      "3      103     Karim          85000      1001  Supply chain Manager\n",
      "4      104   Roshnee          70000      1001       Finance Manager\n",
      "\n",
      "\u001b[1mModified DataFrame1:\u001b[0m\n",
      "\n"
     ]
    },
    {
     "data": {
      "text/html": [
       "<div>\n",
       "<style scoped>\n",
       "    .dataframe tbody tr th:only-of-type {\n",
       "        vertical-align: middle;\n",
       "    }\n",
       "\n",
       "    .dataframe tbody tr th {\n",
       "        vertical-align: top;\n",
       "    }\n",
       "\n",
       "    .dataframe thead th {\n",
       "        text-align: right;\n",
       "    }\n",
       "</style>\n",
       "<table border=\"1\" class=\"dataframe\">\n",
       "  <thead>\n",
       "    <tr style=\"text-align: right;\">\n",
       "      <th></th>\n",
       "      <th>Emp_num</th>\n",
       "      <th>Name</th>\n",
       "      <th>Salary (in $)</th>\n",
       "      <th>Dept_num</th>\n",
       "      <th>Designation</th>\n",
       "      <th>Address</th>\n",
       "    </tr>\n",
       "  </thead>\n",
       "  <tbody>\n",
       "    <tr>\n",
       "      <th>0</th>\n",
       "      <td>100</td>\n",
       "      <td>Shardul</td>\n",
       "      <td>60000</td>\n",
       "      <td>1000</td>\n",
       "      <td>Senior Engineer</td>\n",
       "      <td>Chennai</td>\n",
       "    </tr>\n",
       "    <tr>\n",
       "      <th>1</th>\n",
       "      <td>101</td>\n",
       "      <td>Sagarika</td>\n",
       "      <td>80000</td>\n",
       "      <td>1000</td>\n",
       "      <td>Senior Engineer</td>\n",
       "      <td>Chennai</td>\n",
       "    </tr>\n",
       "    <tr>\n",
       "      <th>2</th>\n",
       "      <td>102</td>\n",
       "      <td>Smarina</td>\n",
       "      <td>75000</td>\n",
       "      <td>1001</td>\n",
       "      <td>Consultant</td>\n",
       "      <td>Chennai</td>\n",
       "    </tr>\n",
       "    <tr>\n",
       "      <th>3</th>\n",
       "      <td>103</td>\n",
       "      <td>Karim</td>\n",
       "      <td>85000</td>\n",
       "      <td>1001</td>\n",
       "      <td>Supply chain Manager</td>\n",
       "      <td>Chennai</td>\n",
       "    </tr>\n",
       "    <tr>\n",
       "      <th>4</th>\n",
       "      <td>104</td>\n",
       "      <td>Roshnee</td>\n",
       "      <td>70000</td>\n",
       "      <td>1001</td>\n",
       "      <td>Finance Manager</td>\n",
       "      <td>Chennai</td>\n",
       "    </tr>\n",
       "  </tbody>\n",
       "</table>\n",
       "</div>"
      ],
      "text/plain": [
       "   Emp_num      Name  Salary (in $)  Dept_num           Designation  Address\n",
       "0      100   Shardul          60000      1000       Senior Engineer  Chennai\n",
       "1      101  Sagarika          80000      1000       Senior Engineer  Chennai\n",
       "2      102   Smarina          75000      1001            Consultant  Chennai\n",
       "3      103     Karim          85000      1001  Supply chain Manager  Chennai\n",
       "4      104   Roshnee          70000      1001       Finance Manager  Chennai"
      ]
     },
     "execution_count": 10,
     "metadata": {},
     "output_type": "execute_result"
    }
   ],
   "source": [
    "#Adding a new column 'Address' in DataFrame1\n",
    "\n",
    "print('\\033[1m' + 'The Original DataDrame1:' + '\\033[0m' + '\\n')\n",
    "print(DataFrame1)\n",
    "\n",
    "print('\\n' + '\\033[1m' + 'Modified DataFrame1:' + '\\033[0m' + '\\n')\n",
    "\n",
    "#Adding the column Address\n",
    "DataFrame1['Address'] = 'Chennai'\n",
    "DataFrame1"
   ]
  },
  {
   "cell_type": "markdown",
   "id": "floppy-candle",
   "metadata": {},
   "source": [
    "**Q10** - *Create a line graph and bar chart to visualize the two data frames, DataFrame1 and DataFrame3.*"
   ]
  },
  {
   "cell_type": "markdown",
   "id": "hispanic-trance",
   "metadata": {},
   "source": [
    "### Visalising DataFrame1 & DataFrame3\n",
    "\n",
    "*Objectives:*\n",
    "\n",
    "- Plotting a line graph between Employee name vs salary \n",
    "- Creating a bar graph depicting mean sales in each region\n",
    "- Creating a bar graph comparing salesman performance across regions (Inc. employees with no missing data)"
   ]
  },
  {
   "cell_type": "code",
   "execution_count": 13,
   "id": "lonely-iceland",
   "metadata": {},
   "outputs": [
    {
     "data": {
      "image/png": "[encoded data removed]",
      "text/plain": [
       "<Figure size 504x504 with 1 Axes>"
      ]
     },
     "metadata": {
      "needs_background": "light"
     },
     "output_type": "display_data"
    }
   ],
   "source": [
    "#Maximising the dark ink ratio of the pandas plot\n",
    "ax = plt.subplot(111)\n",
    "\n",
    "#Creating a line graph\n",
    "DataFrame1.plot(x = 'Name', y = 'Salary (in $)', kind='line', figsize=(7,7), rot = 40, ax = ax)\n",
    "\n",
    "#Setting parameters of the figure\n",
    "ax.set_title(\"Salary of Employee (in $'s)\", fontsize = 14, pad = 20)\n",
    "ax.set_xlabel('Employee', fontsize = 12)\n",
    "ax.set_ylabel('Salary (in $)', fontsize = 12)\n",
    "\n",
    "#Cleaning up the ticks and frames of the figure -- Setting y range limits\n",
    "plt.tick_params(left = True, bottom = False)\n",
    "ax.spines['right'].set_visible(False)\n",
    "ax.spines['top'].set_visible(False)\n",
    "\n",
    "#Setting y axis range limit and showing the plot\n",
    "ax.set_ylim([55000, 90000])\n",
    "plt.tight_layout()\n",
    "plt.show()"
   ]
  },
  {
   "cell_type": "code",
   "execution_count": 14,
   "id": "selected-forth",
   "metadata": {},
   "outputs": [
    {
     "data": {
      "image/png": "[encoded data removed]",
      "text/plain": [
       "<Figure size 504x504 with 1 Axes>"
      ]
     },
     "metadata": {
      "needs_background": "light"
     },
     "output_type": "display_data"
    }
   ],
   "source": [
    "#Maximising the dark ink ratio of the pandas plot\n",
    "ax = plt.subplot(111)\n",
    "\n",
    "#Creating a new mean_DataFrame3 containg mean_sales in each region -- Evaluating performance\n",
    "mean_DataFrame3 = pd.DataFrame(DataFrame3.mean(), columns = ['Mean_sales'])\n",
    "\n",
    "#Plotting the DataFrame as a bar graph\n",
    "mean_DataFrame3.plot(kind='bar', figsize=(7,7), rot = 40, ax = ax)\n",
    "\n",
    "#Setting parameters of the figure\n",
    "ax.set_title(\"Evaluating performance of each region\", fontsize=14, pad = 20)\n",
    "ax.set_ylabel('Mean Sales', fontsize = 12)\n",
    "\n",
    "#Cleaning up the ticks and frames of the figure\n",
    "plt.tick_params(left = True, bottom = False)\n",
    "ax.spines['right'].set_visible(False)\n",
    "ax.spines['top'].set_visible(False)\n",
    "\n",
    "#Setting y axis range limit and showing the plot\n",
    "ax.set_ylim([0, 9000])\n",
    "plt.tight_layout()\n",
    "plt.show()"
   ]
  },
  {
   "cell_type": "code",
   "execution_count": 18,
   "id": "indoor-image",
   "metadata": {},
   "outputs": [
    {
     "data": {
      "image/png": "[encoded data removed]",
      "text/plain": [
       "<Figure size 504x504 with 1 Axes>"
      ]
     },
     "metadata": {
      "needs_background": "light"
     },
     "output_type": "display_data"
    }
   ],
   "source": [
    "#Maximising the dark ink ratio of the pandas plot\n",
    "ax = plt.subplot(111)\n",
    "\n",
    "#Creating a new Dataframe to evaluate the performance of each salesman -- Having no missing data\n",
    "df3 = DataFrame3.copy()\n",
    "\n",
    "#Applying a lambda function to calculate the total sales\n",
    "df3['Total_sales'] = df3.apply(lambda x: x['Sales_region1'] + x['Sales_region2'] + x['Sales_region3'], axis=1)\n",
    "df3.dropna(axis=0, inplace = True)\n",
    "\n",
    "#Plotting the data containing total sales across all 3 regions for salesman\n",
    "df3.plot(x = 'Salesman_name', y = 'Total_sales', kind='bar', figsize = (7,7), rot = 40, ax = ax)\n",
    "\n",
    "#Setting parameters of the figure\n",
    "ax.set_title(\"Evaluating performance of each Salesman across 3 regions\", fontsize=13, pad = 20)\n",
    "ax.set_ylabel('Total Sales', fontsize = 12)\n",
    "\n",
    "#Cleaning up the ticks and frames of the figure\n",
    "plt.tick_params(left = False, bottom = False)\n",
    "ax.spines['right'].set_visible(False)\n",
    "ax.spines['top'].set_visible(False)\n",
    "\n",
    "#Setting y axis range limit and showing the plot\n",
    "ax.set_ylim([0, 20000])\n",
    "plt.tight_layout()\n",
    "plt.show()"
   ]
  },
  {
   "cell_type": "code",
   "execution_count": 1,
   "id": "loved-accused",
   "metadata": {},
   "outputs": [
    {
     "ename": "TypeError",
     "evalue": "'str' object does not support item assignment",
     "output_type": "error",
     "traceback": [
      "\u001b[0;31m---------------------------------------------------------------------------\u001b[0m",
      "\u001b[0;31mTypeError\u001b[0m                                 Traceback (most recent call last)",
      "\u001b[0;32m<ipython-input-1-ed2c7655a546>\u001b[0m in \u001b[0;36m<module>\u001b[0;34m\u001b[0m\n\u001b[1;32m      1\u001b[0m \u001b[0mst\u001b[0m \u001b[0;34m=\u001b[0m \u001b[0;34m\"Hello\"\u001b[0m\u001b[0;34m\u001b[0m\u001b[0;34m\u001b[0m\u001b[0m\n\u001b[0;32m----> 2\u001b[0;31m \u001b[0mst\u001b[0m\u001b[0;34m[\u001b[0m\u001b[0;36m1\u001b[0m\u001b[0;34m]\u001b[0m \u001b[0;34m=\u001b[0m \u001b[0;34m'Z'\u001b[0m\u001b[0;34m\u001b[0m\u001b[0;34m\u001b[0m\u001b[0m\n\u001b[0m",
      "\u001b[0;31mTypeError\u001b[0m: 'str' object does not support item assignment"
     ]
    }
   ],
   "source": []
  },
  {
   "cell_type": "code",
   "execution_count": null,
   "id": "caroline-master",
   "metadata": {},
   "outputs": [],
   "source": []
  }
 ],
 "metadata": {
  "kernelspec": {
   "display_name": "Python 3",
   "language": "python",
   "name": "python3"
  },
  "language_info": {
   "codemirror_mode": {
    "name": "ipython",
    "version": 3
   },
   "file_extension": ".py",
   "mimetype": "text/x-python",
   "name": "python",
   "nbconvert_exporter": "python",
   "pygments_lexer": "ipython3",
   "version": "3.8.5"
  }
 },
 "nbformat": 4,
 "nbformat_minor": 5
}
