{
 "cells": [
  {
   "cell_type": "markdown",
   "id": "educational-bonus",
   "metadata": {},
   "source": [
    "## Week 3 challenge"
   ]
  },
  {
   "cell_type": "markdown",
   "id": "awful-counter",
   "metadata": {},
   "source": [
    "### Importing necessary libraries"
   ]
  },
  {
   "cell_type": "code",
   "execution_count": 1,
   "id": "authorized-bacteria",
   "metadata": {},
   "outputs": [],
   "source": [
    "import math\n",
    "import sys"
   ]
  },
  {
   "cell_type": "markdown",
   "id": "comparative-november",
   "metadata": {},
   "source": [
    "**Q1** - *Write a program to accept an integer n greater than 10. Then print all the odd numbers from 1 to n.*"
   ]
  },
  {
   "cell_type": "code",
   "execution_count": 2,
   "id": "dominant-honolulu",
   "metadata": {},
   "outputs": [
    {
     "name": "stdout",
     "output_type": "stream",
     "text": [
      "Enter an integer greater than 10: 13\n",
      "1\n",
      "3\n",
      "5\n",
      "7\n",
      "9\n",
      "11\n",
      "13\n"
     ]
    }
   ],
   "source": [
    "#Checking acceptable entries using try-except and assert functions\n",
    "try:\n",
    "    num = int(input('Enter an integer greater than 10: '))\n",
    "    assert num > 10\n",
    "    for n in range(1, num+1):\n",
    "        if n % 2 != 0:\n",
    "            print(n)\n",
    "except:\n",
    "    print('Kindly check the value entered')"
   ]
  },
  {
   "cell_type": "markdown",
   "id": "unavailable-acrobat",
   "metadata": {},
   "source": [
    "**Q2** - *Write a program to accept an integer n greater than 10. Then print all the prime numbers from 1 to n.*"
   ]
  },
  {
   "cell_type": "code",
   "execution_count": 3,
   "id": "concrete-entity",
   "metadata": {},
   "outputs": [
    {
     "name": "stdout",
     "output_type": "stream",
     "text": [
      "Enter an integer greater than 10: 19\n",
      "\n",
      "Printing the prime numbers from 1 to 19:\n",
      "2\n",
      "3\n",
      "5\n",
      "7\n",
      "11\n",
      "13\n",
      "17\n",
      "19\n"
     ]
    }
   ],
   "source": [
    "try:\n",
    "    num = int(input('Enter an integer greater than 10: '))\n",
    "    assert num > 10\n",
    "    \n",
    "    print('\\nPrinting the prime numbers from 1 to {}:'.format(num))\n",
    "    #As the smallest prime number is always 2 -- starting from 1 is redundant\n",
    "    for n in range(2, num+1):\n",
    "        for seq in range(2,n):\n",
    "            if n % seq == 0:\n",
    "                break\n",
    "        else:\n",
    "            #Printing the number when it is a prime number\n",
    "            print(n)\n",
    "        \n",
    "except:\n",
    "    print('Kindly check the value entered')"
   ]
  },
  {
   "cell_type": "markdown",
   "id": "divided-rendering",
   "metadata": {},
   "source": [
    "**Q3** - *In this exercise you will create a program that computes the average of a collection of values entered by the user. The user will enter 0 as a sentinel value to indicate that no further values will be provided. Your program should display an appropriate error message if the first value entered by the user is 0.*"
   ]
  },
  {
   "cell_type": "code",
   "execution_count": 2,
   "id": "reduced-nashville",
   "metadata": {},
   "outputs": [
    {
     "name": "stdout",
     "output_type": "stream",
     "text": [
      "Enter the values for calculating average: 100 200 300 0 5000\n",
      "The average value of the collection: 200.00\n"
     ]
    }
   ],
   "source": [
    "#Assuming values are entered in a single line separated by a space -- e.g 5 10 12 0\n",
    "#Assuming that a correct input is defined by entering the sentinel value 0 somewhere in the collection\n",
    "\n",
    "#Creating a list with elements whose average needs to be computed\n",
    "num_ls = list(map(float, input('Enter the values for calculating average: ').split()))\n",
    "\n",
    "#Defining aggregating variables\n",
    "total = 0\n",
    "count = 0\n",
    "\n",
    "#Handling the case where the first element entered was 0\n",
    "if num_ls[0] == 0:\n",
    "    print('The first value entered was 0. Kindly enter values again') \n",
    "    \n",
    "#Handling a scenario to avoid infinite loops -- If 0 not present in collection an error is thrown \n",
    "#As program wouldn't know when to stop\n",
    "elif (0 not in num_ls):\n",
    "    print('The sentinel value of 0 was not provided in the collection')\n",
    "    \n",
    "else:\n",
    "    #Temporary var for indexing\n",
    "    idx = 0\n",
    "    \n",
    "    #Continue iteration until a 0 is found\n",
    "    while num_ls[idx] != 0:\n",
    "        \n",
    "        #Aggregating the values\n",
    "        total += num_ls[idx]\n",
    "        count += 1\n",
    "        idx += 1 \n",
    "        \n",
    "    avg = total/count\n",
    "    print('The average value of the collection: {:.2f}'.format(avg))"
   ]
  },
  {
   "cell_type": "code",
   "execution_count": 4,
   "id": "instant-ranking",
   "metadata": {},
   "outputs": [
    {
     "name": "stdout",
     "output_type": "stream",
     "text": [
      "Enter a number: 0\n"
     ]
    },
    {
     "ename": "ZeroDivisionError",
     "evalue": "division by zero",
     "output_type": "error",
     "traceback": [
      "\u001b[0;31m---------------------------------------------------------------------------\u001b[0m",
      "\u001b[0;31mZeroDivisionError\u001b[0m                         Traceback (most recent call last)",
      "\u001b[0;32m<ipython-input-4-f56aed1076c0>\u001b[0m in \u001b[0;36m<module>\u001b[0;34m\u001b[0m\n\u001b[1;32m      9\u001b[0m     \u001b[0mcon\u001b[0m \u001b[0;34m+=\u001b[0m \u001b[0;36m1\u001b[0m\u001b[0;34m\u001b[0m\u001b[0;34m\u001b[0m\u001b[0m\n\u001b[1;32m     10\u001b[0m \u001b[0;34m\u001b[0m\u001b[0m\n\u001b[0;32m---> 11\u001b[0;31m \u001b[0mavg\u001b[0m \u001b[0;34m=\u001b[0m \u001b[0mtot\u001b[0m\u001b[0;34m/\u001b[0m\u001b[0mcon\u001b[0m\u001b[0;34m\u001b[0m\u001b[0;34m\u001b[0m\u001b[0m\n\u001b[0m\u001b[1;32m     12\u001b[0m \u001b[0mprint\u001b[0m\u001b[0;34m(\u001b[0m\u001b[0mavg\u001b[0m\u001b[0;34m)\u001b[0m\u001b[0;34m\u001b[0m\u001b[0;34m\u001b[0m\u001b[0m\n",
      "\u001b[0;31mZeroDivisionError\u001b[0m: division by zero"
     ]
    }
   ],
   "source": [
    "tot = 0\n",
    "con = 0\n",
    "while True:\n",
    "    n = int(input('Enter a number: '))\n",
    "    if n == 0:\n",
    "        break\n",
    "    \n",
    "    tot += n\n",
    "    con += 1\n",
    "    \n",
    "avg = tot/con\n",
    "print(avg)"
   ]
  },
  {
   "cell_type": "markdown",
   "id": "geological-patent",
   "metadata": {},
   "source": [
    "**Q4** - *Write a program that takes a number as input and prints its multiplication table.*"
   ]
  },
  {
   "cell_type": "code",
   "execution_count": 6,
   "id": "aerial-cooler",
   "metadata": {},
   "outputs": [
    {
     "name": "stdout",
     "output_type": "stream",
     "text": [
      "Enter an integer: 18\n",
      "18.0 X  1 =   18.00\n",
      "18.0 X  2 =   36.00\n",
      "18.0 X  3 =   54.00\n",
      "18.0 X  4 =   72.00\n",
      "18.0 X  5 =   90.00\n",
      "18.0 X  6 =  108.00\n",
      "18.0 X  7 =  126.00\n",
      "18.0 X  8 =  144.00\n",
      "18.0 X  9 =  162.00\n",
      "18.0 X 10 =  180.00\n"
     ]
    }
   ],
   "source": [
    "#Assuming we want to print its first 10 multiples and allowing rational numbers to be considered as well\n",
    "\n",
    "try:\n",
    "    num = float(input('Enter an integer: '))\n",
    "            \n",
    "    #Printing the first 10 multiples    \n",
    "    for i in range(1,11):\n",
    "        #Storing a temporary variable for printing\n",
    "        tmp = num * i\n",
    "        print('{0} X {1:2} = {2:7.2f}'.format(num, i, tmp))   \n",
    "        \n",
    "except:\n",
    "    #Taking care of any incorrect entries \n",
    "    print('Check the value entered')"
   ]
  },
  {
   "cell_type": "markdown",
   "id": "neural-bandwidth",
   "metadata": {},
   "source": [
    "**Q5** - *Write a program that displays a temperature conversion table for degrees Celsius and degrees Fahrenheit. The table should include rows for all temperatures between 0 and 100 degrees Celsius that are multiples of 10 degrees Celsius. Include appropriate headings on your columns.*"
   ]
  },
  {
   "cell_type": "code",
   "execution_count": 7,
   "id": "together-detroit",
   "metadata": {},
   "outputs": [
    {
     "name": "stdout",
     "output_type": "stream",
     "text": [
      "Temp_celsius         Temp_Fahrenheit\n",
      "      0                    32.0\n",
      "     10                    50.0\n",
      "     20                    68.0\n",
      "     30                    86.0\n",
      "     40                   104.0\n",
      "     50                   122.0\n",
      "     60                   140.0\n",
      "     70                   158.0\n",
      "     80                   176.0\n",
      "     90                   194.0\n",
      "    100                   212.0\n"
     ]
    }
   ],
   "source": [
    "print('{0:20} {1}'.format('Temp_celsius', 'Temp_Fahrenheit'))\n",
    "\n",
    "def get_tempf(temp_c):\n",
    "    \"\"\"\n",
    "    Given a temp in celsius the function returns the temperature in fahrenheit\n",
    "    \"\"\"\n",
    "    return round(((9/5) * temp_c) + 32, 2)\n",
    "\n",
    "#Iterating over the acceptable values of temperature -- Assuming inclusive of 0 & 100\n",
    "for temp_c in range(0,101,10):\n",
    "    \n",
    "    #Apt spacing is chosen as column width with center alignment\n",
    "    print('{0:7} {1:23}'.format(temp_c, get_tempf(temp_c)))"
   ]
  },
  {
   "cell_type": "markdown",
   "id": "elementary-witch",
   "metadata": {},
   "source": [
    "**Q6** - *A string is a palindrome if it is identical forward and backward. For example “anna”, “civic”, “level” and “madam” are all examples of palindrome words. Write a program that reads a string from the user and uses a loop to determine whether or not it is a palindrome. Display the result, including a meaningful output message.*"
   ]
  },
  {
   "cell_type": "code",
   "execution_count": 8,
   "id": "dietary-hazard",
   "metadata": {},
   "outputs": [
    {
     "name": "stdout",
     "output_type": "stream",
     "text": [
      "Enter a string to check for palindrome behavior: madam madam\n",
      "The entered string 'madam madam' is a palindrome\n"
     ]
    }
   ],
   "source": [
    "#Also accounting for the situation where spaces are accounted\n",
    "st = input('Enter a string to check for palindrome behavior: ')\n",
    "st_nospace = st.replace(' ','')\n",
    "\n",
    "#To check whether forward and reverse characters match\n",
    "rev = st_nospace[::-1]\n",
    "\n",
    "#Iterating over the length of the string \n",
    "for i in range(len(st_nospace)):\n",
    "    \n",
    "    #Checking whether characters don't match\n",
    "    if st_nospace[i] != rev[i]:\n",
    "        print(\"The entered string '{}' is not a palindrome\".format(st))\n",
    "        break\n",
    "\n",
    "else:\n",
    "    print(\"The entered string '{}' is a palindrome\".format(st))"
   ]
  },
  {
   "cell_type": "markdown",
   "id": "pacific-perth",
   "metadata": {},
   "source": [
    "**Q7** - *The greatest common divisor (GCD) of two positive integers, n and m, is the largest number, d, which divides evenly into both n and m. The following algorithm is used to find GCD of n and m :*\n",
    "\n",
    "- Initialize d to the smaller of m and n.\n",
    "- While d does not evenly divide m or d does not evenly divide n do decrease the value of d by 1\n",
    "- Report d as the greatest common divisor of n and m\n",
    "\n",
    "*Write a program that reads two positive integers from the user and uses this algorithm to determine and report their greatest common divisor.*"
   ]
  },
  {
   "cell_type": "code",
   "execution_count": 9,
   "id": "younger-grocery",
   "metadata": {},
   "outputs": [
    {
     "name": "stdout",
     "output_type": "stream",
     "text": [
      "Enter the first number: 48\n",
      "Enter the second number: 180\n",
      "The greatest common divisor of numbers 48 and 180: 12\n"
     ]
    }
   ],
   "source": [
    "def get_gcd(a, b):\n",
    "    \"\"\"\n",
    "    Takes two numbers a & b and returns their Greatest common divisor (GCD) \n",
    "    \"\"\"\n",
    "    #The largest gcd between two numbers can be the minimum of the two\n",
    "    tmp = min(a,b)\n",
    "    \n",
    "    #Checking linearly from tmp to 1 by decrementing it on every iteration\n",
    "    while tmp > 0:\n",
    "        \n",
    "        #If the tmp variable is the common divisor come out of the while loop\n",
    "        if (a % tmp == 0) and (b % tmp == 0):\n",
    "            break\n",
    "        tmp -= 1\n",
    "    \n",
    "    return tmp\n",
    "    \n",
    "try:\n",
    "    num1 = int(input('Enter the first number: '))\n",
    "    num2 = int(input('Enter the second number: '))\n",
    "    assert num1 > 0 \n",
    "    assert num2 > 0\n",
    "    print('The greatest common divisor of numbers {} and {}: {}'.format(num1, num2, get_gcd(num1, num2)))\n",
    "    \n",
    "except:\n",
    "    print('Check values entered as input')"
   ]
  },
  {
   "cell_type": "markdown",
   "id": "preliminary-transportation",
   "metadata": {},
   "source": [
    "**Q8** - *The prime factorization of an integer, n, can be determined using the following steps:*\n",
    "\n",
    "- Initialize factor to two\n",
    "- While factor is less than or equal to n do\n",
    "- If n is evenly divisible by factor then conclude that factor is a factor of n\n",
    "- Divide n by factor using integer division\n",
    "\n",
    "Else\n",
    "- Increase factor by one\n",
    "\n",
    "*Write a program that reads an integer from the user. If the value entered by the user is less than 2 then your program should display an appropriate error message. Otherwise your program should display the prime numbers that can be multiplied together to compute n, with one factor appearing on each line.*"
   ]
  },
  {
   "cell_type": "code",
   "execution_count": 10,
   "id": "silent-disability",
   "metadata": {},
   "outputs": [
    {
     "name": "stdout",
     "output_type": "stream",
     "text": [
      "Enter a number to evaluate its prime factorisation: 130\n",
      "2\n",
      "5\n",
      "13\n"
     ]
    }
   ],
   "source": [
    "def prime_factorize(num):\n",
    "    \"\"\"\n",
    "    Takes an integer num as input and returns the prime numbers that\n",
    "    can be multiplied together to compute num\n",
    "    \"\"\"\n",
    "    \n",
    "    #As this is the smallest prime number\n",
    "    fact = 2\n",
    "    \n",
    "    #Checking from smallest prime number to n for prime factors\n",
    "    while fact <= num:\n",
    "        if num % fact == 0:\n",
    "            #Printing the prime factor\n",
    "            print(fact)\n",
    "            \n",
    "            #Integer division with prime factor\n",
    "            num //= fact\n",
    "        else:\n",
    "            #Incase current fact value is not a prime factor for num\n",
    "            fact += 1\n",
    "\n",
    "try:\n",
    "    num = int(input('Enter a number to evaluate its prime factorisation: '))\n",
    "    #Allowing inputs strictly greater than 2\n",
    "    assert num > 2\n",
    "    \n",
    "    #Running the prime factorization function\n",
    "    prime_factorize(num)\n",
    "\n",
    "except:\n",
    "    print('The value entered by the user is less than 2')"
   ]
  },
  {
   "cell_type": "markdown",
   "id": "several-communication",
   "metadata": {},
   "source": [
    "**Q9** - *Write a program that converts a binary (base 2) number to decimal (base 10). Your program should begin by reading the binary number from the user as a string. Then it should compute the equivalent decimal number by processing each digit in the binary number. Finally, your program should display the equivalent decimal number with an appropriate message.*"
   ]
  },
  {
   "cell_type": "code",
   "execution_count": 11,
   "id": "driving-bolivia",
   "metadata": {},
   "outputs": [
    {
     "name": "stdout",
     "output_type": "stream",
     "text": [
      "Enter the binary string: 1000\n",
      "The decimal value for the given binary string '1000': 8\n"
     ]
    }
   ],
   "source": [
    "bin_string = input('Enter the binary string: ')\n",
    "\n",
    "#Reversing the string making it easier for calculation\n",
    "rev = bin_string[::-1]\n",
    "\n",
    "#Temporary variable to index across the length of the binary string\n",
    "idx = 0\n",
    "#Aggregating variable for decimal value\n",
    "dec_val = 0\n",
    "\n",
    "while idx < len(rev):\n",
    "    #Using the logic of converting binary string to decimal values using 2^idx position\n",
    "    dec_val += (int(rev[idx]) * 2**idx)\n",
    "    idx += 1\n",
    "    \n",
    "print(\"The decimal value for the given binary string '{}': {}\".format(bin_string,dec_val))"
   ]
  },
  {
   "cell_type": "markdown",
   "id": "first-kidney",
   "metadata": {},
   "source": [
    "**Q10** - *Demonstrate the formatting capabilities of format function on integers, floats and strings.*"
   ]
  },
  {
   "cell_type": "code",
   "execution_count": 12,
   "id": "tired-grenada",
   "metadata": {},
   "outputs": [
    {
     "name": "stdout",
     "output_type": "stream",
     "text": [
      "Formatting capabilities on integers:\n",
      "A banana costs Rs 15\n",
      "A banana costs Rs    15\n",
      "A banana costs Rs 200/kg and an apple costs 500/kg\n",
      "\n",
      "**********\n",
      "\n",
      "Formatting capabilities on floats:\n",
      "An apple costs Rs 15.25\n",
      "An apple costs Rs 15.254\n",
      "An apple costs Rs 15.20\n",
      "An apple costs Rs      15.23\n",
      "An apple costs Rs      15.36\n",
      "\n",
      "**********\n",
      "\n",
      "Formatting capabilities on strings:\n",
      "Litchi is my favourite fruit\n",
      "Litchi is my favourite fruit\n",
      "Litchi and Mango are my favourite fruits\n",
      "Litchi               is my favourite fruit\n",
      "Litchi               and Mango           are my favourite fruits.\n",
      "Shardul, Dinesh and Karim are my best friends.\n"
     ]
    }
   ],
   "source": [
    "print('Formatting capabilities on integers:')\n",
    "print('A banana costs Rs {}'.format(15))                 #Normal formatting\n",
    "print('A banana costs Rs {0:5}'.format(15))              #With integers the text gets right justified with 5 spaces\n",
    "print('A banana costs Rs {}/kg and an apple costs {}/kg'.format(200, 500))   #Multiple values\n",
    "print('\\n**********\\n')\n",
    "\n",
    "print('Formatting capabilities on floats:')\n",
    "print('An apple costs Rs {}'.format(15.25))              #Normal formatting\n",
    "print('An apple costs Rs {:.3f}'.format(15.2535))        #Rounding upto 3 decimals\n",
    "print('An apple costs Rs {:.2f}'.format(15.2))           #Rounding upto 2 decimals -- adds a 0 in case it falls short\n",
    "print('An apple costs Rs {0:10}'.format(15.23))          #Right justified with floats with total 10 spaces\n",
    "print('An apple costs Rs {0:10.2f}'.format(15.355))      #10 right spaces + Rounding upto 2 decimal places\n",
    "print('\\n**********\\n')\n",
    "\n",
    "print('Formatting capabilities on strings:')\n",
    "print('{} is my favourite fruit'.format('Litchi'))       #Normal formatting\n",
    "print('{fruit} is my favourite fruit'.format(fruit = 'Litchi'))           #Formatting using a variable\n",
    "print('{0} and {1} are my favourite fruits'.format('Litchi', 'Mango'))    #Formatting using index positions\n",
    "print('{0:20} is my favourite fruit'.format('Litchi'))   #Left spacing of 20 characs with string being left justified\n",
    "print('{0:20} and {1:15} are my favourite fruits.'.format('Litchi','Mango'))  #Multiple entries adjustment\n",
    "print('{1}, {2} and {0} are my best friends.'.format('Karim','Shardul','Dinesh'))  #Based on idx position"
   ]
  }
 ],
 "metadata": {
  "kernelspec": {
   "display_name": "Python 3",
   "language": "python",
   "name": "python3"
  },
  "language_info": {
   "codemirror_mode": {
    "name": "ipython",
    "version": 3
   },
   "file_extension": ".py",
   "mimetype": "text/x-python",
   "name": "python",
   "nbconvert_exporter": "python",
   "pygments_lexer": "ipython3",
   "version": "3.8.5"
  }
 },
 "nbformat": 4,
 "nbformat_minor": 5
}
